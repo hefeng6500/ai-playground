{
 "cells": [
  {
   "cell_type": "code",
   "execution_count": null,
   "id": "427fa311",
   "metadata": {},
   "outputs": [],
   "source": [
    "from transformers import pipeline\n",
    "\n",
    "# 加载情感分析 pipeline\n",
    "classifier = pipeline(\"sentiment-analysis\", model=\"bert-base-uncased\")\n",
    "\n",
    "# 推理\n",
    "result = classifier(\"This movie was awesome!\")\n",
    "print(result)  # [{'label': 'POSITIVE', 'score': 0.999...}]\n"
   ]
  },
  {
   "cell_type": "code",
   "execution_count": null,
   "id": "9e217154",
   "metadata": {},
   "outputs": [],
   "source": [
    "# Use a pipeline as a high-level helper\n",
    "from transformers import pipeline\n",
    "\n",
    "pipe = pipeline(\"fill-mask\", model=\"google-bert/bert-base-chinese\")\n",
    "\n",
    "result = pipe(\"我是一个[MASK]\")\n",
    "print(result)"
   ]
  },
  {
   "cell_type": "code",
   "execution_count": null,
   "id": "29c3bb26",
   "metadata": {},
   "outputs": [],
   "source": [
    "from transformers import AutoTokenizer, AutoModelForMaskedLM\n",
    "import torch\n",
    "\n",
    "# 加载模型和 tokenizer\n",
    "tokenizer = AutoTokenizer.from_pretrained(\"google-bert/bert-base-chinese\")\n",
    "model = AutoModelForMaskedLM.from_pretrained(\"google-bert/bert-base-chinese\")\n",
    "\n",
    "# 设置模型为评估模式\n",
    "model.eval()\n",
    "\n",
    "# 输入文本：注意 [MASK] 是英文方括号加大写字母\n",
    "text = \"我喜欢吃[MASK]。\"\n",
    "\n",
    "# 编码\n",
    "inputs = tokenizer(text, return_tensors=\"pt\")\n",
    "\n",
    "# 获取模型输出\n",
    "with torch.no_grad():\n",
    "    outputs = model(**inputs)\n",
    "    logits = outputs.logits\n",
    "\n",
    "# 找到 [MASK] 位置\n",
    "mask_token_index = (inputs.input_ids == tokenizer.mask_token_id)[0].nonzero(as_tuple=True)[0]\n",
    "\n",
    "# 获取该位置预测结果，取概率最高的前 5 个词\n",
    "top_k = 5\n",
    "mask_logits = logits[0, mask_token_index, :]\n",
    "top_tokens = torch.topk(mask_logits, top_k, dim=1).indices[0].tolist()\n",
    "\n",
    "print(f\"原句：{text}\")\n",
    "print(\"预测：\")\n",
    "for token_id in top_tokens:\n",
    "    token = tokenizer.decode([token_id])\n",
    "    print(f\" -> 我喜欢吃{token}。\")\n"
   ]
  }
 ],
 "metadata": {
  "kernelspec": {
   "display_name": "p310",
   "language": "python",
   "name": "python3"
  },
  "language_info": {
   "codemirror_mode": {
    "name": "ipython",
    "version": 3
   },
   "file_extension": ".py",
   "mimetype": "text/x-python",
   "name": "python",
   "nbconvert_exporter": "python",
   "pygments_lexer": "ipython3",
   "version": "3.10.18"
  }
 },
 "nbformat": 4,
 "nbformat_minor": 5
}
