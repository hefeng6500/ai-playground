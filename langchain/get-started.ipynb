{
 "cells": [
  {
   "cell_type": "code",
   "execution_count": 4,
   "id": "7312da54",
   "metadata": {},
   "outputs": [],
   "source": [
    "import getpass\n",
    "import os\n",
    "\n",
    "from langchain_openai import ChatOpenAI\n",
    "from langchain_core.prompts import ChatPromptTemplate\n",
    "from langchain_core.output_parsers import StrOutputParser\n",
    "from pydantic import SecretStr\n",
    "from dotenv import load_dotenv"
   ]
  },
  {
   "cell_type": "markdown",
   "id": "ea33c101",
   "metadata": {},
   "source": [
    "## DeepSeek(官方)"
   ]
  },
  {
   "cell_type": "code",
   "execution_count": 5,
   "id": "2a2ee176",
   "metadata": {},
   "outputs": [
    {
     "name": "stdout",
     "output_type": "stream",
     "text": [
      "我是DeepSeek-V3，由深度求索公司开发的智能助手，可以帮你解答问题、处理信息或提供建议。有什么可以帮你的？😊\n"
     ]
    }
   ],
   "source": [
    "if not os.environ.get(\"DEEPSEEK_API_KEY\"):\n",
    "    os.environ[\"DEEPSEEK_API_KEY\"] = getpass.getpass(\"Enter API key for DeepSeek: \")\n",
    "\n",
    "DEEPSEEK_API_KEY = os.environ.get(\"DEEPSEEK_API_KEY\")\n",
    "\n",
    "prompt = ChatPromptTemplate.from_messages(\n",
    "    [(\"system\", \"You are a concise assistant.\"), (\"user\", \"{input}\")]\n",
    ")\n",
    "\n",
    "llm = ChatOpenAI(\n",
    "    model=\"deepseek-chat\",\n",
    "    base_url=\"https://api.deepseek.com\",\n",
    "    api_key=SecretStr(DEEPSEEK_API_KEY) if DEEPSEEK_API_KEY else None,\n",
    ")\n",
    "\n",
    "\n",
    "chain = prompt | llm | StrOutputParser()\n",
    "\n",
    "if __name__ == \"__main__\":\n",
    "    print(chain.invoke({\"input\": \"你是谁？\"}))\n"
   ]
  },
  {
   "cell_type": "markdown",
   "id": "d6b325ca",
   "metadata": {},
   "source": [
    "## Qwen(硅基流动)"
   ]
  },
  {
   "cell_type": "code",
   "execution_count": 6,
   "id": "1b090fa5",
   "metadata": {},
   "outputs": [
    {
     "name": "stdout",
     "output_type": "stream",
     "text": [
      "我是通义千问，阿里巴巴集团旗下的通义实验室自主研发的超大规模语言模型。我能够帮助你回答问题、创作文字，比如写故事、写公文、写邮件、写剧本、逻辑推理、编程等等，还能表达观点，玩游戏等。如果你有任何问题或需要帮助，欢迎随时告诉我！\n"
     ]
    }
   ],
   "source": [
    "if not os.environ.get(\"SILICONFLOW_API_KEY\"):\n",
    "    os.environ[\"SILICONFLOW_API_KEY\"] = getpass.getpass(\n",
    "        \"Enter API key for SiliconFlow: \"\n",
    "    )\n",
    "\n",
    "SILICONFLOW_API_KEY = os.environ.get(\"SILICONFLOW_API_KEY\")\n",
    "\n",
    "\n",
    "prompt = ChatPromptTemplate.from_messages(\n",
    "\n",
    "    [(\"system\", \"You are a concise assistant.\"), (\"user\", \"{input}\")]\n",
    ")\n",
    "\n",
    "\n",
    "llm = ChatOpenAI(\n",
    "\n",
    "    model=\"Qwen/Qwen3-Coder-480B-A35B-Instruct\",\n",
    "\n",
    "    base_url=\"https://api.siliconflow.cn/v1\",\n",
    "\n",
    "    api_key=SecretStr(SILICONFLOW_API_KEY) if SILICONFLOW_API_KEY else None,\n",
    ")\n",
    "\n",
    "\n",
    "\n",
    "chain = prompt | llm | StrOutputParser()\n",
    "\n",
    "\n",
    "if __name__ == \"__main__\":\n",
    "\n",
    "    print(chain.invoke({\"input\": \"你是谁？\"}))"
   ]
  }
 ],
 "metadata": {
  "kernelspec": {
   "display_name": "p310",
   "language": "python",
   "name": "python3"
  },
  "language_info": {
   "codemirror_mode": {
    "name": "ipython",
    "version": 3
   },
   "file_extension": ".py",
   "mimetype": "text/x-python",
   "name": "python",
   "nbconvert_exporter": "python",
   "pygments_lexer": "ipython3",
   "version": "3.10.18"
  }
 },
 "nbformat": 4,
 "nbformat_minor": 5
}
