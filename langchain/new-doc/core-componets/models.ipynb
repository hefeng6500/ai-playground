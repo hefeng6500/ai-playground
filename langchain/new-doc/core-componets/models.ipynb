{
 "cells": [
  {
   "cell_type": "markdown",
   "id": "3bc583aebb7345ce",
   "metadata": {},
   "source": [
    "# Models"
   ]
  },
  {
   "cell_type": "code",
   "execution_count": 2,
   "id": "d74cf04036e0f2ce",
   "metadata": {},
   "outputs": [
    {
     "name": "stdout",
     "output_type": "stream",
     "text": [
      "content='Parrots talk mainly because they are natural vocal learners and highly social birds.\\n\\n- Biology: Their brains and their special voice box (the syrinx) let them imitate a wide range of sounds. Some species are especially good at learning new noises and words.\\n\\n- Social reasons: In the wild, parrots use sounds to stay in touch with their flock, signal danger, attract mates, and coordinate activities. Mimicking other noises is part of how they fit into their social group.\\n\\n- In captivity: When kept as pets, they often imitate human speech to get attention, companionship, or a reward. If people talk to them a lot or reward words, they’ll repeat those words more.\\n\\n- Not all parrots talk: Some species and individuals talk more than others, and some may never learn to speak. A few parrots can use words in useful ways or show understanding of simple concepts, but many just imitate.\\n\\n- About understanding: They may not “mean” the words like humans do, but they can learn which sounds go with certain contexts or objects, especially with training and reinforcement.\\n\\nIf you’re trying to encourage talking, spend time talking to your parrot, use clear phrases, and reward attempts. Provide plenty of enrichment so they’re motivated to vocalize.' additional_kwargs={'refusal': None} response_metadata={'token_usage': {'completion_tokens': 1417, 'prompt_tokens': 12, 'total_tokens': 1429, 'completion_tokens_details': {'accepted_prediction_tokens': 0, 'audio_tokens': 0, 'reasoning_tokens': 1152, 'rejected_prediction_tokens': 0}, 'prompt_tokens_details': {'audio_tokens': 0, 'cached_tokens': 0}}, 'model_name': 'gpt-5-nano-2025-08-07', 'system_fingerprint': None, 'id': 'chatcmpl-CKahNTYtcbltoDgTtteYlDJ0Mr74D', 'service_tier': None, 'finish_reason': 'stop', 'logprobs': None} id='run--d108828f-98e1-42fb-882a-ba8e8f93c9e9-0' usage_metadata={'input_tokens': 12, 'output_tokens': 1417, 'total_tokens': 1429, 'input_token_details': {'audio': 0, 'cache_read': 0}, 'output_token_details': {'audio': 0, 'reasoning': 1152}}\n"
     ]
    }
   ],
   "source": [
    "from langchain.chat_models import init_chat_model\n",
    "\n",
    "model = init_chat_model(\"openai:gpt-5-nano\")\n",
    "response = model.invoke(\"Why do parrots talk?\")\n",
    "\n",
    "print(response)"
   ]
  },
  {
   "cell_type": "markdown",
   "id": "cdadf60c9f70ad62",
   "metadata": {},
   "source": [
    "## 模型传入的参数\n",
    "\n",
    "- model\n",
    "- api_key\n",
    "- temperature\n",
    "- max_tokens\n",
    "- max-retries\n",
    "\n"
   ]
  },
  {
   "cell_type": "markdown",
   "id": "925270bef16e4aa5",
   "metadata": {},
   "source": [
    "## 1. 调用"
   ]
  },
  {
   "cell_type": "code",
   "execution_count": null,
   "id": "bb959fa5f34802cf",
   "metadata": {},
   "outputs": [],
   "source": [
    "response = model.invoke(\"Why do parrots have colorful feathers?\")\n",
    "print(response)"
   ]
  },
  {
   "cell_type": "code",
   "execution_count": null,
   "id": "c806c20967fe4c0b",
   "metadata": {},
   "outputs": [],
   "source": [
    "from langchain.messages import HumanMessage, AIMessage, SystemMessage\n",
    "\n",
    "conversation = [\n",
    "    SystemMessage(\"You are a helpful assistant that translates English to French.\"),\n",
    "    HumanMessage(\"Translate: I love programming.\"),\n",
    "    AIMessage(\"J'adore la programmation.\"),\n",
    "    HumanMessage(\"Translate: I love building applications.\")\n",
    "]\n",
    "\n",
    "response = model.invoke(conversation)\n",
    "print(response)  # AIMessage(\"J'adore créer des applications.\")"
   ]
  },
  {
   "cell_type": "markdown",
   "id": "2f309f068fbee1b6",
   "metadata": {},
   "source": [
    "### 流式传输"
   ]
  },
  {
   "cell_type": "code",
   "execution_count": null,
   "id": "5c61bad4ba517cca",
   "metadata": {},
   "outputs": [],
   "source": [
    "for chunk in model.stream(\"Why do parrots have colorful feathers?\"):\n",
    "    print(chunk.text, end=\"|\", flush=True)"
   ]
  },
  {
   "cell_type": "code",
   "execution_count": null,
   "id": "7b8965f8f60d0d9b",
   "metadata": {},
   "outputs": [],
   "source": [
    "full = None  # None | AIMessageChunk\n",
    "for chunk in model.stream(\"What color is the sky?\"):\n",
    "    full = chunk if full is None else full + chunk\n",
    "    print(full.text)\n",
    "\n",
    "# The\n",
    "# The sky\n",
    "# The sky is\n",
    "# The sky is typically\n",
    "# The sky is typically blue\n",
    "# ...\n",
    "\n",
    "print(full.content)\n",
    "# Usually blue during the day. That blue comes from Rayleigh scattering: sunlight hits the atmosphere and the shorter blue wavelengths scatter in all directions. The color can change: red/orange/pink at sunrise and sunset, gray on cloudy days, and dark at night (with stars visible). Want the answer for a specific time or place?"
   ]
  },
  {
   "cell_type": "markdown",
   "id": "8608d0b4d4126253",
   "metadata": {},
   "source": [
    "### 批量 Batch"
   ]
  },
  {
   "cell_type": "code",
   "execution_count": null,
   "id": "f24ff03cf16772e5",
   "metadata": {},
   "outputs": [],
   "source": [
    "# 返回整个批次的最终输出\n",
    "responses = model.batch([\n",
    "    \"Why do parrots have colorful feathers?\",\n",
    "    \"How do airplanes fly?\",\n",
    "    \"What is quantum computing?\"\n",
    "])\n",
    "for response in responses:\n",
    "    print(response.content)"
   ]
  },
  {
   "cell_type": "code",
   "execution_count": null,
   "id": "4cb3a35a7d81904f",
   "metadata": {},
   "outputs": [],
   "source": [
    "# 逐个接收每个输入生成完成时的输出.在使用 batch_as_completed() 时，结果可能会乱序到达。每个结果都包含输入索引，以便在需要时匹配以重建原始顺序。\n",
    "for response in model.batch_as_completed([\n",
    "    \"Why do parrots have colorful feathers?\",\n",
    "    \"How do airplanes fly?\",\n",
    "    \"What is quantum computing?\"\n",
    "]):\n",
    "    print(response)"
   ]
  },
  {
   "cell_type": "markdown",
   "id": "a6d175abec11c3f2",
   "metadata": {},
   "source": [
    "## 2.工具调用"
   ]
  },
  {
   "cell_type": "code",
   "execution_count": null,
   "id": "d214a2d8c650fcf3",
   "metadata": {},
   "outputs": [],
   "source": [
    "from langchain_core.tools import tool\n",
    "\n",
    "@tool\n",
    "def get_weather(location: str) -> str:\n",
    "    \"\"\"Get the weather at a location.\"\"\"\n",
    "    return f\"It's sunny in {location}.\"\n",
    "\n",
    "\n",
    "model_with_tools = model.bind_tools([get_weather])\n",
    "\n",
    "response = model_with_tools.invoke(\"What's the weather like in Boston?\")\n",
    "\n",
    "for tool_call in response.tool_calls:\n",
    "    # View tool calls made by the model\n",
    "    print(f\"Tool: {tool_call['name']}\")\n",
    "    print(f\"Args: {tool_call['args']}\")"
   ]
  },
  {
   "cell_type": "markdown",
   "id": "e9324cc61d64bf2f",
   "metadata": {},
   "source": [
    "## 2.1 工具执行循环"
   ]
  },
  {
   "cell_type": "code",
   "execution_count": null,
   "id": "2f97b4cb81de3d7d",
   "metadata": {},
   "outputs": [],
   "source": [
    "# 将（可能多个）工具绑定到模型\n",
    "model_with_tools = model.bind_tools([get_weather])\n",
    "\n",
    "# Step 1: 模型生成工具调用\n",
    "messages = [{\"role\": \"user\", \"content\": \"What's the weather in Boston?\"}]\n",
    "ai_msg = model_with_tools.invoke(messages)\n",
    "messages.append(ai_msg)\n",
    "\n",
    "# Step 2: 执行工具并收集结果\n",
    "for tool_call in ai_msg.tool_calls:\n",
    "    # 使用生成的参数执行该工具\n",
    "    tool_result = get_weather.invoke(tool_call)\n",
    "    messages.append(tool_result)\n",
    "\n",
    "# Step 3: 将结果传回模型以获得最终响应\n",
    "final_response = model_with_tools.invoke(messages)\n",
    "print(final_response.text)\n",
    "# \"The current weather in Boston is 72°F and sunny.\""
   ]
  },
  {
   "cell_type": "markdown",
   "id": "3481e766e57a6d8e",
   "metadata": {},
   "source": [
    "2.2 强制工具调用\n",
    "\n",
    "强制使用任何工具： \n",
    "```python\n",
    "model_with_tools = model.bind_tools([tool_1], tool_choice=\"any\")\n",
    "```\n",
    "\n",
    "强制使用特定工具\n",
    "```python\n",
    "model_with_tools = model.bind_tools([tool_1], tool_choice=\"tool_1\")\n",
    "```"
   ]
  },
  {
   "cell_type": "markdown",
   "id": "72b8b67a8c5ef9e4",
   "metadata": {},
   "source": [
    "### 2.3 并行工具调用\n"
   ]
  },
  {
   "cell_type": "code",
   "execution_count": null,
   "id": "b271bd0c6e16f768",
   "metadata": {},
   "outputs": [],
   "source": [
    "model_with_tools = model.bind_tools([get_weather])\n",
    "\n",
    "response = model_with_tools.invoke(\n",
    "    \"What's the weather in Boston and Tokyo?\"\n",
    ")\n",
    "\n",
    "\n",
    "# The model may generate multiple tool calls\n",
    "print(response.tool_calls)\n",
    "# [\n",
    "#   {'name': 'get_weather', 'args': {'location': 'Boston'}, 'id': 'call_1'},\n",
    "#   {'name': 'get_time', 'args': {'location': 'Tokyo'}, 'id': 'call_2'}\n",
    "# ]\n",
    "\n",
    "\n",
    "# Execute all tools (can be done in parallel with async)\n",
    "results = []\n",
    "for tool_call in response.tool_calls:\n",
    "    if tool_call['name'] == 'get_weather':\n",
    "        result = get_weather.invoke(tool_call)\n",
    "    # ...\n",
    "    results.append(result)\n",
    "    \n",
    "print( results)"
   ]
  },
  {
   "cell_type": "markdown",
   "id": "3f104d5b64ab3cd7",
   "metadata": {},
   "source": [
    "### 2.4 流式工具调用"
   ]
  },
  {
   "cell_type": "code",
   "execution_count": null,
   "id": "5147143df3209fe7",
   "metadata": {},
   "outputs": [],
   "source": [
    "for chunk in model_with_tools.stream(\n",
    "    \"What's the weather in Boston and Tokyo?\"\n",
    "):\n",
    "    # Tool call chunks arrive progressively\n",
    "    if chunk.tool_call_chunks:\n",
    "        for tool_chunk in chunk.tool_call_chunks:\n",
    "            print(f\"Tool: {tool_chunk.get('name', '')}\")\n",
    "            print(f\"Args: {tool_chunk.get('args', '')}\")\n",
    "\n",
    "# Output:\n",
    "# Tool: get_weather            # Loop 1\n",
    "# Args:\n",
    "# Tool:                        # Loop 2\n",
    "# Args: {\"loc\n",
    "# Tool:                        # Loop 3\n",
    "# Args: ation\": \"BOS\"}\n",
    "# Tool: get_time               # Loop 4\n",
    "# Args:\n",
    "# Args:\n",
    "# Tool:                        # Loop 5\n",
    "# Args: {\"timezone\": \"Tokyo\"}"
   ]
  },
  {
   "cell_type": "code",
   "execution_count": null,
   "id": "e469304569800b53",
   "metadata": {},
   "outputs": [],
   "source": [
    "gathered = None\n",
    "for chunk in model_with_tools.stream(\"What's the weather in Boston?\"):\n",
    "    gathered = chunk if gathered is None else gathered + chunk\n",
    "    print(gathered)"
   ]
  },
  {
   "cell_type": "markdown",
   "id": "a1f4cd81",
   "metadata": {},
   "source": [
    "## 3.结构树输出"
   ]
  },
  {
   "cell_type": "code",
   "execution_count": 3,
   "id": "4599cba9",
   "metadata": {},
   "outputs": [
    {
     "name": "stdout",
     "output_type": "stream",
     "text": [
      "title='Inception' year=2010 director='Christopher Nolan' rating=8.8\n"
     ]
    }
   ],
   "source": [
    "from pydantic import BaseModel, Field\n",
    "\n",
    "class Movie(BaseModel):\n",
    "    \"\"\"A movie with details.\"\"\"\n",
    "    title: str = Field(..., description=\"The title of the movie\")\n",
    "    year: int = Field(..., description=\"The year the movie was released\")\n",
    "    director: str = Field(..., description=\"The director of the movie\")\n",
    "    rating: float = Field(..., description=\"The movie's rating out of 10\")\n",
    "\n",
    "model_with_structure = model.with_structured_output(Movie)\n",
    "response = model_with_structure.invoke(\"Provide details about the movie Inception\")\n",
    "print(response)  # Movie(title=\"Inception\", year=2010, director=\"Christopher Nolan\", rating=8.8)"
   ]
  },
  {
   "cell_type": "markdown",
   "id": "496d84ff",
   "metadata": {},
   "source": [
    "## 4. 高级配置 - 多模态"
   ]
  },
  {
   "cell_type": "code",
   "execution_count": 5,
   "id": "8cba288d",
   "metadata": {},
   "outputs": [
    {
     "name": "stdout",
     "output_type": "stream",
     "text": [
      "Sure! Here are a couple of simple ASCII cats. Tell me if you want a different style.\n",
      "\n",
      "Option 1 (tiny and cute):\n",
      " /\\\n",
      "/  \\_/\\ \n",
      "(=^.^=)\n",
      " (\")(\")\n",
      "\n",
      "Option 2 (slightly bigger):\n",
      " /\\_/\\  \n",
      "( o.o ) \n",
      " > ^ <\n",
      "\n",
      "If you’d prefer a real image or a different style (pixel art, line drawing, etc.), I can describe or generate that too.\n"
     ]
    }
   ],
   "source": [
    "response = model.invoke(\"Create a picture of a cat\")\n",
    "print(response.content)"
   ]
  },
  {
   "cell_type": "markdown",
   "id": "f121690c",
   "metadata": {},
   "source": [
    "## 4.1 高级配置 - 推理"
   ]
  },
  {
   "cell_type": "code",
   "execution_count": 9,
   "id": "1859c934",
   "metadata": {},
   "outputs": [
    {
     "name": "stdout",
     "output_type": "stream",
     "text": [
      "\n",
      "Par\n",
      "rots\n",
      " are\n",
      " colorful\n",
      " mainly\n",
      " because\n",
      " of\n",
      " two\n",
      " things\n",
      ":\n",
      " pigments\n",
      " in\n",
      " their\n",
      " feathers\n",
      " and\n",
      " the\n",
      " tiny\n",
      " structures\n",
      " inside\n",
      " the\n",
      " feathers\n",
      " that\n",
      " bend\n",
      " light\n",
      ".\n",
      "\n",
      "\n",
      "-\n",
      " Pig\n",
      "ments\n",
      ":\n",
      " \n",
      "\n",
      " \n",
      " -\n",
      " Car\n",
      "ot\n",
      "eno\n",
      "ids\n",
      " (\n",
      "from\n",
      " the\n",
      " birds\n",
      "’\n",
      " diet\n",
      " of\n",
      " fruits\n",
      ",\n",
      " seeds\n",
      ",\n",
      " and\n",
      " plants\n",
      ")\n",
      " give\n",
      " reds\n",
      ",\n",
      " oranges\n",
      ",\n",
      " and\n",
      " yell\n",
      "ows\n",
      ".\n",
      "\n",
      " \n",
      " -\n",
      " Mel\n",
      "an\n",
      "ins\n",
      " give\n",
      " brow\n",
      "ns\n",
      " and\n",
      " blacks\n",
      ".\n",
      "\n",
      " \n",
      " -\n",
      " Green\n",
      " is\n",
      " often\n",
      " yellow\n",
      " pigment\n",
      " plus\n",
      " a\n",
      " blue\n",
      " structural\n",
      " effect\n",
      ",\n",
      " not\n",
      " a\n",
      " true\n",
      " green\n",
      " pigment\n",
      ".\n",
      "\n",
      "-\n",
      " Feather\n",
      " structure\n",
      ":\n",
      " \n",
      "\n",
      " \n",
      " -\n",
      " Some\n",
      " blues\n",
      " and\n",
      " greens\n",
      " come\n",
      " from\n",
      " microscopic\n",
      " arrangements\n",
      " in\n",
      " the\n",
      " feather\n",
      " that\n",
      " reflect\n",
      " certain\n",
      " wavelengths\n",
      " of\n",
      " light\n",
      " (\n",
      "not\n",
      " from\n",
      " pigments\n",
      ").\n",
      "\n",
      " \n",
      " -\n",
      " Ir\n",
      "ides\n",
      "cence\n",
      " (\n",
      "sh\n",
      "immer\n",
      "ing\n",
      ",\n",
      " changing\n",
      " colors\n",
      ")\n",
      " comes\n",
      " from\n",
      " layered\n",
      " structures\n",
      " in\n",
      " the\n",
      " feathers\n",
      ".\n",
      "\n",
      "\n",
      "Why\n",
      " they\n",
      "’re\n",
      " colorful\n",
      ":\n",
      "\n",
      "-\n",
      " M\n",
      "ating\n",
      " and\n",
      " social\n",
      " signals\n",
      ":\n",
      " bright\n",
      " plum\n",
      "age\n",
      " can\n",
      " show\n",
      " a\n",
      " bird\n",
      " is\n",
      " healthy\n",
      " and\n",
      " good\n",
      " at\n",
      " finding\n",
      " food\n",
      ",\n",
      " helping\n",
      " attract\n",
      " mates\n",
      " and\n",
      " deter\n",
      " rivals\n",
      ".\n",
      "\n",
      "-\n",
      " Species\n",
      " and\n",
      " individual\n",
      " recognition\n",
      ":\n",
      " patterns\n",
      " and\n",
      " colors\n",
      " help\n",
      " parro\n",
      "ts\n",
      " tell\n",
      " others\n",
      " apart\n",
      ".\n",
      "\n",
      "-\n",
      " Cam\n",
      "ouflage\n",
      " in\n",
      " some\n",
      " environments\n",
      ":\n",
      " green\n",
      " parro\n",
      "ts\n",
      " blend\n",
      " with\n",
      " leaves\n",
      " when\n",
      " needed\n",
      ".\n",
      "\n",
      "-\n",
      " Color\n",
      " can\n",
      " also\n",
      " indicate\n",
      " age\n",
      " or\n",
      " sex\n",
      " in\n",
      " some\n",
      " species\n",
      ",\n",
      " though\n",
      " many\n",
      " parro\n",
      "ts\n",
      " have\n",
      " colorful\n",
      " plum\n",
      "age\n",
      " in\n",
      " both\n",
      " sexes\n",
      ".\n",
      "\n",
      "\n",
      "What\n",
      " you\n",
      " see\n",
      " vs\n",
      " what\n",
      " birds\n",
      " see\n",
      ":\n",
      "\n",
      "-\n",
      " Birds\n",
      " can\n",
      " often\n",
      " see\n",
      " ultraviolet\n",
      " light\n",
      ",\n",
      " so\n",
      " their\n",
      " colors\n",
      " may\n",
      " look\n",
      " different\n",
      " to\n",
      " them\n",
      " than\n",
      " to\n",
      " us\n",
      ".\n",
      " A\n",
      " color\n",
      " that\n",
      " seems\n",
      " dull\n",
      " to\n",
      " us\n",
      " might\n",
      " be\n",
      " very\n",
      " vivid\n",
      " in\n",
      " their\n",
      " vision\n",
      ".\n",
      "\n",
      "\n",
      "Diet\n",
      " and\n",
      " health\n",
      " matter\n",
      ":\n",
      "\n",
      "-\n",
      " Bright\n",
      " colors\n",
      " often\n",
      " reflect\n",
      " a\n",
      " good\n",
      " diet\n",
      " and\n",
      " good\n",
      " health\n",
      ".\n",
      " Poor\n",
      " diet\n",
      " or\n",
      " stress\n",
      " can\n",
      " dull\n",
      " the\n",
      " colors\n",
      ".\n",
      "\n",
      "\n",
      "So\n",
      ",\n",
      " par\n",
      "rot\n",
      " colors\n",
      " arise\n",
      " from\n",
      " a\n",
      " mix\n",
      " of\n",
      " diet\n",
      "-derived\n",
      " pigments\n",
      " and\n",
      " feather\n",
      " micro\n",
      "structures\n",
      ",\n",
      " shaped\n",
      " by\n",
      " evolution\n",
      " for\n",
      " communication\n",
      ",\n",
      " mating\n",
      ",\n",
      " and\n",
      " sometimes\n",
      " camouflage\n",
      ".\n",
      "\n",
      "\n"
     ]
    }
   ],
   "source": [
    "for chunk in model.stream(\"Why do parrots have colorful feathers?\"):\n",
    "    print(chunk.content)"
   ]
  },
  {
   "cell_type": "markdown",
   "id": "85a76a96",
   "metadata": {},
   "source": [
    "## 4.3 高级配置 - 缓存"
   ]
  },
  {
   "cell_type": "code",
   "execution_count": 12,
   "id": "c08da9d9",
   "metadata": {},
   "outputs": [
    {
     "name": "stdout",
     "output_type": "stream",
     "text": [
      "content=\"Why don't skeletons fight each other? They don't have the guts. Want to hear another?\" additional_kwargs={'refusal': None} response_metadata={'token_usage': {'completion_tokens': 413, 'prompt_tokens': 10, 'total_tokens': 423, 'completion_tokens_details': {'accepted_prediction_tokens': 0, 'audio_tokens': 0, 'reasoning_tokens': 384, 'rejected_prediction_tokens': 0}, 'prompt_tokens_details': {'audio_tokens': 0, 'cached_tokens': 0}}, 'model_name': 'gpt-5-nano-2025-08-07', 'system_fingerprint': None, 'id': 'chatcmpl-CKawUH2GOINN50SfnqEfICXZDje6M', 'service_tier': None, 'finish_reason': 'stop', 'logprobs': None} id='run--8ad8fd34-f923-4d0e-beff-458e452bb600-0' usage_metadata={'input_tokens': 10, 'output_tokens': 413, 'total_tokens': 423, 'input_token_details': {'audio': 0, 'cache_read': 0}, 'output_token_details': {'audio': 0, 'reasoning': 384}}\n",
      "content=\"Why don't skeletons fight each other? They don't have the guts. Want to hear another?\" additional_kwargs={'refusal': None} response_metadata={'token_usage': {'completion_tokens': 413, 'prompt_tokens': 10, 'total_tokens': 423, 'completion_tokens_details': {'accepted_prediction_tokens': 0, 'audio_tokens': 0, 'reasoning_tokens': 384, 'rejected_prediction_tokens': 0}, 'prompt_tokens_details': {'audio_tokens': 0, 'cached_tokens': 0}}, 'model_name': 'gpt-5-nano-2025-08-07', 'system_fingerprint': None, 'id': 'chatcmpl-CKawUH2GOINN50SfnqEfICXZDje6M', 'service_tier': None, 'finish_reason': 'stop', 'logprobs': None} id='run--8ad8fd34-f923-4d0e-beff-458e452bb600-0' usage_metadata={'input_tokens': 10, 'output_tokens': 413, 'total_tokens': 423, 'input_token_details': {'audio': 0, 'cache_read': 0}, 'output_token_details': {'audio': 0, 'reasoning': 384}, 'total_cost': 0}\n"
     ]
    }
   ],
   "source": [
    "from langchain_core.caches import InMemoryCache\n",
    "from langchain_core.globals import set_llm_cache\n",
    "\n",
    "set_llm_cache(InMemoryCache())\n",
    "\n",
    "response = model.invoke(\"Tell me a joke\")\n",
    "print(response)\n",
    "response = model.invoke(\"Tell me a joke\")  # Fast, from cache\n",
    "print(response)"
   ]
  },
  {
   "cell_type": "markdown",
   "id": "97425e5d",
   "metadata": {},
   "source": [
    "## 4.4 高级配置 - 速率限制"
   ]
  },
  {
   "cell_type": "code",
   "execution_count": 13,
   "id": "c325d658",
   "metadata": {},
   "outputs": [],
   "source": [
    "from langchain_core.rate_limiters import InMemoryRateLimiter\n",
    "\n",
    "rate_limiter = InMemoryRateLimiter(\n",
    "        requests_per_second=0.1,  # 表示每秒只能发 0.1 次请求，等价于 10 秒允许 1 次请求。\n",
    "        check_every_n_seconds=0.1,  # 限流器会每 0.1 秒（100 毫秒）检查一次，看看是不是可以放行请求\n",
    "        max_bucket_size=10,  # 采用令牌桶算法（token bucket）。允许一次性“积攒”最多 10 个请求作为突发流量。例如你空闲了 100 秒没请求，就能一次性发 10 个，但不会无限积累。\n",
    ")\n",
    "\n",
    "model = init_chat_model(\n",
    "    model=\"gpt-5\",\n",
    "    model_provider=\"openai\",\n",
    "    rate_limiter=rate_limiter\n",
    ")"
   ]
  },
  {
   "cell_type": "markdown",
   "id": "118d1f97",
   "metadata": {},
   "source": [
    "## 4.5 高级配置 - 对数概率"
   ]
  },
  {
   "cell_type": "code",
   "execution_count": 14,
   "id": "e54be06d",
   "metadata": {},
   "outputs": [
    {
     "name": "stdout",
     "output_type": "stream",
     "text": [
      "{'content': [{'token': 'Par', 'bytes': [80, 97, 114], 'logprob': -0.00010024999, 'top_logprobs': []}, {'token': 'rots', 'bytes': [114, 111, 116, 115], 'logprob': -1.1920922e-06, 'top_logprobs': []}, {'token': ' are', 'bytes': [32, 97, 114, 101], 'logprob': -0.84335274, 'top_logprobs': []}, {'token': ' able', 'bytes': [32, 97, 98, 108, 101], 'logprob': -2.1476667, 'top_logprobs': []}, {'token': ' to', 'bytes': [32, 116, 111], 'logprob': -9.536739e-07, 'top_logprobs': []}, {'token': ' \"', 'bytes': [32, 34], 'logprob': -0.07432972, 'top_logprobs': []}, {'token': 'talk', 'bytes': [116, 97, 108, 107], 'logprob': -5.960463e-07, 'top_logprobs': []}, {'token': '\"', 'bytes': [34], 'logprob': -0.03809879, 'top_logprobs': []}, {'token': ' or', 'bytes': [32, 111, 114], 'logprob': -0.9490852, 'top_logprobs': []}, {'token': ' mimic', 'bytes': [32, 109, 105, 109, 105, 99], 'logprob': -0.009784595, 'top_logprobs': []}, {'token': ' human', 'bytes': [32, 104, 117, 109, 97, 110], 'logprob': -0.011726613, 'top_logprobs': []}, {'token': ' speech', 'bytes': [32, 115, 112, 101, 101, 99, 104], 'logprob': -0.0012921088, 'top_logprobs': []}, {'token': ' and', 'bytes': [32, 97, 110, 100], 'logprob': -2.0489697, 'top_logprobs': []}, {'token': ' other', 'bytes': [32, 111, 116, 104, 101, 114], 'logprob': -0.026303932, 'top_logprobs': []}, {'token': ' sounds', 'bytes': [32, 115, 111, 117, 110, 100, 115], 'logprob': -0.004211961, 'top_logprobs': []}, {'token': ' due', 'bytes': [32, 100, 117, 101], 'logprob': -0.50102794, 'top_logprobs': []}, {'token': ' to', 'bytes': [32, 116, 111], 'logprob': -6.92582e-05, 'top_logprobs': []}, {'token': ' their', 'bytes': [32, 116, 104, 101, 105, 114], 'logprob': -0.17037328, 'top_logprobs': []}, {'token': ' unique', 'bytes': [32, 117, 110, 105, 113, 117, 101], 'logprob': -0.52739453, 'top_logprobs': []}, {'token': ' vocal', 'bytes': [32, 118, 111, 99, 97, 108], 'logprob': -0.06894889, 'top_logprobs': []}, {'token': ' anatomy', 'bytes': [32, 97, 110, 97, 116, 111, 109, 121], 'logprob': -0.64878714, 'top_logprobs': []}, {'token': ',', 'bytes': [44], 'logprob': -0.10157105, 'top_logprobs': []}, {'token': ' natural', 'bytes': [32, 110, 97, 116, 117, 114, 97, 108], 'logprob': -5.6276164, 'top_logprobs': []}, {'token': ' social', 'bytes': [32, 115, 111, 99, 105, 97, 108], 'logprob': -1.2823738, 'top_logprobs': []}, {'token': ' behavior', 'bytes': [32, 98, 101, 104, 97, 118, 105, 111, 114], 'logprob': -0.8631877, 'top_logprobs': []}, {'token': ',', 'bytes': [44], 'logprob': -0.00014149141, 'top_logprobs': []}, {'token': ' and', 'bytes': [32, 97, 110, 100], 'logprob': -0.005356721, 'top_logprobs': []}, {'token': ' high', 'bytes': [32, 104, 105, 103, 104], 'logprob': -1.2137661, 'top_logprobs': []}, {'token': ' intelligence', 'bytes': [32, 105, 110, 116, 101, 108, 108, 105, 103, 101, 110, 99, 101], 'logprob': -0.12842527, 'top_logprobs': []}, {'token': '.', 'bytes': [46], 'logprob': -0.00042512917, 'top_logprobs': []}, {'token': \" Here's\", 'bytes': [32, 72, 101, 114, 101, 39, 115], 'logprob': -0.5518449, 'top_logprobs': []}, {'token': ' why', 'bytes': [32, 119, 104, 121], 'logprob': -1.9574217, 'top_logprobs': []}, {'token': ' and', 'bytes': [32, 97, 110, 100], 'logprob': -1.4363053, 'top_logprobs': []}, {'token': ' how', 'bytes': [32, 104, 111, 119], 'logprob': -4.7683707e-07, 'top_logprobs': []}, {'token': ' parro', 'bytes': [32, 112, 97, 114, 114, 111], 'logprob': -0.09677399, 'top_logprobs': []}, {'token': 'ts', 'bytes': [116, 115], 'logprob': -2.3841855e-07, 'top_logprobs': []}, {'token': ' talk', 'bytes': [32, 116, 97, 108, 107], 'logprob': -1.8023132, 'top_logprobs': []}, {'token': ':\\n\\n', 'bytes': [58, 10, 10], 'logprob': -0.00055393134, 'top_logprobs': []}, {'token': '###', 'bytes': [35, 35, 35], 'logprob': -0.021710709, 'top_logprobs': []}, {'token': ' ', 'bytes': [32], 'logprob': -0.015728699, 'top_logprobs': []}, {'token': '1', 'bytes': [49], 'logprob': 0.0, 'top_logprobs': []}, {'token': '.', 'bytes': [46], 'logprob': -5.960463e-07, 'top_logprobs': []}, {'token': ' **', 'bytes': [32, 42, 42], 'logprob': -3.6119764e-05, 'top_logprobs': []}, {'token': 'V', 'bytes': [86], 'logprob': -0.16381705, 'top_logprobs': []}, {'token': 'ocal', 'bytes': [111, 99, 97, 108], 'logprob': -1.9073469e-06, 'top_logprobs': []}, {'token': ' Anatomy', 'bytes': [32, 65, 110, 97, 116, 111, 109, 121], 'logprob': -0.104145005, 'top_logprobs': []}, {'token': '**\\n', 'bytes': [42, 42, 10], 'logprob': -0.19115776, 'top_logprobs': []}, {'token': '  ', 'bytes': [32, 32], 'logprob': -0.3745307, 'top_logprobs': []}, {'token': ' -', 'bytes': [32, 45], 'logprob': -0.03746125, 'top_logprobs': []}, {'token': ' Par', 'bytes': [32, 80, 97, 114], 'logprob': -0.7785138, 'top_logprobs': []}, {'token': 'rots', 'bytes': [114, 111, 116, 115], 'logprob': -2.622601e-06, 'top_logprobs': []}, {'token': ' have', 'bytes': [32, 104, 97, 118, 101], 'logprob': -0.8359844, 'top_logprobs': []}, {'token': ' a', 'bytes': [32, 97], 'logprob': -0.0066117337, 'top_logprobs': []}, {'token': ' specialized', 'bytes': [32, 115, 112, 101, 99, 105, 97, 108, 105, 122, 101, 100], 'logprob': -0.17432413, 'top_logprobs': []}, {'token': ' organ', 'bytes': [32, 111, 114, 103, 97, 110], 'logprob': -1.2235582, 'top_logprobs': []}, {'token': ' called', 'bytes': [32, 99, 97, 108, 108, 101, 100], 'logprob': -0.007853109, 'top_logprobs': []}, {'token': ' the', 'bytes': [32, 116, 104, 101], 'logprob': -0.03368254, 'top_logprobs': []}, {'token': ' **', 'bytes': [32, 42, 42], 'logprob': -0.7471102, 'top_logprobs': []}, {'token': 's', 'bytes': [115], 'logprob': -9.536739e-07, 'top_logprobs': []}, {'token': 'yr', 'bytes': [121, 114], 'logprob': 0.0, 'top_logprobs': []}, {'token': 'inx', 'bytes': [105, 110, 120], 'logprob': -2.264974e-06, 'top_logprobs': []}, {'token': '**,', 'bytes': [42, 42, 44], 'logprob': -0.11293543, 'top_logprobs': []}, {'token': ' located', 'bytes': [32, 108, 111, 99, 97, 116, 101, 100], 'logprob': -0.05044383, 'top_logprobs': []}, {'token': ' at', 'bytes': [32, 97, 116], 'logprob': -0.09045997, 'top_logprobs': []}, {'token': ' the', 'bytes': [32, 116, 104, 101], 'logprob': -7.2717407e-06, 'top_logprobs': []}, {'token': ' base', 'bytes': [32, 98, 97, 115, 101], 'logprob': -0.03988585, 'top_logprobs': []}, {'token': ' of', 'bytes': [32, 111, 102], 'logprob': -2.3841855e-07, 'top_logprobs': []}, {'token': ' their', 'bytes': [32, 116, 104, 101, 105, 114], 'logprob': -0.01253759, 'top_logprobs': []}, {'token': ' tr', 'bytes': [32, 116, 114], 'logprob': -0.033703864, 'top_logprobs': []}, {'token': 'ache', 'bytes': [97, 99, 104, 101], 'logprob': 0.0, 'top_logprobs': []}, {'token': 'a', 'bytes': [97], 'logprob': -6.0556486e-05, 'top_logprobs': []}, {'token': '.', 'bytes': [46], 'logprob': -0.55513936, 'top_logprobs': []}, {'token': ' This', 'bytes': [32, 84, 104, 105, 115], 'logprob': -0.7754222, 'top_logprobs': []}, {'token': ' organ', 'bytes': [32, 111, 114, 103, 97, 110], 'logprob': -0.6576667, 'top_logprobs': []}, {'token': ' gives', 'bytes': [32, 103, 105, 118, 101, 115], 'logprob': -4.4160104, 'top_logprobs': []}, {'token': ' them', 'bytes': [32, 116, 104, 101, 109], 'logprob': -0.031469043, 'top_logprobs': []}, {'token': ' the', 'bytes': [32, 116, 104, 101], 'logprob': -0.2465631, 'top_logprobs': []}, {'token': ' ability', 'bytes': [32, 97, 98, 105, 108, 105, 116, 121], 'logprob': -0.014348077, 'top_logprobs': []}, {'token': ' to', 'bytes': [32, 116, 111], 'logprob': -4.7683707e-07, 'top_logprobs': []}, {'token': ' produce', 'bytes': [32, 112, 114, 111, 100, 117, 99, 101], 'logprob': -0.020282019, 'top_logprobs': []}, {'token': ' a', 'bytes': [32, 97], 'logprob': -0.021493834, 'top_logprobs': []}, {'token': ' wide', 'bytes': [32, 119, 105, 100, 101], 'logprob': -0.01126937, 'top_logprobs': []}, {'token': ' variety', 'bytes': [32, 118, 97, 114, 105, 101, 116, 121], 'logprob': -1.3147151, 'top_logprobs': []}, {'token': ' of', 'bytes': [32, 111, 102], 'logprob': -3.4570635e-06, 'top_logprobs': []}, {'token': ' complex', 'bytes': [32, 99, 111, 109, 112, 108, 101, 120], 'logprob': -2.933248, 'top_logprobs': []}, {'token': ' sounds', 'bytes': [32, 115, 111, 117, 110, 100, 115], 'logprob': -0.011384879, 'top_logprobs': []}, {'token': ',', 'bytes': [44], 'logprob': -0.5904598, 'top_logprobs': []}, {'token': ' including', 'bytes': [32, 105, 110, 99, 108, 117, 100, 105, 110, 103], 'logprob': -0.014665893, 'top_logprobs': []}, {'token': ' mimic', 'bytes': [32, 109, 105, 109, 105, 99], 'logprob': -4.872892, 'top_logprobs': []}, {'token': 'ry', 'bytes': [114, 121], 'logprob': -0.0007809926, 'top_logprobs': []}, {'token': ' of', 'bytes': [32, 111, 102], 'logprob': -0.018611092, 'top_logprobs': []}, {'token': ' human', 'bytes': [32, 104, 117, 109, 97, 110], 'logprob': -0.019338755, 'top_logprobs': []}, {'token': ' voices', 'bytes': [32, 118, 111, 105, 99, 101, 115], 'logprob': -3.308971, 'top_logprobs': []}, {'token': '.\\n', 'bytes': [46, 10], 'logprob': -0.44537458, 'top_logprobs': []}, {'token': '  ', 'bytes': [32, 32], 'logprob': -1.072883e-06, 'top_logprobs': []}, {'token': ' -', 'bytes': [32, 45], 'logprob': 0.0, 'top_logprobs': []}, {'token': ' Unlike', 'bytes': [32, 85, 110, 108, 105, 107, 101], 'logprob': -0.038509984, 'top_logprobs': []}, {'token': ' humans', 'bytes': [32, 104, 117, 109, 97, 110, 115], 'logprob': -0.012148201, 'top_logprobs': []}, {'token': ',', 'bytes': [44], 'logprob': -0.012840684, 'top_logprobs': []}, {'token': ' parro', 'bytes': [32, 112, 97, 114, 114, 111], 'logprob': -0.17617087, 'top_logprobs': []}, {'token': 'ts', 'bytes': [116, 115], 'logprob': 0.0, 'top_logprobs': []}, {'token': \" don't\", 'bytes': [32, 100, 111, 110, 39, 116], 'logprob': -0.7798563, 'top_logprobs': []}, {'token': ' have', 'bytes': [32, 104, 97, 118, 101], 'logprob': -0.010594435, 'top_logprobs': []}, {'token': ' vocal', 'bytes': [32, 118, 111, 99, 97, 108], 'logprob': -3.6596583e-05, 'top_logprobs': []}, {'token': ' cords', 'bytes': [32, 99, 111, 114, 100, 115], 'logprob': -3.0397907e-05, 'top_logprobs': []}, {'token': '.', 'bytes': [46], 'logprob': -0.06578737, 'top_logprobs': []}, {'token': ' They', 'bytes': [32, 84, 104, 101, 121], 'logprob': -2.5814302, 'top_logprobs': []}, {'token': ' manipulate', 'bytes': [32, 109, 97, 110, 105, 112, 117, 108, 97, 116, 101], 'logprob': -0.9058784, 'top_logprobs': []}, {'token': ' airflow', 'bytes': [32, 97, 105, 114, 102, 108, 111, 119], 'logprob': -1.7737217, 'top_logprobs': []}, {'token': ' and', 'bytes': [32, 97, 110, 100], 'logprob': -0.14202558, 'top_logprobs': []}, {'token': ' shape', 'bytes': [32, 115, 104, 97, 112, 101], 'logprob': -3.8549619, 'top_logprobs': []}, {'token': ' their', 'bytes': [32, 116, 104, 101, 105, 114], 'logprob': -0.22005449, 'top_logprobs': []}, {'token': ' syr', 'bytes': [32, 115, 121, 114], 'logprob': -0.2544836, 'top_logprobs': []}, {'token': 'inx', 'bytes': [105, 110, 120], 'logprob': -1.0132738e-05, 'top_logprobs': []}, {'token': ' and', 'bytes': [32, 97, 110, 100], 'logprob': -2.0200305, 'top_logprobs': []}, {'token': ' mouth', 'bytes': [32, 109, 111, 117, 116, 104], 'logprob': -1.778963, 'top_logprobs': []}, {'token': ' to', 'bytes': [32, 116, 111], 'logprob': -0.041655198, 'top_logprobs': []}, {'token': ' mimic', 'bytes': [32, 109, 105, 109, 105, 99], 'logprob': -2.566084, 'top_logprobs': []}, {'token': ' sounds', 'bytes': [32, 115, 111, 117, 110, 100, 115], 'logprob': -1.2653111, 'top_logprobs': []}, {'token': '.\\n\\n', 'bytes': [46, 10, 10], 'logprob': -1.4782689, 'top_logprobs': []}, {'token': '###', 'bytes': [35, 35, 35], 'logprob': -0.016035756, 'top_logprobs': []}, {'token': ' ', 'bytes': [32], 'logprob': -1.5497196e-06, 'top_logprobs': []}, {'token': '2', 'bytes': [50], 'logprob': -1.1920929e-07, 'top_logprobs': []}, {'token': '.', 'bytes': [46], 'logprob': 0.0, 'top_logprobs': []}, {'token': ' **', 'bytes': [32, 42, 42], 'logprob': -1.6689287e-06, 'top_logprobs': []}, {'token': 'Social', 'bytes': [83, 111, 99, 105, 97, 108], 'logprob': -0.63993585, 'top_logprobs': []}, {'token': ' Nature', 'bytes': [32, 78, 97, 116, 117, 114, 101], 'logprob': -0.6356453, 'top_logprobs': []}, {'token': '**\\n', 'bytes': [42, 42, 10], 'logprob': -0.0049920445, 'top_logprobs': []}, {'token': '  ', 'bytes': [32, 32], 'logprob': -5.006778e-06, 'top_logprobs': []}, {'token': ' -', 'bytes': [32, 45], 'logprob': -7.152532e-06, 'top_logprobs': []}, {'token': ' Par', 'bytes': [32, 80, 97, 114], 'logprob': -0.3532602, 'top_logprobs': []}, {'token': 'rots', 'bytes': [114, 111, 116, 115], 'logprob': -1.1920929e-07, 'top_logprobs': []}, {'token': ' are', 'bytes': [32, 97, 114, 101], 'logprob': -0.0018517505, 'top_logprobs': []}, {'token': ' highly', 'bytes': [32, 104, 105, 103, 104, 108, 121], 'logprob': -0.096800186, 'top_logprobs': []}, {'token': ' social', 'bytes': [32, 115, 111, 99, 105, 97, 108], 'logprob': -0.010858497, 'top_logprobs': []}, {'token': ' animals', 'bytes': [32, 97, 110, 105, 109, 97, 108, 115], 'logprob': -0.25634304, 'top_logprobs': []}, {'token': ' that', 'bytes': [32, 116, 104, 97, 116], 'logprob': -0.64955914, 'top_logprobs': []}, {'token': ' often', 'bytes': [32, 111, 102, 116, 101, 110], 'logprob': -4.523402, 'top_logprobs': []}, {'token': ' live', 'bytes': [32, 108, 105, 118, 101], 'logprob': -0.049613804, 'top_logprobs': []}, {'token': ' in', 'bytes': [32, 105, 110], 'logprob': -0.00044526678, 'top_logprobs': []}, {'token': ' fl', 'bytes': [32, 102, 108], 'logprob': -0.53277177, 'top_logprobs': []}, {'token': 'ocks', 'bytes': [111, 99, 107, 115], 'logprob': 0.0, 'top_logprobs': []}, {'token': ' in', 'bytes': [32, 105, 110], 'logprob': -0.040335122, 'top_logprobs': []}, {'token': ' the', 'bytes': [32, 116, 104, 101], 'logprob': -0.001337706, 'top_logprobs': []}, {'token': ' wild', 'bytes': [32, 119, 105, 108, 100], 'logprob': 0.0, 'top_logprobs': []}, {'token': '.', 'bytes': [46], 'logprob': -0.007311846, 'top_logprobs': []}, {'token': ' In', 'bytes': [32, 73, 110], 'logprob': -2.085032, 'top_logprobs': []}, {'token': ' these', 'bytes': [32, 116, 104, 101, 115, 101], 'logprob': -0.626405, 'top_logprobs': []}, {'token': ' fl', 'bytes': [32, 102, 108], 'logprob': -0.6084583, 'top_logprobs': []}, {'token': 'ocks', 'bytes': [111, 99, 107, 115], 'logprob': 0.0, 'top_logprobs': []}, {'token': ',', 'bytes': [44], 'logprob': -1.3113014e-06, 'top_logprobs': []}, {'token': ' they', 'bytes': [32, 116, 104, 101, 121], 'logprob': -0.75328475, 'top_logprobs': []}, {'token': ' communicate', 'bytes': [32, 99, 111, 109, 109, 117, 110, 105, 99, 97, 116, 101], 'logprob': -0.8164114, 'top_logprobs': []}, {'token': ' using', 'bytes': [32, 117, 115, 105, 110, 103], 'logprob': -1.9347583, 'top_logprobs': []}, {'token': ' a', 'bytes': [32, 97], 'logprob': -0.36086652, 'top_logprobs': []}, {'token': ' variety', 'bytes': [32, 118, 97, 114, 105, 101, 116, 121], 'logprob': -0.69883126, 'top_logprobs': []}, {'token': ' of', 'bytes': [32, 111, 102], 'logprob': -1.1920929e-07, 'top_logprobs': []}, {'token': ' sounds', 'bytes': [32, 115, 111, 117, 110, 100, 115], 'logprob': -1.5583249, 'top_logprobs': []}, {'token': ' and', 'bytes': [32, 97, 110, 100], 'logprob': -0.54936004, 'top_logprobs': []}, {'token': ' calls', 'bytes': [32, 99, 97, 108, 108, 115], 'logprob': -0.019628689, 'top_logprobs': []}, {'token': ' to', 'bytes': [32, 116, 111], 'logprob': -1.1294878, 'top_logprobs': []}, {'token': ' stay', 'bytes': [32, 115, 116, 97, 121], 'logprob': -2.2303288, 'top_logprobs': []}, {'token': ' connected', 'bytes': [32, 99, 111, 110, 110, 101, 99, 116, 101, 100], 'logprob': -0.052530374, 'top_logprobs': []}, {'token': ' with', 'bytes': [32, 119, 105, 116, 104], 'logprob': -1.0731664, 'top_logprobs': []}, {'token': ' one', 'bytes': [32, 111, 110, 101], 'logprob': -0.9982291, 'top_logprobs': []}, {'token': ' another', 'bytes': [32, 97, 110, 111, 116, 104, 101, 114], 'logprob': -1.072883e-06, 'top_logprobs': []}, {'token': '.\\n', 'bytes': [46, 10], 'logprob': -0.008740855, 'top_logprobs': []}, {'token': '  ', 'bytes': [32, 32], 'logprob': -3.2186458e-06, 'top_logprobs': []}, {'token': ' -', 'bytes': [32, 45], 'logprob': 0.0, 'top_logprobs': []}, {'token': ' When', 'bytes': [32, 87, 104, 101, 110], 'logprob': -0.5258203, 'top_logprobs': []}, {'token': ' parro', 'bytes': [32, 112, 97, 114, 114, 111], 'logprob': -0.95609117, 'top_logprobs': []}, {'token': 'ts', 'bytes': [116, 115], 'logprob': 0.0, 'top_logprobs': []}, {'token': ' are', 'bytes': [32, 97, 114, 101], 'logprob': -0.18162705, 'top_logprobs': []}, {'token': ' kept', 'bytes': [32, 107, 101, 112, 116], 'logprob': -0.10109513, 'top_logprobs': []}, {'token': ' as', 'bytes': [32, 97, 115], 'logprob': -0.023712616, 'top_logprobs': []}, {'token': ' pets', 'bytes': [32, 112, 101, 116, 115], 'logprob': -0.0011292278, 'top_logprobs': []}, {'token': ',', 'bytes': [44], 'logprob': -0.02878871, 'top_logprobs': []}, {'token': ' they', 'bytes': [32, 116, 104, 101, 121], 'logprob': -0.05027629, 'top_logprobs': []}, {'token': ' see', 'bytes': [32, 115, 101, 101], 'logprob': -1.2003245, 'top_logprobs': []}, {'token': ' humans', 'bytes': [32, 104, 117, 109, 97, 110, 115], 'logprob': -1.7025545, 'top_logprobs': []}, {'token': ' as', 'bytes': [32, 97, 115], 'logprob': -0.0027092916, 'top_logprobs': []}, {'token': ' part', 'bytes': [32, 112, 97, 114, 116], 'logprob': -0.27495483, 'top_logprobs': []}, {'token': ' of', 'bytes': [32, 111, 102], 'logprob': 0.0, 'top_logprobs': []}, {'token': ' their', 'bytes': [32, 116, 104, 101, 105, 114], 'logprob': -5.960463e-07, 'top_logprobs': []}, {'token': ' \"', 'bytes': [32, 34], 'logprob': -0.14187653, 'top_logprobs': []}, {'token': 'fl', 'bytes': [102, 108], 'logprob': -1.716599e-05, 'top_logprobs': []}, {'token': 'ock', 'bytes': [111, 99, 107], 'logprob': -4.7683707e-07, 'top_logprobs': []}, {'token': '\"', 'bytes': [34], 'logprob': -0.8326597, 'top_logprobs': []}, {'token': ' and', 'bytes': [32, 97, 110, 100], 'logprob': -0.007922771, 'top_logprobs': []}, {'token': ' mimic', 'bytes': [32, 109, 105, 109, 105, 99], 'logprob': -1.3665254, 'top_logprobs': []}, {'token': ' human', 'bytes': [32, 104, 117, 109, 97, 110], 'logprob': -0.44211763, 'top_logprobs': []}, {'token': ' speech', 'bytes': [32, 115, 112, 101, 101, 99, 104], 'logprob': -0.047929283, 'top_logprobs': []}, {'token': ' as', 'bytes': [32, 97, 115], 'logprob': -0.233356, 'top_logprobs': []}, {'token': ' a', 'bytes': [32, 97], 'logprob': -0.0057551633, 'top_logprobs': []}, {'token': ' way', 'bytes': [32, 119, 97, 121], 'logprob': -0.16454145, 'top_logprobs': []}, {'token': ' of', 'bytes': [32, 111, 102], 'logprob': -0.8981234, 'top_logprobs': []}, {'token': ' social', 'bytes': [32, 115, 111, 99, 105, 97, 108], 'logprob': -3.4368875, 'top_logprobs': []}, {'token': ' bonding', 'bytes': [32, 98, 111, 110, 100, 105, 110, 103], 'logprob': -0.15251914, 'top_logprobs': []}, {'token': ' and', 'bytes': [32, 97, 110, 100], 'logprob': -0.18706687, 'top_logprobs': []}, {'token': ' interaction', 'bytes': [32, 105, 110, 116, 101, 114, 97, 99, 116, 105, 111, 110], 'logprob': -1.5561384, 'top_logprobs': []}, {'token': '.\\n\\n', 'bytes': [46, 10, 10], 'logprob': -0.11751872, 'top_logprobs': []}, {'token': '###', 'bytes': [35, 35, 35], 'logprob': -2.264974e-06, 'top_logprobs': []}, {'token': ' ', 'bytes': [32], 'logprob': -3.576278e-07, 'top_logprobs': []}, {'token': '3', 'bytes': [51], 'logprob': 0.0, 'top_logprobs': []}, {'token': '.', 'bytes': [46], 'logprob': -1.1920929e-07, 'top_logprobs': []}, {'token': ' **', 'bytes': [32, 42, 42], 'logprob': -4.7683707e-07, 'top_logprobs': []}, {'token': 'M', 'bytes': [77], 'logprob': -2.3844876, 'top_logprobs': []}, {'token': 'im', 'bytes': [105, 109], 'logprob': -8.3446474e-07, 'top_logprobs': []}, {'token': 'ic', 'bytes': [105, 99], 'logprob': -0.014190365, 'top_logprobs': []}, {'token': 'ry', 'bytes': [114, 121], 'logprob': -1.716599e-05, 'top_logprobs': []}, {'token': ' for', 'bytes': [32, 102, 111, 114], 'logprob': -2.686429, 'top_logprobs': []}, {'token': ' Communication', 'bytes': [32, 67, 111, 109, 109, 117, 110, 105, 99, 97, 116, 105, 111, 110], 'logprob': -0.94906026, 'top_logprobs': []}, {'token': '**\\n', 'bytes': [42, 42, 10], 'logprob': -0.0049814875, 'top_logprobs': []}, {'token': '  ', 'bytes': [32, 32], 'logprob': -3.4570635e-06, 'top_logprobs': []}, {'token': ' -', 'bytes': [32, 45], 'logprob': -4.2915253e-06, 'top_logprobs': []}, {'token': ' Par', 'bytes': [32, 80, 97, 114], 'logprob': -1.2211362, 'top_logprobs': []}, {'token': 'rots', 'bytes': [114, 111, 116, 115], 'logprob': -0.00014041869, 'top_logprobs': []}, {'token': ' do', 'bytes': [32, 100, 111], 'logprob': -3.3061047, 'top_logprobs': []}, {'token': ' not', 'bytes': [32, 110, 111, 116], 'logprob': -4.2915253e-06, 'top_logprobs': []}, {'token': ' understand', 'bytes': [32, 117, 110, 100, 101, 114, 115, 116, 97, 110, 100], 'logprob': -1.16444, 'top_logprobs': []}, {'token': ' the', 'bytes': [32, 116, 104, 101], 'logprob': -0.52916694, 'top_logprobs': []}, {'token': ' meaning', 'bytes': [32, 109, 101, 97, 110, 105, 110, 103], 'logprob': -0.2468475, 'top_logprobs': []}, {'token': ' of', 'bytes': [32, 111, 102], 'logprob': -0.038114283, 'top_logprobs': []}, {'token': ' the', 'bytes': [32, 116, 104, 101], 'logprob': -1.5677447, 'top_logprobs': []}, {'token': ' words', 'bytes': [32, 119, 111, 114, 100, 115], 'logprob': -0.0064299367, 'top_logprobs': []}, {'token': ' they', 'bytes': [32, 116, 104, 101, 121], 'logprob': -0.033059478, 'top_logprobs': []}, {'token': ' mimic', 'bytes': [32, 109, 105, 109, 105, 99], 'logprob': -0.2310854, 'top_logprobs': []}, {'token': ' (', 'bytes': [32, 40], 'logprob': -0.75421005, 'top_logprobs': []}, {'token': 'though', 'bytes': [116, 104, 111, 117, 103, 104], 'logprob': -0.90888715, 'top_logprobs': []}, {'token': ' they', 'bytes': [32, 116, 104, 101, 121], 'logprob': -0.44045332, 'top_logprobs': []}, {'token': ' may', 'bytes': [32, 109, 97, 121], 'logprob': -0.93203056, 'top_logprobs': []}, {'token': ' associate', 'bytes': [32, 97, 115, 115, 111, 99, 105, 97, 116, 101], 'logprob': -0.06910777, 'top_logprobs': []}, {'token': ' words', 'bytes': [32, 119, 111, 114, 100, 115], 'logprob': -3.2198222, 'top_logprobs': []}, {'token': ' with', 'bytes': [32, 119, 105, 116, 104], 'logprob': -0.13029578, 'top_logprobs': []}, {'token': ' specific', 'bytes': [32, 115, 112, 101, 99, 105, 102, 105, 99], 'logprob': -0.8000924, 'top_logprobs': []}, {'token': ' actions', 'bytes': [32, 97, 99, 116, 105, 111, 110, 115], 'logprob': -0.20917101, 'top_logprobs': []}, {'token': ' or', 'bytes': [32, 111, 114], 'logprob': -0.26291466, 'top_logprobs': []}, {'token': ' rewards', 'bytes': [32, 114, 101, 119, 97, 114, 100, 115], 'logprob': -2.699945, 'top_logprobs': []}, {'token': ').', 'bytes': [41, 46], 'logprob': -0.662306, 'top_logprobs': []}, {'token': ' Mim', 'bytes': [32, 77, 105, 109], 'logprob': -1.8841057, 'top_logprobs': []}, {'token': 'ic', 'bytes': [105, 99], 'logprob': -0.42874458, 'top_logprobs': []}, {'token': 'ry', 'bytes': [114, 121], 'logprob': -5.960463e-07, 'top_logprobs': []}, {'token': ' is', 'bytes': [32, 105, 115], 'logprob': -0.1939785, 'top_logprobs': []}, {'token': ' their', 'bytes': [32, 116, 104, 101, 105, 114], 'logprob': -0.9117625, 'top_logprobs': []}, {'token': ' way', 'bytes': [32, 119, 97, 121], 'logprob': -0.036949456, 'top_logprobs': []}, {'token': ' of', 'bytes': [32, 111, 102], 'logprob': -0.0019286143, 'top_logprobs': []}, {'token': ' engaging', 'bytes': [32, 101, 110, 103, 97, 103, 105, 110, 103], 'logprob': -1.255733, 'top_logprobs': []}, {'token': ' with', 'bytes': [32, 119, 105, 116, 104], 'logprob': -0.31304637, 'top_logprobs': []}, {'token': ' their', 'bytes': [32, 116, 104, 101, 105, 114], 'logprob': -0.072266586, 'top_logprobs': []}, {'token': ' environment', 'bytes': [32, 101, 110, 118, 105, 114, 111, 110, 109, 101, 110, 116], 'logprob': -0.108300984, 'top_logprobs': []}, {'token': ' and', 'bytes': [32, 97, 110, 100], 'logprob': -0.20604114, 'top_logprobs': []}, {'token': ' attempting', 'bytes': [32, 97, 116, 116, 101, 109, 112, 116, 105, 110, 103], 'logprob': -4.3748198, 'top_logprobs': []}, {'token': ' to', 'bytes': [32, 116, 111], 'logprob': -0.0058720224, 'top_logprobs': []}, {'token': ' communicate', 'bytes': [32, 99, 111, 109, 109, 117, 110, 105, 99, 97, 116, 101], 'logprob': -0.6072823, 'top_logprobs': []}, {'token': ' or', 'bytes': [32, 111, 114], 'logprob': -3.938496, 'top_logprobs': []}, {'token': ' maintain', 'bytes': [32, 109, 97, 105, 110, 116, 97, 105, 110], 'logprob': -9999.0, 'top_logprobs': []}, {'token': ' social', 'bytes': [32, 115, 111, 99, 105, 97, 108], 'logprob': -0.89302003, 'top_logprobs': []}, {'token': ' contact', 'bytes': [32, 99, 111, 110, 116, 97, 99, 116], 'logprob': -2.8996463, 'top_logprobs': []}, {'token': '.\\n\\n', 'bytes': [46, 10, 10], 'logprob': -0.9405379, 'top_logprobs': []}, {'token': '###', 'bytes': [35, 35, 35], 'logprob': -4.1723165e-06, 'top_logprobs': []}, {'token': ' ', 'bytes': [32], 'logprob': -1.072883e-06, 'top_logprobs': []}, {'token': '4', 'bytes': [52], 'logprob': 0.0, 'top_logprobs': []}, {'token': '.', 'bytes': [46], 'logprob': -4.7683707e-07, 'top_logprobs': []}, {'token': ' **', 'bytes': [32, 42, 42], 'logprob': -1.5497196e-06, 'top_logprobs': []}, {'token': 'High', 'bytes': [72, 105, 103, 104], 'logprob': -0.8146338, 'top_logprobs': []}, {'token': ' Intelligence', 'bytes': [32, 73, 110, 116, 101, 108, 108, 105, 103, 101, 110, 99, 101], 'logprob': -0.00048923446, 'top_logprobs': []}, {'token': '**\\n', 'bytes': [42, 42, 10], 'logprob': -0.043248363, 'top_logprobs': []}, {'token': '  ', 'bytes': [32, 32], 'logprob': -2.264974e-06, 'top_logprobs': []}, {'token': ' -', 'bytes': [32, 45], 'logprob': -1.4305105e-06, 'top_logprobs': []}, {'token': ' Par', 'bytes': [32, 80, 97, 114], 'logprob': -0.005609011, 'top_logprobs': []}, {'token': 'rots', 'bytes': [114, 111, 116, 115], 'logprob': -4.7683707e-07, 'top_logprobs': []}, {'token': ' are', 'bytes': [32, 97, 114, 101], 'logprob': -0.016620623, 'top_logprobs': []}, {'token': ' among', 'bytes': [32, 97, 109, 111, 110, 103], 'logprob': -0.10889579, 'top_logprobs': []}, {'token': ' the', 'bytes': [32, 116, 104, 101], 'logprob': -3.218599e-05, 'top_logprobs': []}, {'token': ' most', 'bytes': [32, 109, 111, 115, 116], 'logprob': -0.023318239, 'top_logprobs': []}, {'token': ' intelligent', 'bytes': [32, 105, 110, 116, 101, 108, 108, 105, 103, 101, 110, 116], 'logprob': -0.00018952481, 'top_logprobs': []}, {'token': ' birds', 'bytes': [32, 98, 105, 114, 100, 115], 'logprob': -1.2290367, 'top_logprobs': []}, {'token': ',', 'bytes': [44], 'logprob': -0.44706142, 'top_logprobs': []}, {'token': ' with', 'bytes': [32, 119, 105, 116, 104], 'logprob': -0.8784145, 'top_logprobs': []}, {'token': ' cognitive', 'bytes': [32, 99, 111, 103, 110, 105, 116, 105, 118, 101], 'logprob': -0.5379092, 'top_logprobs': []}, {'token': ' abilities', 'bytes': [32, 97, 98, 105, 108, 105, 116, 105, 101, 115], 'logprob': -0.013805733, 'top_logprobs': []}, {'token': ' comparable', 'bytes': [32, 99, 111, 109, 112, 97, 114, 97, 98, 108, 101], 'logprob': -0.19405745, 'top_logprobs': []}, {'token': ' to', 'bytes': [32, 116, 111], 'logprob': -0.0008142255, 'top_logprobs': []}, {'token': ' a', 'bytes': [32, 97], 'logprob': -1.4277827, 'top_logprobs': []}, {'token': ' young', 'bytes': [32, 121, 111, 117, 110, 103], 'logprob': -0.16842763, 'top_logprobs': []}, {'token': ' child', 'bytes': [32, 99, 104, 105, 108, 100], 'logprob': -0.10093598, 'top_logprobs': []}, {'token': ' in', 'bytes': [32, 105, 110], 'logprob': -0.98204684, 'top_logprobs': []}, {'token': ' some', 'bytes': [32, 115, 111, 109, 101], 'logprob': -0.042391196, 'top_logprobs': []}, {'token': ' cases', 'bytes': [32, 99, 97, 115, 101, 115], 'logprob': -0.48514315, 'top_logprobs': []}, {'token': '.', 'bytes': [46], 'logprob': -0.16328835, 'top_logprobs': []}, {'token': ' This', 'bytes': [32, 84, 104, 105, 115], 'logprob': -0.9841922, 'top_logprobs': []}, {'token': ' intelligence', 'bytes': [32, 105, 110, 116, 101, 108, 108, 105, 103, 101, 110, 99, 101], 'logprob': -0.07285229, 'top_logprobs': []}, {'token': ' allows', 'bytes': [32, 97, 108, 108, 111, 119, 115], 'logprob': -0.6758792, 'top_logprobs': []}, {'token': ' them', 'bytes': [32, 116, 104, 101, 109], 'logprob': -0.0033860037, 'top_logprobs': []}, {'token': ' to', 'bytes': [32, 116, 111], 'logprob': -0.0017244245, 'top_logprobs': []}, {'token': ' recognize', 'bytes': [32, 114, 101, 99, 111, 103, 110, 105, 122, 101], 'logprob': -0.677798, 'top_logprobs': []}, {'token': ' and', 'bytes': [32, 97, 110, 100], 'logprob': -2.396973, 'top_logprobs': []}, {'token': ' replicate', 'bytes': [32, 114, 101, 112, 108, 105, 99, 97, 116, 101], 'logprob': -0.5637417, 'top_logprobs': []}, {'token': ' patterns', 'bytes': [32, 112, 97, 116, 116, 101, 114, 110, 115], 'logprob': -0.86188596, 'top_logprobs': []}, {'token': ' of', 'bytes': [32, 111, 102], 'logprob': -1.3951261, 'top_logprobs': []}, {'token': ' sound', 'bytes': [32, 115, 111, 117, 110, 100], 'logprob': -0.60354644, 'top_logprobs': []}, {'token': ',', 'bytes': [44], 'logprob': -0.1969703, 'top_logprobs': []}, {'token': ' including', 'bytes': [32, 105, 110, 99, 108, 117, 100, 105, 110, 103], 'logprob': -0.14710525, 'top_logprobs': []}, {'token': ' human', 'bytes': [32, 104, 117, 109, 97, 110], 'logprob': -0.31332397, 'top_logprobs': []}, {'token': ' language', 'bytes': [32, 108, 97, 110, 103, 117, 97, 103, 101], 'logprob': -1.8475373, 'top_logprobs': []}, {'token': ',', 'bytes': [44], 'logprob': -2.0264964, 'top_logprobs': []}, {'token': ' environmental', 'bytes': [32, 101, 110, 118, 105, 114, 111, 110, 109, 101, 110, 116, 97, 108], 'logprob': -1.6301744, 'top_logprobs': []}, {'token': ' noises', 'bytes': [32, 110, 111, 105, 115, 101, 115], 'logprob': -0.029045349, 'top_logprobs': []}, {'token': ',', 'bytes': [44], 'logprob': -0.030638484, 'top_logprobs': []}, {'token': ' and', 'bytes': [32, 97, 110, 100], 'logprob': -0.12950183, 'top_logprobs': []}, {'token': ' even', 'bytes': [32, 101, 118, 101, 110], 'logprob': -0.729869, 'top_logprobs': []}, {'token': ' music', 'bytes': [32, 109, 117, 115, 105, 99], 'logprob': -0.54471415, 'top_logprobs': []}, {'token': '.\\n', 'bytes': [46, 10], 'logprob': -0.4762615, 'top_logprobs': []}, {'token': '  ', 'bytes': [32, 32], 'logprob': -0.0007830176, 'top_logprobs': []}, {'token': ' -', 'bytes': [32, 45], 'logprob': -1.1920929e-07, 'top_logprobs': []}, {'token': ' Their', 'bytes': [32, 84, 104, 101, 105, 114], 'logprob': -2.7314944, 'top_logprobs': []}, {'token': ' intelligence', 'bytes': [32, 105, 110, 116, 101, 108, 108, 105, 103, 101, 110, 99, 101], 'logprob': -1.7059568, 'top_logprobs': []}, {'token': ' also', 'bytes': [32, 97, 108, 115, 111], 'logprob': -0.6144734, 'top_logprobs': []}, {'token': ' drives', 'bytes': [32, 100, 114, 105, 118, 101, 115], 'logprob': -1.4976087, 'top_logprobs': []}, {'token': ' their', 'bytes': [32, 116, 104, 101, 105, 114], 'logprob': -0.7877535, 'top_logprobs': []}, {'token': ' curiosity', 'bytes': [32, 99, 117, 114, 105, 111, 115, 105, 116, 121], 'logprob': -0.012184355, 'top_logprobs': []}, {'token': ' and', 'bytes': [32, 97, 110, 100], 'logprob': -0.38972813, 'top_logprobs': []}, {'token': ' desire', 'bytes': [32, 100, 101, 115, 105, 114, 101], 'logprob': -0.59336483, 'top_logprobs': []}, {'token': ' to', 'bytes': [32, 116, 111], 'logprob': -0.05488242, 'top_logprobs': []}, {'token': ' interact', 'bytes': [32, 105, 110, 116, 101, 114, 97, 99, 116], 'logprob': -1.4222348, 'top_logprobs': []}, {'token': ',', 'bytes': [44], 'logprob': -1.1443243, 'top_logprobs': []}, {'token': ' making', 'bytes': [32, 109, 97, 107, 105, 110, 103], 'logprob': -1.5706756, 'top_logprobs': []}, {'token': ' them', 'bytes': [32, 116, 104, 101, 109], 'logprob': -0.710478, 'top_logprobs': []}, {'token': ' more', 'bytes': [32, 109, 111, 114, 101], 'logprob': -0.4546628, 'top_logprobs': []}, {'token': ' likely', 'bytes': [32, 108, 105, 107, 101, 108, 121], 'logprob': -0.15001835, 'top_logprobs': []}, {'token': ' to', 'bytes': [32, 116, 111], 'logprob': -2.837141e-05, 'top_logprobs': []}, {'token': ' mimic', 'bytes': [32, 109, 105, 109, 105, 99], 'logprob': -0.65387535, 'top_logprobs': []}, {'token': ' sounds', 'bytes': [32, 115, 111, 117, 110, 100, 115], 'logprob': -0.6149042, 'top_logprobs': []}, {'token': ' they', 'bytes': [32, 116, 104, 101, 121], 'logprob': -0.22674623, 'top_logprobs': []}, {'token': ' frequently', 'bytes': [32, 102, 114, 101, 113, 117, 101, 110, 116, 108, 121], 'logprob': -1.7839723, 'top_logprobs': []}, {'token': ' hear', 'bytes': [32, 104, 101, 97, 114], 'logprob': -0.00015114596, 'top_logprobs': []}, {'token': '.\\n\\n', 'bytes': [46, 10, 10], 'logprob': -0.032627463, 'top_logprobs': []}, {'token': '###', 'bytes': [35, 35, 35], 'logprob': -2.7656173e-05, 'top_logprobs': []}, {'token': ' ', 'bytes': [32], 'logprob': -0.000707257, 'top_logprobs': []}, {'token': '5', 'bytes': [53], 'logprob': 0.0, 'top_logprobs': []}, {'token': '.', 'bytes': [46], 'logprob': -3.576278e-07, 'top_logprobs': []}, {'token': ' **', 'bytes': [32, 42, 42], 'logprob': -3.2186458e-06, 'top_logprobs': []}, {'token': 'Learning', 'bytes': [76, 101, 97, 114, 110, 105, 110, 103], 'logprob': -1.8250897, 'top_logprobs': []}, {'token': ' by', 'bytes': [32, 98, 121], 'logprob': -2.2232208, 'top_logprobs': []}, {'token': ' I', 'bytes': [32, 73], 'logprob': -0.3523124, 'top_logprobs': []}, {'token': 'mit', 'bytes': [109, 105, 116], 'logprob': 0.0, 'top_logprobs': []}, {'token': 'ation', 'bytes': [97, 116, 105, 111, 110], 'logprob': -0.002477079, 'top_logprobs': []}, {'token': '**\\n', 'bytes': [42, 42, 10], 'logprob': -0.00017188503, 'top_logprobs': []}, {'token': '  ', 'bytes': [32, 32], 'logprob': -2.74181e-06, 'top_logprobs': []}, {'token': ' -', 'bytes': [32, 45], 'logprob': -1.7881379e-06, 'top_logprobs': []}, {'token': ' In', 'bytes': [32, 73, 110], 'logprob': -0.268629, 'top_logprobs': []}, {'token': ' the', 'bytes': [32, 116, 104, 101], 'logprob': -0.02207307, 'top_logprobs': []}, {'token': ' wild', 'bytes': [32, 119, 105, 108, 100], 'logprob': -5.5788394e-05, 'top_logprobs': []}, {'token': ',', 'bytes': [44], 'logprob': -9.250213e-05, 'top_logprobs': []}, {'token': ' mimic', 'bytes': [32, 109, 105, 109, 105, 99], 'logprob': -4.3034534, 'top_logprobs': []}, {'token': 'ry', 'bytes': [114, 121], 'logprob': -4.7683707e-07, 'top_logprobs': []}, {'token': ' serves', 'bytes': [32, 115, 101, 114, 118, 101, 115], 'logprob': -3.6338327, 'top_logprobs': []}, {'token': ' useful', 'bytes': [32, 117, 115, 101, 102, 117, 108], 'logprob': -6.0581484, 'top_logprobs': []}, {'token': ' purposes', 'bytes': [32, 112, 117, 114, 112, 111, 115, 101, 115], 'logprob': -0.07908935, 'top_logprobs': []}, {'token': '.', 'bytes': [46], 'logprob': -1.5894426, 'top_logprobs': []}, {'token': ' Some', 'bytes': [32, 83, 111, 109, 101], 'logprob': -1.6052701, 'top_logprobs': []}, {'token': ' species', 'bytes': [32, 115, 112, 101, 99, 105, 101, 115], 'logprob': -1.663517, 'top_logprobs': []}, {'token': ' use', 'bytes': [32, 117, 115, 101], 'logprob': -2.3273826, 'top_logprobs': []}, {'token': ' it', 'bytes': [32, 105, 116], 'logprob': -0.6254343, 'top_logprobs': []}, {'token': ' to', 'bytes': [32, 116, 111], 'logprob': -0.042046756, 'top_logprobs': []}, {'token': ' blend', 'bytes': [32, 98, 108, 101, 110, 100], 'logprob': -0.54063386, 'top_logprobs': []}, {'token': ' into', 'bytes': [32, 105, 110, 116, 111], 'logprob': -0.77496487, 'top_logprobs': []}, {'token': ' their', 'bytes': [32, 116, 104, 101, 105, 114], 'logprob': -0.06806972, 'top_logprobs': []}, {'token': ' surroundings', 'bytes': [32, 115, 117, 114, 114, 111, 117, 110, 100, 105, 110, 103, 115], 'logprob': -1.8905756, 'top_logprobs': []}, {'token': ' or', 'bytes': [32, 111, 114], 'logprob': -1.0114319, 'top_logprobs': []}, {'token': ' to', 'bytes': [32, 116, 111], 'logprob': -1.2390326, 'top_logprobs': []}, {'token': ' deter', 'bytes': [32, 100, 101, 116, 101, 114], 'logprob': -1.9628303, 'top_logprobs': []}, {'token': ' predators', 'bytes': [32, 112, 114, 101, 100, 97, 116, 111, 114, 115], 'logprob': -0.010764744, 'top_logprobs': []}, {'token': ' by', 'bytes': [32, 98, 121], 'logprob': -0.15439074, 'top_logprobs': []}, {'token': ' mim', 'bytes': [32, 109, 105, 109], 'logprob': -1.1675862, 'top_logprobs': []}, {'token': 'icking', 'bytes': [105, 99, 107, 105, 110, 103], 'logprob': -2.264974e-06, 'top_logprobs': []}, {'token': ' the', 'bytes': [32, 116, 104, 101], 'logprob': -0.5913359, 'top_logprobs': []}, {'token': ' calls', 'bytes': [32, 99, 97, 108, 108, 115], 'logprob': -0.31870902, 'top_logprobs': []}, {'token': ' of', 'bytes': [32, 111, 102], 'logprob': -0.0006948679, 'top_logprobs': []}, {'token': ' other', 'bytes': [32, 111, 116, 104, 101, 114], 'logprob': -0.35005912, 'top_logprobs': []}, {'token': ' animals', 'bytes': [32, 97, 110, 105, 109, 97, 108, 115], 'logprob': -0.46725306, 'top_logprobs': []}, {'token': '.\\n', 'bytes': [46, 10], 'logprob': -0.5853222, 'top_logprobs': []}, {'token': '  ', 'bytes': [32, 32], 'logprob': -4.7683707e-07, 'top_logprobs': []}, {'token': ' -', 'bytes': [32, 45], 'logprob': 0.0, 'top_logprobs': []}, {'token': ' For', 'bytes': [32, 70, 111, 114], 'logprob': -3.8016865, 'top_logprobs': []}, {'token': ' captive', 'bytes': [32, 99, 97, 112, 116, 105, 118, 101], 'logprob': -1.6970282, 'top_logprobs': []}, {'token': ' parro', 'bytes': [32, 112, 97, 114, 114, 111], 'logprob': -0.0029762755, 'top_logprobs': []}, {'token': 'ts', 'bytes': [116, 115], 'logprob': 0.0, 'top_logprobs': []}, {'token': ',', 'bytes': [44], 'logprob': -0.0018077237, 'top_logprobs': []}, {'token': ' human', 'bytes': [32, 104, 117, 109, 97, 110], 'logprob': -2.9599786, 'top_logprobs': []}, {'token': ' speech', 'bytes': [32, 115, 112, 101, 101, 99, 104], 'logprob': -0.14779527, 'top_logprobs': []}, {'token': ' and', 'bytes': [32, 97, 110, 100], 'logprob': -1.0351596, 'top_logprobs': []}, {'token': ' household', 'bytes': [32, 104, 111, 117, 115, 101, 104, 111, 108, 100], 'logprob': -0.26505062, 'top_logprobs': []}, {'token': ' sounds', 'bytes': [32, 115, 111, 117, 110, 100, 115], 'logprob': -0.31360608, 'top_logprobs': []}, {'token': ' become', 'bytes': [32, 98, 101, 99, 111, 109, 101], 'logprob': -0.88755614, 'top_logprobs': []}, {'token': ' part', 'bytes': [32, 112, 97, 114, 116], 'logprob': -0.5807438, 'top_logprobs': []}, {'token': ' of', 'bytes': [32, 111, 102], 'logprob': -1.1920929e-07, 'top_logprobs': []}, {'token': ' the', 'bytes': [32, 116, 104, 101], 'logprob': -1.6244755, 'top_logprobs': []}, {'token': ' auditory', 'bytes': [32, 97, 117, 100, 105, 116, 111, 114, 121], 'logprob': -2.1774497, 'top_logprobs': []}, {'token': ' environment', 'bytes': [32, 101, 110, 118, 105, 114, 111, 110, 109, 101, 110, 116], 'logprob': -0.19367497, 'top_logprobs': []}, {'token': ' they', 'bytes': [32, 116, 104, 101, 121], 'logprob': -0.298533, 'top_logprobs': []}, {'token': ' imitate', 'bytes': [32, 105, 109, 105, 116, 97, 116, 101], 'logprob': -1.8116722, 'top_logprobs': []}, {'token': '.\\n\\n', 'bytes': [46, 10, 10], 'logprob': -0.30952278, 'top_logprobs': []}, {'token': '###', 'bytes': [35, 35, 35], 'logprob': -0.0563394, 'top_logprobs': []}, {'token': ' Why', 'bytes': [32, 87, 104, 121], 'logprob': -1.7280973, 'top_logprobs': []}, {'token': \" Don't\", 'bytes': [32, 68, 111, 110, 39, 116], 'logprob': -1.9731146, 'top_logprobs': []}, {'token': ' All', 'bytes': [32, 65, 108, 108], 'logprob': -0.007732814, 'top_logprobs': []}, {'token': ' Birds', 'bytes': [32, 66, 105, 114, 100, 115], 'logprob': -0.43361017, 'top_logprobs': []}, {'token': ' Talk', 'bytes': [32, 84, 97, 108, 107], 'logprob': -0.2113497, 'top_logprobs': []}, {'token': ' Like', 'bytes': [32, 76, 105, 107, 101], 'logprob': -1.7074656, 'top_logprobs': []}, {'token': ' Par', 'bytes': [32, 80, 97, 114], 'logprob': -2.1457443e-05, 'top_logprobs': []}, {'token': 'rots', 'bytes': [114, 111, 116, 115], 'logprob': 0.0, 'top_logprobs': []}, {'token': '?\\n', 'bytes': [63, 10], 'logprob': -0.007667397, 'top_logprobs': []}, {'token': 'Not', 'bytes': [78, 111, 116], 'logprob': -2.0455878, 'top_logprobs': []}, {'token': ' all', 'bytes': [32, 97, 108, 108], 'logprob': -0.00082732784, 'top_logprobs': []}, {'token': ' bird', 'bytes': [32, 98, 105, 114, 100], 'logprob': -2.6954374, 'top_logprobs': []}, {'token': ' species', 'bytes': [32, 115, 112, 101, 99, 105, 101, 115], 'logprob': -2.7060145e-05, 'top_logprobs': []}, {'token': ' have', 'bytes': [32, 104, 97, 118, 101], 'logprob': -0.3338862, 'top_logprobs': []}, {'token': ' the', 'bytes': [32, 116, 104, 101], 'logprob': -0.012485554, 'top_logprobs': []}, {'token': ' same', 'bytes': [32, 115, 97, 109, 101], 'logprob': -0.5528507, 'top_logprobs': []}, {'token': ' combination', 'bytes': [32, 99, 111, 109, 98, 105, 110, 97, 116, 105, 111, 110], 'logprob': -1.5131984, 'top_logprobs': []}, {'token': ' of', 'bytes': [32, 111, 102], 'logprob': 0.0, 'top_logprobs': []}, {'token': ' vocal', 'bytes': [32, 118, 111, 99, 97, 108], 'logprob': -0.18897739, 'top_logprobs': []}, {'token': ' anatomy', 'bytes': [32, 97, 110, 97, 116, 111, 109, 121], 'logprob': -0.2500352, 'top_logprobs': []}, {'token': ',', 'bytes': [44], 'logprob': -0.014453243, 'top_logprobs': []}, {'token': ' social', 'bytes': [32, 115, 111, 99, 105, 97, 108], 'logprob': -0.8789488, 'top_logprobs': []}, {'token': ' behavior', 'bytes': [32, 98, 101, 104, 97, 118, 105, 111, 114], 'logprob': -1.1937497, 'top_logprobs': []}, {'token': ',', 'bytes': [44], 'logprob': -2.0861407e-05, 'top_logprobs': []}, {'token': ' and', 'bytes': [32, 97, 110, 100], 'logprob': -0.018128771, 'top_logprobs': []}, {'token': ' intelligence', 'bytes': [32, 105, 110, 116, 101, 108, 108, 105, 103, 101, 110, 99, 101], 'logprob': -0.28998774, 'top_logprobs': []}, {'token': '.', 'bytes': [46], 'logprob': -1.3764689, 'top_logprobs': []}, {'token': ' Par', 'bytes': [32, 80, 97, 114], 'logprob': -0.26171514, 'top_logprobs': []}, {'token': 'rots', 'bytes': [114, 111, 116, 115], 'logprob': -7.557583e-05, 'top_logprobs': []}, {'token': ' are', 'bytes': [32, 97, 114, 101], 'logprob': -1.5481594, 'top_logprobs': []}, {'token': ' uniquely', 'bytes': [32, 117, 110, 105, 113, 117, 101, 108, 121], 'logprob': -0.9708908, 'top_logprobs': []}, {'token': ' suited', 'bytes': [32, 115, 117, 105, 116, 101, 100], 'logprob': -1.1746311, 'top_logprobs': []}, {'token': ' for', 'bytes': [32, 102, 111, 114], 'logprob': -0.5284121, 'top_logprobs': []}, {'token': ' mimic', 'bytes': [32, 109, 105, 109, 105, 99], 'logprob': -0.6992223, 'top_logprobs': []}, {'token': 'ry', 'bytes': [114, 121], 'logprob': -3.576278e-07, 'top_logprobs': []}, {'token': ',', 'bytes': [44], 'logprob': -2.1249151, 'top_logprobs': []}, {'token': ' which', 'bytes': [32, 119, 104, 105, 99, 104], 'logprob': -1.320462, 'top_logprobs': []}, {'token': ' is', 'bytes': [32, 105, 115], 'logprob': -0.27381632, 'top_logprobs': []}, {'token': ' why', 'bytes': [32, 119, 104, 121], 'logprob': -0.022041703, 'top_logprobs': []}, {'token': ' they', 'bytes': [32, 116, 104, 101, 121], 'logprob': -0.13847893, 'top_logprobs': []}, {'token': ' are', 'bytes': [32, 97, 114, 101], 'logprob': -0.9421501, 'top_logprobs': []}, {'token': ' so', 'bytes': [32, 115, 111], 'logprob': -1.5210305, 'top_logprobs': []}, {'token': ' good', 'bytes': [32, 103, 111, 111, 100], 'logprob': -2.127867, 'top_logprobs': []}, {'token': ' at', 'bytes': [32, 97, 116], 'logprob': -1.1324818e-05, 'top_logprobs': []}, {'token': ' \"', 'bytes': [32, 34], 'logprob': -0.27511302, 'top_logprobs': []}, {'token': 'talk', 'bytes': [116, 97, 108, 107], 'logprob': -0.00040415704, 'top_logprobs': []}, {'token': 'ing', 'bytes': [105, 110, 103], 'logprob': -1.1920929e-07, 'top_logprobs': []}, {'token': '\"', 'bytes': [34], 'logprob': -0.83082664, 'top_logprobs': []}, {'token': ' compared', 'bytes': [32, 99, 111, 109, 112, 97, 114, 101, 100], 'logprob': -0.026132764, 'top_logprobs': []}, {'token': ' to', 'bytes': [32, 116, 111], 'logprob': -0.00017975146, 'top_logprobs': []}, {'token': ' many', 'bytes': [32, 109, 97, 110, 121], 'logprob': -3.7639632, 'top_logprobs': []}, {'token': ' other', 'bytes': [32, 111, 116, 104, 101, 114], 'logprob': -0.0002509041, 'top_logprobs': []}, {'token': ' bird', 'bytes': [32, 98, 105, 114, 100], 'logprob': -1.7836771, 'top_logprobs': []}, {'token': ' species', 'bytes': [32, 115, 112, 101, 99, 105, 101, 115], 'logprob': -0.0049718795, 'top_logprobs': []}, {'token': '.\\n\\n', 'bytes': [46, 10, 10], 'logprob': -0.055106387, 'top_logprobs': []}, {'token': 'In', 'bytes': [73, 110], 'logprob': -0.17206466, 'top_logprobs': []}, {'token': ' summary', 'bytes': [32, 115, 117, 109, 109, 97, 114, 121], 'logprob': -0.4227154, 'top_logprobs': []}, {'token': ',', 'bytes': [44], 'logprob': -0.00018976319, 'top_logprobs': []}, {'token': ' parro', 'bytes': [32, 112, 97, 114, 114, 111], 'logprob': -0.0013483014, 'top_logprobs': []}, {'token': 'ts', 'bytes': [116, 115], 'logprob': 0.0, 'top_logprobs': []}, {'token': ' talk', 'bytes': [32, 116, 97, 108, 107], 'logprob': -0.2508855, 'top_logprobs': []}, {'token': ' as', 'bytes': [32, 97, 115], 'logprob': -1.2216694, 'top_logprobs': []}, {'token': ' part', 'bytes': [32, 112, 97, 114, 116], 'logprob': -1.3791578, 'top_logprobs': []}, {'token': ' of', 'bytes': [32, 111, 102], 'logprob': -3.576278e-07, 'top_logprobs': []}, {'token': ' their', 'bytes': [32, 116, 104, 101, 105, 114], 'logprob': -0.003168208, 'top_logprobs': []}, {'token': ' natural', 'bytes': [32, 110, 97, 116, 117, 114, 97, 108], 'logprob': -0.21984507, 'top_logprobs': []}, {'token': ' ability', 'bytes': [32, 97, 98, 105, 108, 105, 116, 121], 'logprob': -1.1607918, 'top_logprobs': []}, {'token': ' to', 'bytes': [32, 116, 111], 'logprob': -0.016966786, 'top_logprobs': []}, {'token': ' mimic', 'bytes': [32, 109, 105, 109, 105, 99], 'logprob': -0.13472016, 'top_logprobs': []}, {'token': ' sounds', 'bytes': [32, 115, 111, 117, 110, 100, 115], 'logprob': -0.0905913, 'top_logprobs': []}, {'token': ',', 'bytes': [44], 'logprob': -0.4373806, 'top_logprobs': []}, {'token': ' their', 'bytes': [32, 116, 104, 101, 105, 114], 'logprob': -2.0100138, 'top_logprobs': []}, {'token': ' desire', 'bytes': [32, 100, 101, 115, 105, 114, 101], 'logprob': -1.6731164, 'top_logprobs': []}, {'token': ' to', 'bytes': [32, 116, 111], 'logprob': -0.22541843, 'top_logprobs': []}, {'token': ' socialize', 'bytes': [32, 115, 111, 99, 105, 97, 108, 105, 122, 101], 'logprob': -1.6128395, 'top_logprobs': []}, {'token': ',', 'bytes': [44], 'logprob': -0.26185453, 'top_logprobs': []}, {'token': ' and', 'bytes': [32, 97, 110, 100], 'logprob': -0.0022017541, 'top_logprobs': []}, {'token': ' their', 'bytes': [32, 116, 104, 101, 105, 114], 'logprob': -0.008504484, 'top_logprobs': []}, {'token': ' impressive', 'bytes': [32, 105, 109, 112, 114, 101, 115, 115, 105, 118, 101], 'logprob': -2.211707, 'top_logprobs': []}, {'token': ' cognitive', 'bytes': [32, 99, 111, 103, 110, 105, 116, 105, 118, 101], 'logprob': -1.0181198, 'top_logprobs': []}, {'token': ' abilities', 'bytes': [32, 97, 98, 105, 108, 105, 116, 105, 101, 115], 'logprob': -1.0780473, 'top_logprobs': []}, {'token': '.', 'bytes': [46], 'logprob': -0.09955467, 'top_logprobs': []}, {'token': \" They're\", 'bytes': [32, 84, 104, 101, 121, 39, 114, 101], 'logprob': -5.65061, 'top_logprobs': []}, {'token': ' not', 'bytes': [32, 110, 111, 116], 'logprob': -0.08452263, 'top_logprobs': []}, {'token': ' \"', 'bytes': [32, 34], 'logprob': -0.9551665, 'top_logprobs': []}, {'token': 'talk', 'bytes': [116, 97, 108, 107], 'logprob': -0.13159339, 'top_logprobs': []}, {'token': 'ing', 'bytes': [105, 110, 103], 'logprob': -7.748574e-06, 'top_logprobs': []}, {'token': '\"', 'bytes': [34], 'logprob': -0.00013422065, 'top_logprobs': []}, {'token': ' in', 'bytes': [32, 105, 110], 'logprob': -0.16423187, 'top_logprobs': []}, {'token': ' the', 'bytes': [32, 116, 104, 101], 'logprob': -0.023984063, 'top_logprobs': []}, {'token': ' human', 'bytes': [32, 104, 117, 109, 97, 110], 'logprob': -1.9888921, 'top_logprobs': []}, {'token': ' sense', 'bytes': [32, 115, 101, 110, 115, 101], 'logprob': -0.0039657294, 'top_logprobs': []}, {'token': ' of', 'bytes': [32, 111, 102], 'logprob': -0.5888514, 'top_logprobs': []}, {'token': ' understanding', 'bytes': [32, 117, 110, 100, 101, 114, 115, 116, 97, 110, 100, 105, 110, 103], 'logprob': -1.5276836, 'top_logprobs': []}, {'token': ' language', 'bytes': [32, 108, 97, 110, 103, 117, 97, 103, 101], 'logprob': -0.21910757, 'top_logprobs': []}, {'token': ',', 'bytes': [44], 'logprob': -0.12772468, 'top_logprobs': []}, {'token': ' but', 'bytes': [32, 98, 117, 116], 'logprob': -0.00016866691, 'top_logprobs': []}, {'token': ' their', 'bytes': [32, 116, 104, 101, 105, 114], 'logprob': -0.8092515, 'top_logprobs': []}, {'token': ' mimic', 'bytes': [32, 109, 105, 109, 105, 99], 'logprob': -0.7114122, 'top_logprobs': []}, {'token': 'ry', 'bytes': [114, 121], 'logprob': -2.9802277e-06, 'top_logprobs': []}, {'token': ' allows', 'bytes': [32, 97, 108, 108, 111, 119, 115], 'logprob': -1.7338537, 'top_logprobs': []}, {'token': ' them', 'bytes': [32, 116, 104, 101, 109], 'logprob': -0.11996869, 'top_logprobs': []}, {'token': ' to', 'bytes': [32, 116, 111], 'logprob': -9.417489e-06, 'top_logprobs': []}, {'token': ' bond', 'bytes': [32, 98, 111, 110, 100], 'logprob': -2.1793814, 'top_logprobs': []}, {'token': ' and', 'bytes': [32, 97, 110, 100], 'logprob': -1.9276147, 'top_logprobs': []}, {'token': ' engage', 'bytes': [32, 101, 110, 103, 97, 103, 101], 'logprob': -2.5419748, 'top_logprobs': []}, {'token': ' with', 'bytes': [32, 119, 105, 116, 104], 'logprob': -0.005730984, 'top_logprobs': []}, {'token': ' humans', 'bytes': [32, 104, 117, 109, 97, 110, 115], 'logprob': -2.194567, 'top_logprobs': []}, {'token': ' and', 'bytes': [32, 97, 110, 100], 'logprob': -0.26922753, 'top_logprobs': []}, {'token': ' their', 'bytes': [32, 116, 104, 101, 105, 114], 'logprob': -0.060743432, 'top_logprobs': []}, {'token': ' surroundings', 'bytes': [32, 115, 117, 114, 114, 111, 117, 110, 100, 105, 110, 103, 115], 'logprob': -1.332895, 'top_logprobs': []}, {'token': '.', 'bytes': [46], 'logprob': -0.096444435, 'top_logprobs': []}], 'refusal': None}\n"
     ]
    }
   ],
   "source": [
    "model = init_chat_model(\n",
    "    model=\"gpt-4o\",\n",
    "    model_provider=\"openai\"\n",
    ").bind(logprobs=True)\n",
    "\n",
    "response = model.invoke(\"Why do parrots talk?\")\n",
    "print(response.response_metadata[\"logprobs\"])"
   ]
  },
  {
   "cell_type": "markdown",
   "id": "fdc58de3",
   "metadata": {},
   "source": [
    "## 4.6 高级配置 - 令牌使用"
   ]
  },
  {
   "cell_type": "code",
   "execution_count": 16,
   "id": "7a37699c",
   "metadata": {},
   "outputs": [
    {
     "data": {
      "text/plain": [
       "{'gpt-4o-mini-2024-07-18': {'input_tokens': 8,\n",
       "  'output_tokens': 10,\n",
       "  'total_tokens': 18,\n",
       "  'input_token_details': {'audio': 0, 'cache_read': 0},\n",
       "  'output_token_details': {'audio': 0, 'reasoning': 0}}}"
      ]
     },
     "execution_count": 16,
     "metadata": {},
     "output_type": "execute_result"
    }
   ],
   "source": [
    "from langchain.chat_models import init_chat_model\n",
    "from langchain_core.callbacks import UsageMetadataCallbackHandler\n",
    "\n",
    "llm_1 = init_chat_model(model=\"openai:gpt-4o-mini\")\n",
    "\n",
    "callback = UsageMetadataCallbackHandler()\n",
    "result_1 = llm_1.invoke(\"Hello\", config={\"callbacks\": [callback]})\n",
    "callback.usage_metadata"
   ]
  },
  {
   "cell_type": "markdown",
   "id": "0790b5d4",
   "metadata": {},
   "source": [
    "## 4.7 高级配置 - 调用配置"
   ]
  },
  {
   "cell_type": "code",
   "execution_count": 18,
   "id": "bdfd4f04",
   "metadata": {},
   "outputs": [],
   "source": [
    "response = model.invoke(\n",
    "    \"Tell me a joke\",\n",
    "        config={\n",
    "        \"run_name\": \"joke_generation\",      # Custom name for this run\n",
    "        \"tags\": [\"humor\", \"demo\"],          # Tags for categorization\n",
    "        \"metadata\": {\"user_id\": \"123\"},     # Custom metadata\n",
    "    }\n",
    ")"
   ]
  },
  {
   "cell_type": "markdown",
   "id": "7f606664",
   "metadata": {},
   "source": [
    "## 4.8 高级配置 - 可配置模型"
   ]
  },
  {
   "cell_type": "code",
   "execution_count": 21,
   "id": "d5b28267",
   "metadata": {},
   "outputs": [
    {
     "data": {
      "text/plain": [
       "AIMessage(content='I’m called ChatGPT. How can I assist you today?', additional_kwargs={'refusal': None}, response_metadata={'token_usage': {'completion_tokens': 14, 'prompt_tokens': 11, 'total_tokens': 25, 'completion_tokens_details': {'accepted_prediction_tokens': 0, 'audio_tokens': 0, 'reasoning_tokens': 0, 'rejected_prediction_tokens': 0}, 'prompt_tokens_details': {'audio_tokens': 0, 'cached_tokens': 0}}, 'model_name': 'gpt-4o-mini-2024-07-18', 'system_fingerprint': 'fp_efad92c60b', 'id': 'chatcmpl-CKblnGfQDgIpjmDEcN9KjVHFztYBr', 'service_tier': None, 'finish_reason': 'stop', 'logprobs': None}, id='run--068ba088-19dc-4794-81aa-5ff90f5d0cc7-0', usage_metadata={'input_tokens': 11, 'output_tokens': 14, 'total_tokens': 25, 'input_token_details': {'audio': 0, 'cache_read': 0}, 'output_token_details': {'audio': 0, 'reasoning': 0}})"
      ]
     },
     "execution_count": 21,
     "metadata": {},
     "output_type": "execute_result"
    }
   ],
   "source": [
    "from langchain.chat_models import init_chat_model\n",
    "\n",
    "configurable_model = init_chat_model(temperature=0)\n",
    "\n",
    "configurable_model.invoke(\n",
    "    \"what's your name\",\n",
    "        config={\"configurable\": {\"model\": \"gpt-4o-mini\"}},  # Run with GPT-5-Nano\n",
    ")"
   ]
  }
 ],
 "metadata": {
  "kernelspec": {
   "display_name": "p310",
   "language": "python",
   "name": "python3"
  },
  "language_info": {
   "codemirror_mode": {
    "name": "ipython",
    "version": 3
   },
   "file_extension": ".py",
   "mimetype": "text/x-python",
   "name": "python",
   "nbconvert_exporter": "python",
   "pygments_lexer": "ipython3",
   "version": "3.10.18"
  }
 },
 "nbformat": 4,
 "nbformat_minor": 5
}
