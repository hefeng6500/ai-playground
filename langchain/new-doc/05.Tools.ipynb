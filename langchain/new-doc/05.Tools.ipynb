{
 "cells": [
  {
   "metadata": {},
   "cell_type": "markdown",
   "source": "# Tools 工具",
   "id": "d82f90d6e79a9867"
  },
  {
   "metadata": {
    "collapsed": true,
    "ExecuteTime": {
     "end_time": "2025-10-30T13:35:25.442725Z",
     "start_time": "2025-10-30T13:35:25.440481Z"
    }
   },
   "cell_type": "code",
   "outputs": [],
   "execution_count": 1,
   "source": "",
   "id": "initial_id"
  },
  {
   "metadata": {},
   "cell_type": "code",
   "outputs": [],
   "execution_count": null,
   "source": "",
   "id": "5e8cd70398c7a31b"
  },
  {
   "metadata": {},
   "cell_type": "markdown",
   "source": "## 创建工具",
   "id": "3e5bc5222357308f"
  },
  {
   "metadata": {
    "ExecuteTime": {
     "end_time": "2025-10-30T13:39:51.827677Z",
     "start_time": "2025-10-30T13:39:51.583547Z"
    }
   },
   "cell_type": "code",
   "source": [
    "from langchain.chat_models import init_chat_model\n",
    "# 基本工具定义\n",
    "\n",
    "# 最简单方法是使用 @tool 装饰器\n",
    "\n",
    "# 类型提示是必需的 ，因为它们定义了工具的输入模式。文档字符串应简明扼要，以帮助模型理解工具的目的。\n",
    "\n",
    "from langchain.tools import tool\n",
    "\n",
    "\n",
    "@tool\n",
    "def search_database(query: str, limit: int = 10) -> str:\n",
    "  \"\"\"Search the customer database for records matching the query.\n",
    "\n",
    "  Args:\n",
    "      query: Search terms to look for\n",
    "      limit: Maximum number of results to return\n",
    "  \"\"\"\n",
    "  return f\"Found {limit} results for '{query}'\""
   ],
   "id": "c9212c16948f72d4",
   "outputs": [],
   "execution_count": 2
  },
  {
   "metadata": {},
   "cell_type": "code",
   "outputs": [],
   "execution_count": null,
   "source": "",
   "id": "bfbb72641074c891"
  },
  {
   "metadata": {},
   "cell_type": "markdown",
   "source": "### 自定义工具属性",
   "id": "1704439510765da9"
  },
  {
   "metadata": {},
   "cell_type": "code",
   "outputs": [],
   "execution_count": null,
   "source": [
    "# 自定义工具名称\n",
    "\n",
    "@tool(\"web_search\")  # Custom name\n",
    "def search(query: str) -> str:\n",
    "  \"\"\"Search the web for information.\"\"\"\n",
    "  return f\"Results for: {query}\"\n",
    "\n",
    "\n",
    "print(search.name)  # web_search"
   ],
   "id": "267b8d91df2c3ed3"
  },
  {
   "metadata": {},
   "cell_type": "code",
   "outputs": [],
   "execution_count": null,
   "source": [
    "# 自定义工具描述\n",
    "\n",
    "@tool(\"calculator\", description=\"Performs arithmetic calculations. Use this for any math problems.\")\n",
    "def calc(expression: str) -> str:\n",
    "  \"\"\"Evaluate mathematical expressions.\"\"\"\n",
    "  return str(eval(expression))"
   ],
   "id": "6a6e7362ba793022"
  },
  {
   "metadata": {},
   "cell_type": "markdown",
   "source": "## 高级模式定义",
   "id": "cb85af807b59e020"
  },
  {
   "metadata": {},
   "cell_type": "code",
   "outputs": [],
   "execution_count": null,
   "source": [
    "from pydantic import BaseModel, Field\n",
    "from typing import Literal\n",
    "from langchain.tools import tool\n",
    "\n",
    "\n",
    "# 定义输入模式（使用 Pydantic）\n",
    "class WeatherInput(BaseModel):\n",
    "  \"\"\"天气查询的输入参数。\"\"\"\n",
    "  location: str = Field(description=\"城市名称或坐标\")\n",
    "  units: Literal[\"celsius\", \"fahrenheit\"] = Field(\n",
    "    default=\"celsius\",\n",
    "    description=\"温度单位（摄氏度或华氏度）\"\n",
    "  )\n",
    "  include_forecast: bool = Field(\n",
    "    default=False,\n",
    "    description=\"是否包含未来 5 天天气预报\"\n",
    "  )\n",
    "\n",
    "\n",
    "# 定义工具函数，绑定上面的输入模型\n",
    "@tool(args_schema=WeatherInput)\n",
    "def get_weather(location: str, units: str = \"celsius\", include_forecast: bool = False) -> str:\n",
    "  \"\"\"获取当前天气及可选的未来预报。\"\"\"\n",
    "  temp = 22 if units == \"celsius\" else 72\n",
    "  result = f\"{location} 当前气温：{temp}° {units[0].upper()}\"\n",
    "  if include_forecast:\n",
    "    result += \"\\n未来 5 天：晴朗 ☀️\"\n",
    "  return result\n"
   ],
   "id": "9f8997023f76734f"
  },
  {
   "metadata": {},
   "cell_type": "markdown",
   "source": [
    "## Accessing Context 访问上下文\n",
    "\n",
    "为什么这很重要： 当工具能够访问代理状态、运行时上下文和长期记忆时，它们的威力最大。这使得工具能够做出上下文感知的决策、个性化响应，并在对话中保持信息。\n",
    "\n",
    "工具可以通过 ToolRuntime 参数访问运行时信息，该参数提供：\n",
    "- 状态 - 在执行过程中流动的可变数据（消息、计数器、自定义字段）\n",
    "- 上下文 - 不可变的配置，如用户 ID、会话详情或特定于应用程序的配置\n",
    "- 存储 - 跨对话的持久长期记忆\n",
    "- 流写入器 - 在工具执行时流式传输自定义更新\n",
    "- 配置 - 执行的可运行配置\n",
    "- 工具调用 ID - 当前工具调用的 ID"
   ],
   "id": "f29b548e335e1b1c"
  },
  {
   "metadata": {},
   "cell_type": "code",
   "outputs": [],
   "execution_count": null,
   "source": [
    "# 访问状态\n",
    "\n",
    "from langchain.tools import tool, ToolRuntime\n",
    "\n",
    "\n",
    "# Access the current conversation state\n",
    "@tool\n",
    "def summarize_conversation(\n",
    "  runtime: ToolRuntime\n",
    ") -> str:\n",
    "  \"\"\"Summarize the conversation so far.\"\"\"\n",
    "  messages = runtime.state[\"messages\"]\n",
    "\n",
    "  human_msgs = sum(1 for m in messages if m.__class__.__name__ == \"HumanMessage\")\n",
    "  ai_msgs = sum(1 for m in messages if m.__class__.__name__ == \"AIMessage\")\n",
    "  tool_msgs = sum(1 for m in messages if m.__class__.__name__ == \"ToolMessage\")\n",
    "\n",
    "  return f\"Conversation has {human_msgs} user messages, {ai_msgs} AI responses, and {tool_msgs} tool results\"\n",
    "\n",
    "\n",
    "# Access custom state fields\n",
    "@tool\n",
    "def get_user_preference(\n",
    "  pref_name: str,\n",
    "  runtime: ToolRuntime  # ToolRuntime parameter is not visible to the model\n",
    ") -> str:\n",
    "  \"\"\"Get a user preference value.\"\"\"\n",
    "  preferences = runtime.state.get(\"user_preferences\", {})\n",
    "  return preferences.get(pref_name, \"Not set\")"
   ],
   "id": "2eb72881c47ced7f"
  },
  {
   "metadata": {
    "ExecuteTime": {
     "end_time": "2025-10-30T13:52:23.139250Z",
     "start_time": "2025-10-30T13:52:23.137492Z"
    }
   },
   "cell_type": "code",
   "source": [
    "# 更新状态：\n",
    "\n",
    "from langgraph.types import Command\n",
    "from langchain.messages import RemoveMessage\n",
    "from langgraph.graph.message import REMOVE_ALL_MESSAGES\n",
    "from langchain.tools import tool, ToolRuntime\n",
    "\n",
    "\n",
    "# Update the conversation history by removing all messages\n",
    "@tool\n",
    "def clear_conversation() -> Command:\n",
    "  \"\"\"Clear the conversation history.\"\"\"\n",
    "\n",
    "  return Command(\n",
    "    update={\n",
    "      \"messages\": [RemoveMessage(id=REMOVE_ALL_MESSAGES)],\n",
    "    }\n",
    "  )\n",
    "\n",
    "\n",
    "# Update the user_name in the agent state\n",
    "@tool\n",
    "def update_user_name(\n",
    "  new_name: str,\n",
    "  runtime: ToolRuntime\n",
    ") -> Command:\n",
    "  \"\"\"Update the user's name.\"\"\"\n",
    "  return Command(update={\"user_name\": new_name})"
   ],
   "id": "41dfe61ead6ee002",
   "outputs": [],
   "execution_count": 3
  },
  {
   "metadata": {
    "ExecuteTime": {
     "end_time": "2025-10-30T13:54:49.981955Z",
     "start_time": "2025-10-30T13:54:48.022005Z"
    }
   },
   "cell_type": "code",
   "source": [
    "# 上下文\n",
    "\n",
    "from dataclasses import dataclass\n",
    "from langchain_openai import ChatOpenAI\n",
    "from langchain.agents import create_agent\n",
    "from langchain.tools import tool, ToolRuntime\n",
    "\n",
    "USER_DATABASE = {\n",
    "  \"user123\": {\n",
    "    \"name\": \"Alice Johnson\",\n",
    "    \"account_type\": \"Premium\",\n",
    "    \"balance\": 5000,\n",
    "    \"email\": \"alice@example.com\"\n",
    "  },\n",
    "  \"user456\": {\n",
    "    \"name\": \"Bob Smith\",\n",
    "    \"account_type\": \"Standard\",\n",
    "    \"balance\": 1200,\n",
    "    \"email\": \"bob@example.com\"\n",
    "  }\n",
    "}\n",
    "\n",
    "\n",
    "@dataclass\n",
    "class UserContext:\n",
    "  user_id: str\n",
    "\n",
    "\n",
    "@tool\n",
    "def get_account_info(runtime: ToolRuntime[UserContext]) -> str:\n",
    "  \"\"\"Get the current user's account information.\"\"\"\n",
    "  user_id = runtime.context.user_id\n",
    "\n",
    "  if user_id in USER_DATABASE:\n",
    "    user = USER_DATABASE[user_id]\n",
    "    return f\"Account holder: {user['name']}\\nType: {user['account_type']}\\nBalance: ${user['balance']}\"\n",
    "  return \"User not found\"\n",
    "\n",
    "\n",
    "model = ChatOpenAI(model=\"gpt-4o\")\n",
    "agent = create_agent(\n",
    "  model,\n",
    "  tools=[get_account_info],\n",
    "  context_schema=UserContext,\n",
    "  system_prompt=\"You are a financial assistant.\"\n",
    ")\n",
    "\n",
    "result = agent.invoke(\n",
    "  {\"messages\": [{\"role\": \"user\", \"content\": \"What's my current balance?\"}]},\n",
    "  context=UserContext(user_id=\"user123\")\n",
    ")\n",
    "\n",
    "print(result)"
   ],
   "id": "387308c1f8729aff",
   "outputs": [
    {
     "name": "stdout",
     "output_type": "stream",
     "text": [
      "{'messages': [HumanMessage(content=\"What's my current balance?\", additional_kwargs={}, response_metadata={}, id='4ffbda6a-6f54-4a36-8da6-ff4778a30919'), AIMessage(content='', additional_kwargs={'refusal': None}, response_metadata={'token_usage': {'completion_tokens': 12, 'prompt_tokens': 50, 'total_tokens': 62, 'completion_tokens_details': {'accepted_prediction_tokens': 0, 'audio_tokens': 0, 'reasoning_tokens': 0, 'rejected_prediction_tokens': 0}, 'prompt_tokens_details': {'audio_tokens': 0, 'cached_tokens': 0}}, 'model_provider': 'openai', 'model_name': 'gpt-4o-2024-08-06', 'system_fingerprint': 'fp_4a331a0222', 'id': 'chatcmpl-CWNP0HsqJYiPay4ZMoOwZ3ogPFFkL', 'finish_reason': 'tool_calls', 'logprobs': None}, id='lc_run--4feeed96-de1d-4536-ae26-2e9cdf1b1551-0', tool_calls=[{'name': 'get_account_info', 'args': {}, 'id': 'call_TQRh5DKxTvqV2aSLCTP9e7u2', 'type': 'tool_call'}], usage_metadata={'input_tokens': 50, 'output_tokens': 12, 'total_tokens': 62, 'input_token_details': {'audio': 0, 'cache_read': 0}, 'output_token_details': {'audio': 0, 'reasoning': 0}}), ToolMessage(content='Account holder: Alice Johnson\\nType: Premium\\nBalance: $5000', name='get_account_info', id='39f180dd-a914-4f53-98a3-135fea8123b3', tool_call_id='call_TQRh5DKxTvqV2aSLCTP9e7u2'), AIMessage(content='Your current balance is $5,000.', additional_kwargs={'refusal': None}, response_metadata={'token_usage': {'completion_tokens': 11, 'prompt_tokens': 85, 'total_tokens': 96, 'completion_tokens_details': {'accepted_prediction_tokens': 0, 'audio_tokens': 0, 'reasoning_tokens': 0, 'rejected_prediction_tokens': 0}, 'prompt_tokens_details': {'audio_tokens': 0, 'cached_tokens': 0}}, 'model_provider': 'openai', 'model_name': 'gpt-4o-2024-08-06', 'system_fingerprint': 'fp_4a331a0222', 'id': 'chatcmpl-CWNP10l4D5DUfxvBGxDALjlkvGhCC', 'finish_reason': 'stop', 'logprobs': None}, id='lc_run--33d69aa6-a115-4b31-82f8-bc28db5bc159-0', usage_metadata={'input_tokens': 85, 'output_tokens': 11, 'total_tokens': 96, 'input_token_details': {'audio': 0, 'cache_read': 0}, 'output_token_details': {'audio': 0, 'reasoning': 0}})]}\n"
     ]
    }
   ],
   "execution_count": 6
  },
  {
   "metadata": {},
   "cell_type": "code",
   "outputs": [],
   "execution_count": null,
   "source": "",
   "id": "770a051f5b993bad"
  },
  {
   "metadata": {},
   "cell_type": "markdown",
   "source": "### Memory (Store) 内存（存储）",
   "id": "74c779ec1643196b"
  },
  {
   "metadata": {
    "ExecuteTime": {
     "end_time": "2025-10-30T13:59:12.417765Z",
     "start_time": "2025-10-30T13:59:06.673078Z"
    }
   },
   "cell_type": "code",
   "source": [
    "from typing import Any\n",
    "from langgraph.store.memory import InMemoryStore\n",
    "from langchain.agents import create_agent\n",
    "from langchain.tools import tool, ToolRuntime\n",
    "\n",
    "\n",
    "# Access memory\n",
    "@tool\n",
    "def get_user_info(user_id: str, runtime: ToolRuntime) -> str:\n",
    "  \"\"\"Look up user info.\"\"\"\n",
    "  store = runtime.store\n",
    "  user_info = store.get((\"users\",), user_id)\n",
    "  return str(user_info.value) if user_info else \"Unknown user\"\n",
    "\n",
    "\n",
    "# Update memory\n",
    "@tool\n",
    "def save_user_info(user_id: str, user_info: dict[str, Any], runtime: ToolRuntime) -> str:\n",
    "  \"\"\"Save user info.\"\"\"\n",
    "  store = runtime.store\n",
    "  store.put((\"users\",), user_id, user_info)\n",
    "  return \"Successfully saved user info.\"\n",
    "\n",
    "\n",
    "store = InMemoryStore()\n",
    "agent = create_agent(\n",
    "  model,\n",
    "  tools=[get_user_info, save_user_info],\n",
    "  store=store\n",
    ")\n",
    "\n",
    "# First session: save user info\n",
    "agent.invoke({\n",
    "  \"messages\": [{\"role\": \"user\",\n",
    "                \"content\": \"Save the following user: userid: abc123, name: Foo, age: 25, email: foo@langchain.dev\"}]\n",
    "})\n",
    "\n",
    "# Second session: get user info\n",
    "agent.invoke({\n",
    "  \"messages\": [{\"role\": \"user\", \"content\": \"Get user info for user with id 'abc123'\"}]\n",
    "})\n",
    "# Here is the user info for user with ID \"abc123\":\n",
    "# - Name: Foo\n",
    "# - Age: 25\n",
    "# - Email: foo@langchain.dev"
   ],
   "id": "40f9ad7cedbd1d9f",
   "outputs": [
    {
     "data": {
      "text/plain": [
       "{'messages': [HumanMessage(content=\"Get user info for user with id 'abc123'\", additional_kwargs={}, response_metadata={}, id='4ed6b81c-c623-49d9-8394-00010964e6ef'),\n",
       "  AIMessage(content='', additional_kwargs={'refusal': None}, response_metadata={'token_usage': {'completion_tokens': 18, 'prompt_tokens': 75, 'total_tokens': 93, 'completion_tokens_details': {'accepted_prediction_tokens': 0, 'audio_tokens': 0, 'reasoning_tokens': 0, 'rejected_prediction_tokens': 0}, 'prompt_tokens_details': {'audio_tokens': 0, 'cached_tokens': 0}}, 'model_provider': 'openai', 'model_name': 'gpt-4o-2024-08-06', 'system_fingerprint': 'fp_4a331a0222', 'id': 'chatcmpl-CWNTFFHiYZAurEiXSGCeMg8lC0url', 'finish_reason': 'tool_calls', 'logprobs': None}, id='lc_run--e52b123f-fffa-43c4-8638-89511b70d007-0', tool_calls=[{'name': 'get_user_info', 'args': {'user_id': 'abc123'}, 'id': 'call_eLCFrMiYFsvx3VJBSG1Dbl7o', 'type': 'tool_call'}], usage_metadata={'input_tokens': 75, 'output_tokens': 18, 'total_tokens': 93, 'input_token_details': {'audio': 0, 'cache_read': 0}, 'output_token_details': {'audio': 0, 'reasoning': 0}}),\n",
       "  ToolMessage(content=\"{'name': 'Foo', 'age': 25, 'email': 'foo@langchain.dev'}\", name='get_user_info', id='7636f612-f5f3-4d52-8cfd-b0a5dade4610', tool_call_id='call_eLCFrMiYFsvx3VJBSG1Dbl7o'),\n",
       "  AIMessage(content=\"I retrieved the user information for user ID 'abc123':\\n\\n- **Name**: Foo\\n- **Age**: 25\\n- **Email**: foo@langchain.dev\", additional_kwargs={'refusal': None}, response_metadata={'token_usage': {'completion_tokens': 39, 'prompt_tokens': 123, 'total_tokens': 162, 'completion_tokens_details': {'accepted_prediction_tokens': 0, 'audio_tokens': 0, 'reasoning_tokens': 0, 'rejected_prediction_tokens': 0}, 'prompt_tokens_details': {'audio_tokens': 0, 'cached_tokens': 0}}, 'model_provider': 'openai', 'model_name': 'gpt-4o-2024-08-06', 'system_fingerprint': 'fp_4a331a0222', 'id': 'chatcmpl-CWNTFeg5RR1zDrSfyg7SLXeFkIkSr', 'finish_reason': 'stop', 'logprobs': None}, id='lc_run--f59c29b0-e6e2-48b0-97a1-8b78b70db062-0', usage_metadata={'input_tokens': 123, 'output_tokens': 39, 'total_tokens': 162, 'input_token_details': {'audio': 0, 'cache_read': 0}, 'output_token_details': {'audio': 0, 'reasoning': 0}})]}"
      ]
     },
     "execution_count": 7,
     "metadata": {},
     "output_type": "execute_result"
    }
   ],
   "execution_count": 7
  },
  {
   "metadata": {},
   "cell_type": "code",
   "outputs": [],
   "execution_count": null,
   "source": "",
   "id": "7ee4eb07139f150f"
  },
  {
   "metadata": {},
   "cell_type": "markdown",
   "source": "### 流写入器",
   "id": "c6154307543e2224"
  },
  {
   "metadata": {
    "ExecuteTime": {
     "end_time": "2025-10-30T15:39:20.784062Z",
     "start_time": "2025-10-30T15:39:18.460540Z"
    }
   },
   "cell_type": "code",
   "source": [
    "from langchain.tools import ToolRuntime\n",
    "import os\n",
    "import requests\n",
    "from dotenv import load_dotenv\n",
    "from langchain.tools import tool\n",
    "from langchain.agents import create_agent\n",
    "from langchain_openai import ChatOpenAI\n",
    "from langgraph.config import get_stream_writer\n",
    "\n",
    "# 1. 加载环境变量\n",
    "load_dotenv()\n",
    "\n",
    "AMAP_KEY = os.getenv(\"AMAP_KEY\")\n",
    "\n",
    "load_dotenv()\n",
    "\n",
    "\n",
    "@tool\n",
    "def get_weather(city: str, runtime: ToolRuntime) -> str:\n",
    "  \"\"\"\n",
    "  使用高德地图 Web API 查询中国城市的实时天气。\n",
    "  参数:\n",
    "      city: 城市名称（中文，如 \"北京\"、\"深圳\"）。\n",
    "  返回:\n",
    "      城市的实时天气描述，包括天气现象、温度、风力等。\n",
    "  \"\"\"\n",
    "\n",
    "  writer = get_stream_writer()\n",
    "\n",
    "  writer(f\"正在查询 {city} 的天气数据...\")\n",
    "\n",
    "  url = f\"https://restapi.amap.com/v3/weather/weatherInfo?key={AMAP_KEY}&city={city}&extensions=base&output=JSON\"\n",
    "\n",
    "  resp = requests.get(url).json()\n",
    "\n",
    "  writer(f\"已获取 {city} 的天气数据。\")\n",
    "\n",
    "  if resp.get(\"status\") != \"1\":\n",
    "    return f\"无法查询到 {city} 的天气信息。错误信息: {resp}\"\n",
    "\n",
    "  lives = resp.get(\"lives\", [])\n",
    "  if not lives:\n",
    "    return f\"没有找到 {city} 的天气数据。\"\n",
    "\n",
    "  weather_info = lives[0]\n",
    "  weather = weather_info[\"weather\"]\n",
    "  temperature = weather_info[\"temperature\"]\n",
    "  wind = weather_info[\"winddirection\"]\n",
    "  wind_power = weather_info[\"windpower\"]\n",
    "  humidity = weather_info[\"humidity\"]\n",
    "  report_time = weather_info[\"reporttime\"]\n",
    "\n",
    "  writer(\n",
    "    f\"{city} 当前天气：{weather}，气温 {temperature}°C，\"\n",
    "    f\"风向 {wind}，风力 {wind_power} 级，湿度 {humidity}%。\"\n",
    "    f\"（数据更新时间：{report_time}）\"\n",
    "  )\n",
    "\n",
    "  return (\n",
    "    f\"{city} 当前天气：{weather}，气温 {temperature}°C，\"\n",
    "    f\"风向 {wind}，风力 {wind_power} 级，湿度 {humidity}%。\"\n",
    "    f\"（数据更新时间：{report_time}）\"\n",
    "  )\n",
    "\n",
    "\n",
    "# 创建 LangChain 代理\n",
    "agent = create_agent(\n",
    "  model=\"gpt-4o-mini\",\n",
    "  tools=[get_weather],\n",
    ")\n",
    "\n",
    "# 调用代理并打印流式结果\n",
    "for mode, chunk in agent.stream(\n",
    "  {\"messages\": [{\"role\": \"user\", \"content\": \"Shenzhen 的天气如何？\"}]},\n",
    "  stream_mode=[\n",
    "    \"custom\",\n",
    "    # \"updates\", \n",
    "    # \"values\"\n",
    "  ],  # 多种模式一起开\n",
    "):\n",
    "  print(f\"Stream mode: {mode}, chunk: {chunk}\")\n",
    "  # if mode == \"custom\":\n",
    "  #     # 直接是你 writer(...) 写入的内容（字符串或任意可序列化对象）\n",
    "  #     print(\"[custom]\", chunk)\n",
    "  # elif mode == \"updates\":\n",
    "  #     # 每一步图节点更新（包含节点名、增量等）\n",
    "  #     print(\"[updates]\", chunk)\n",
    "  # elif mode == \"values\":\n",
    "  #     # 这是“完整状态字典”，所以要用下标访问，不是 .message\n",
    "  #     # messages 通常是列表，元素为 dict 或 Message 对象，以下兼容两种写法\n",
    "  #     messages = chunk.get(\"messages\", [])\n",
    "  #     if messages:\n",
    "  #         last = messages[-1]\n",
    "  #         content = last[\"content\"] if isinstance(last, dict) else last.content\n",
    "  #         role = last.get(\"role\") if isinstance(last, dict) else getattr(last, \"role\", None)\n",
    "  #         print(\"[values] last role:\", role, \"content:\", content)\n"
   ],
   "id": "a36a545e0d4f1f53",
   "outputs": [
    {
     "name": "stdout",
     "output_type": "stream",
     "text": [
      "Stream mode: custom, chunk: 正在查询 深圳 的天气数据...\n",
      "Stream mode: custom, chunk: 已获取 深圳 的天气数据。\n",
      "Stream mode: custom, chunk: 深圳 当前天气：阴，气温 24°C，风向 北，风力 ≤3 级，湿度 79%。（数据更新时间：2025-10-30 23:30:46）\n"
     ]
    }
   ],
   "execution_count": 29
  }
 ],
 "metadata": {
  "kernelspec": {
   "display_name": "Python 3",
   "language": "python",
   "name": "python3"
  },
  "language_info": {
   "codemirror_mode": {
    "name": "ipython",
    "version": 2
   },
   "file_extension": ".py",
   "mimetype": "text/x-python",
   "name": "python",
   "nbconvert_exporter": "python",
   "pygments_lexer": "ipython2",
   "version": "2.7.6"
  }
 },
 "nbformat": 4,
 "nbformat_minor": 5
}
