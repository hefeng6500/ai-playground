{
 "cells": [
  {
   "cell_type": "markdown",
   "id": "bc57b0ce",
   "metadata": {},
   "source": [
    "# 快速启动"
   ]
  },
  {
   "cell_type": "markdown",
   "id": "2d3ee355",
   "metadata": {},
   "source": [
    "## 构建一个基本的 Agent"
   ]
  },
  {
   "cell_type": "code",
   "id": "13812c1e",
   "metadata": {
    "vscode": {
     "languageId": "plaintext"
    }
   },
   "source": [
    "from langchain.agents import create_agent\n",
    "\n",
    "\n",
    "def get_weather(city: str) -> str:\n",
    "  \"\"\"Get weather for a given city.\"\"\"\n",
    "  return f\"It's always sunny in {city}!\"\n",
    "\n",
    "\n",
    "agent = create_agent(\n",
    "  model=\"gpt-3.5-turbo\",\n",
    "  tools=[get_weather],\n",
    "  prompt=\"You are a helpful assistant\",\n",
    ")\n",
    "\n",
    "# Run the agent\n",
    "agent.invoke(\n",
    "    {\"messages\": [{\"role\": \"user\", \"content\": \"what is the weather in sf\"}]}\n",
    ")"
   ],
   "outputs": [],
   "execution_count": null
  },
  {
   "metadata": {},
   "cell_type": "markdown",
   "source": "## 构建一个现实世界的代理",
   "id": "2be31e9932cecf75"
  },
  {
   "metadata": {},
   "cell_type": "code",
   "source": [
    "from langchain.agents import create_agent\n",
    "\n",
    "# 1.定义系统提示\n",
    "system_prompt = \"\"\"You are an expert weather forecaster, who speaks in puns.\n",
    "\n",
    "You have access to two tools:\n",
    "\n",
    "- get_weather_for_location: use this to get the weather for a specific location\n",
    "- get_user_location: use this to get the user's location\n",
    "\n",
    "If a user asks you for the weather, make sure you know the location. If you can tell from the question that they mean whereever they are, use the get_user_location tool to find their location.\"\"\"\n",
    "\n",
    "# 2.创建工具\n",
    "from langchain_core.tools import tool\n",
    "\n",
    "def get_weather_for_location(city: str) -> str:  # (1)!\n",
    "    \"\"\"Get weather for a given city.\"\"\"\n",
    "    return f\"It's always sunny in {city}!\"\n",
    "\n",
    "from langchain_core.runnables import RunnableConfig\n",
    "\n",
    "USER_LOCATION = {\n",
    "    \"1\": \"Florida\",\n",
    "    \"2\": \"SF\"\n",
    "}\n",
    "\n",
    "@tool\n",
    "def get_user_location(config: RunnableConfig) -> str:\n",
    "    \"\"\"Retrieve user information based on user ID.\"\"\"\n",
    "    user_id = config[\"configurable\"].get(\"user_id\")\n",
    "    return USER_LOCATION[user_id]\n",
    "\n",
    "\n",
    "# 3.配置你的模型\n",
    "from langchain.chat_models import init_chat_model\n",
    "\n",
    "model = init_chat_model(\n",
    "    \"openai:gpt-3.5-turbo\",\n",
    "    temperature=0\n",
    ")\n",
    "\n",
    "# 4.定义响应格式\n",
    "from dataclasses import dataclass\n",
    "\n",
    "@dataclass\n",
    "class WeatherResponse:\n",
    "    conditions: str\n",
    "    punny_response: str\n",
    "    \n",
    "# 5.添加记忆\n",
    "from langgraph.checkpoint.memory import InMemorySaver\n",
    "\n",
    "checkpointer = InMemorySaver()\n",
    "\n",
    "# 6.将所有内容整合在一起\n",
    "agent = create_agent(\n",
    "    model=model,\n",
    "    prompt=system_prompt,\n",
    "    tools=[get_user_location, get_weather_for_location],\n",
    "    response_format=WeatherResponse,\n",
    "    checkpointer=checkpointer\n",
    ")\n",
    "\n",
    "config = {\n",
    "    \"configurable\": {\n",
    "        \"thread_id\": \"1\",\n",
    "        \"user_id\": \"1\"\n",
    "    }\n",
    "}\n",
    "context = {\"user_id\": \"1\"}\n",
    "response = agent.invoke(\n",
    "    {\"messages\": [{\"role\": \"user\", \"content\": \"what is the weather outside?\"}]},\n",
    "    config=config,\n",
    "    context=context\n",
    ")\n",
    "\n",
    "response['structured_response']\n",
    "\n",
    "response = agent.invoke(\n",
    "    {\"messages\": [{\"role\": \"user\", \"content\": \"thank you!\"}]},\n",
    "    config=config,\n",
    "    context=context\n",
    ")\n",
    "\n",
    "response['structured_response']"
   ],
   "id": "3454d5e20e8f88fd",
   "outputs": [],
   "execution_count": null
  }
 ],
 "metadata": {
  "language_info": {
   "name": "python"
  }
 },
 "nbformat": 4,
 "nbformat_minor": 5
}
