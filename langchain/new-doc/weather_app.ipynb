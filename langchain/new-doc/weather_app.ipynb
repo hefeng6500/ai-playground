{
 "cells": [
  {
   "cell_type": "code",
   "execution_count": 3,
   "id": "11d5bf58",
   "metadata": {},
   "outputs": [
    {
     "name": "stdout",
     "output_type": "stream",
     "text": [
      "{'messages': [HumanMessage(content='帮我查一下深圳的天气', additional_kwargs={}, response_metadata={}, id='2476ebc5-5157-4dbc-a075-be1959ec2253'), AIMessage(content='', additional_kwargs={'refusal': None}, response_metadata={'token_usage': {'completion_tokens': 15, 'prompt_tokens': 117, 'total_tokens': 132, 'completion_tokens_details': {'accepted_prediction_tokens': 0, 'audio_tokens': 0, 'reasoning_tokens': 0, 'rejected_prediction_tokens': 0}, 'prompt_tokens_details': {'audio_tokens': 0, 'cached_tokens': 0}}, 'model_provider': 'openai', 'model_name': 'gpt-4o-mini-2024-07-18', 'system_fingerprint': 'fp_efad92c60b', 'id': 'chatcmpl-CVdekBDgUVp6NLpkYD3OSwEjvZrTA', 'finish_reason': 'tool_calls', 'logprobs': None}, id='lc_run--81b3d325-d9cf-4ad2-93c2-e8da5a26b6f3-0', tool_calls=[{'name': 'get_weather', 'args': {'city': '深圳'}, 'id': 'call_myFIgghZxiS1Rcof6KNP0evf', 'type': 'tool_call'}], usage_metadata={'input_tokens': 117, 'output_tokens': 15, 'total_tokens': 132, 'input_token_details': {'audio': 0, 'cache_read': 0}, 'output_token_details': {'audio': 0, 'reasoning': 0}}), ToolMessage(content='深圳 当前天气：阴，气温 22°C，风向 东北，风力 ≤3 级，湿度 75%。（数据更新时间：2025-10-28 21:00:38）', name='get_weather', id='ddf570de-5602-4001-b271-cc219f0f393c', tool_call_id='call_myFIgghZxiS1Rcof6KNP0evf'), AIMessage(content='深圳当前天气为阴，气温22°C，风向为东北，风力不超过3级，湿度为75%。', additional_kwargs={'refusal': None}, response_metadata={'token_usage': {'completion_tokens': 30, 'prompt_tokens': 185, 'total_tokens': 215, 'completion_tokens_details': {'accepted_prediction_tokens': 0, 'audio_tokens': 0, 'reasoning_tokens': 0, 'rejected_prediction_tokens': 0}, 'prompt_tokens_details': {'audio_tokens': 0, 'cached_tokens': 0}}, 'model_provider': 'openai', 'model_name': 'gpt-4o-mini-2024-07-18', 'system_fingerprint': 'fp_efad92c60b', 'id': 'chatcmpl-CVdemD28wdHt4LdKBiHHHfCxIfQAM', 'finish_reason': 'stop', 'logprobs': None}, id='lc_run--8464801b-411f-409e-b280-6a6dd05de66a-0', usage_metadata={'input_tokens': 185, 'output_tokens': 30, 'total_tokens': 215, 'input_token_details': {'audio': 0, 'cache_read': 0}, 'output_token_details': {'audio': 0, 'reasoning': 0}})]}\n",
      "深圳当前天气为阴，气温22°C，风向为东北，风力不超过3级，湿度为75%。\n"
     ]
    }
   ],
   "source": [
    "import os\n",
    "import requests\n",
    "from dotenv import load_dotenv\n",
    "from langchain.tools import tool\n",
    "from langchain.agents import create_agent\n",
    "from langchain_openai import ChatOpenAI\n",
    "\n",
    "# 1. 加载环境变量\n",
    "load_dotenv()\n",
    "\n",
    "AMAP_KEY = os.getenv(\"AMAP_KEY\")\n",
    "\n",
    "# 2. 定义查询天气的工具\n",
    "@tool\n",
    "def get_weather(city: str) -> str:\n",
    "    \"\"\"\n",
    "    使用高德地图 Web API 查询中国城市的实时天气。\n",
    "    参数:\n",
    "        city: 城市名称（中文，如 \"北京\"、\"深圳\"）。\n",
    "    返回:\n",
    "        城市的实时天气描述，包括天气现象、温度、风力等。\n",
    "    \"\"\"\n",
    "    url = f\"https://restapi.amap.com/v3/weather/weatherInfo?key={AMAP_KEY}&city={city}&extensions=base&output=JSON\"\n",
    "\n",
    "    resp = requests.get(url).json()\n",
    "\n",
    "    if resp.get(\"status\") != \"1\":\n",
    "        return f\"无法查询到 {city} 的天气信息。错误信息: {resp}\"\n",
    "\n",
    "    lives = resp.get(\"lives\", [])\n",
    "    if not lives:\n",
    "        return f\"没有找到 {city} 的天气数据。\"\n",
    "\n",
    "    weather_info = lives[0]\n",
    "    weather = weather_info[\"weather\"]\n",
    "    temperature = weather_info[\"temperature\"]\n",
    "    wind = weather_info[\"winddirection\"]\n",
    "    wind_power = weather_info[\"windpower\"]\n",
    "    humidity = weather_info[\"humidity\"]\n",
    "    report_time = weather_info[\"reporttime\"]\n",
    "\n",
    "    return (\n",
    "        f\"{city} 当前天气：{weather}，气温 {temperature}°C，\"\n",
    "        f\"风向 {wind}，风力 {wind_power} 级，湿度 {humidity}%。\"\n",
    "        f\"（数据更新时间：{report_time}）\"\n",
    "    )\n",
    "\n",
    "# 3. 创建 LLM 与 Agent\n",
    "model = ChatOpenAI(model=\"gpt-4o-mini\")\n",
    "agent = create_agent(\n",
    "    model=model,\n",
    "    tools=[get_weather],\n",
    "    system_prompt=\"你是一名中国天气助手，用户提问时请自动调用工具获取准确的实时天气。\"\n",
    ")\n",
    "\n",
    "# 4. 用户交互\n",
    "result = agent.invoke({\n",
    "    \"messages\": [\n",
    "        {\"role\": \"user\", \"content\": \"帮我查一下深圳的天气\"}\n",
    "    ]\n",
    "})\n",
    "\n",
    "print(result)\n",
    "print(result[\"messages\"][-1].content)\n"
   ]
  }
 ],
 "metadata": {
  "kernelspec": {
   "display_name": "py310",
   "language": "python",
   "name": "python3"
  },
  "language_info": {
   "codemirror_mode": {
    "name": "ipython",
    "version": 3
   },
   "file_extension": ".py",
   "mimetype": "text/x-python",
   "name": "python",
   "nbconvert_exporter": "python",
   "pygments_lexer": "ipython3",
   "version": "3.10.19"
  }
 },
 "nbformat": 4,
 "nbformat_minor": 5
}
