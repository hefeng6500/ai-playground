{
 "cells": [
  {
   "metadata": {},
   "cell_type": "markdown",
   "source": "# Message",
   "id": "8fbedd04fc9a2762"
  },
  {
   "metadata": {},
   "cell_type": "markdown",
   "source": "## 基本用法",
   "id": "1b544698664784e0"
  },
  {
   "metadata": {},
   "cell_type": "code",
   "source": [
    "from langchain.chat_models import init_chat_model\n",
    "from langchain.messages import HumanMessage, AIMessage, SystemMessage\n",
    "\n",
    "model = init_chat_model(\"openai:gpt-5-nano\")\n",
    "\n",
    "system_msg = SystemMessage(\"你是一个专业的助手\")\n",
    "human_msg = HumanMessage(\"你好，你是谁？\")\n",
    "\n",
    "# Use with chat models\n",
    "messages = [system_msg, human_msg]\n",
    "\n",
    "print(messages)\n",
    "response = model.invoke(messages)  # Returns AIMessage\n",
    "\n",
    "print(response)\n"
   ],
   "id": "1ae48a6bddb1307",
   "outputs": [],
   "execution_count": null
  },
  {
   "metadata": {},
   "cell_type": "markdown",
   "source": "### Text prompts",
   "id": "13516799b1259cd2"
  },
  {
   "metadata": {},
   "cell_type": "code",
   "source": "response = model.invoke(\"Write a haiku about spring\")",
   "id": "97e87ae3b3f023b4",
   "outputs": [],
   "execution_count": null
  },
  {
   "metadata": {},
   "cell_type": "markdown",
   "source": "### Message prompts",
   "id": "88f570f2d4d9fa78"
  },
  {
   "metadata": {},
   "cell_type": "code",
   "source": [
    "from langchain.messages import SystemMessage, HumanMessage, AIMessage\n",
    "\n",
    "messages = [\n",
    "    SystemMessage(\"你是一个专业的诗人\"),\n",
    "    HumanMessage(\"写一首关于春天的俳句\"),\n",
    "    AIMessage(\"春风拂面来，花开满园香，燕子归故里。\"),\n",
    "    HumanMessage(\"再写一首关于夏天的俳句\"),\n",
    "]\n",
    "response = model.invoke(messages)\n",
    "print(response)\n"
   ],
   "id": "fba3804e400915fd",
   "outputs": [],
   "execution_count": null
  },
  {
   "metadata": {},
   "cell_type": "markdown",
   "source": "### Dictionary format 字典格式",
   "id": "d28b8ddf2b5c3f79"
  },
  {
   "metadata": {},
   "cell_type": "code",
   "source": [
    "messages = [\n",
    "    {\"role\": \"system\", \"content\": \"You are a poetry expert\"},\n",
    "    {\"role\": \"user\", \"content\": \"Write a haiku about spring\"},\n",
    "    {\"role\": \"assistant\", \"content\": \"Cherry blossoms bloom...\"}\n",
    "]\n",
    "response = model.invoke(messages)"
   ],
   "id": "a4cd92e622efa179",
   "outputs": [],
   "execution_count": null
  },
  {
   "metadata": {},
   "cell_type": "markdown",
   "source": [
    "## 消息类型\n",
    "\n",
    " - 系统消息 - 告诉模型如何表现并为交互提供上下文\n",
    " - 用户消息 - 代表用户输入和与模型的交互\n",
    " - 助手消息 - 模型生成的响应，包括文本内容、工具调用和元数据\n",
    " - 工具消息 - 表示工具调用的输出"
   ],
   "id": "d844ba2fb1bee670"
  },
  {
   "metadata": {},
   "cell_type": "markdown",
   "source": "### System Messages 系统消息",
   "id": "42c1ff4e7dd7c6ec"
  },
  {
   "metadata": {},
   "cell_type": "code",
   "source": [
    "# 系统消息\n",
    "system_msg = SystemMessage(\"You are a helpful coding assistant.\")\n",
    "\n",
    "messages = [\n",
    "    system_msg,\n",
    "    HumanMessage(\"How do I create a REST API?\")\n",
    "]\n",
    "response = model.invoke(messages)"
   ],
   "id": "7242f676f1b4d497",
   "outputs": [],
   "execution_count": null
  },
  {
   "metadata": {},
   "cell_type": "code",
   "source": [
    "# 系统消息\n",
    "from langchain.messages import SystemMessage, HumanMessage\n",
    "\n",
    "system_msg = SystemMessage(\"\"\"\n",
    "您是一名高级Python开发人员，具有Web框架方面的专业知识。\n",
    "始终提供代码示例并解释您的推理。\n",
    "你的解释要简洁而透彻。\n",
    "\"\"\")\n",
    "\n",
    "messages = [\n",
    "    system_msg,\n",
    "    HumanMessage(\"如何创建一个REST API？\")\n",
    "]\n",
    "response = model.invoke(messages)\n",
    "print(response.content)\n"
   ],
   "id": "16486c45e79d4d5d",
   "outputs": [],
   "execution_count": null
  },
  {
   "metadata": {},
   "cell_type": "code",
   "source": "",
   "id": "5d09ea1448bec445",
   "outputs": [],
   "execution_count": null
  },
  {
   "metadata": {},
   "cell_type": "markdown",
   "source": "### User Messages 用户消息",
   "id": "3d41264d8cff96f0"
  },
  {
   "metadata": {},
   "cell_type": "code",
   "source": [
    "response = model.invoke([\n",
    "  HumanMessage(\"What is machine learning?\")\n",
    "])\n",
    "\n",
    "# Message metadata 消息元数据\n",
    "human_msg = HumanMessage(\n",
    "    content=\"Hello!\",\n",
    "    name=\"alice\",  # Optional: identify different users\n",
    "    id=\"msg_123\",  # Optional: unique identifier for tracing\n",
    ")"
   ],
   "id": "ed9e9fb9300b7a45",
   "outputs": [],
   "execution_count": null
  },
  {
   "metadata": {},
   "cell_type": "markdown",
   "source": "### AI Messages",
   "id": "2996fe6c8a797b35"
  },
  {
   "metadata": {},
   "cell_type": "code",
   "source": [
    "response = model.invoke(\"Explain AI\")\n",
    "print(type(response))  # <class 'langchain_core.messages.AIMessage'>"
   ],
   "id": "e064033d8af89e08",
   "outputs": [],
   "execution_count": null
  },
  {
   "metadata": {},
   "cell_type": "code",
   "source": [
    "from langchain.messages import AIMessage, SystemMessage, HumanMessage\n",
    "\n",
    "# Create an AI message manually (e.g., for conversation history)\n",
    "ai_msg = AIMessage(\"I'd be happy to help you with that question!\")\n",
    "\n",
    "# Add to conversation history\n",
    "messages = [\n",
    "    SystemMessage(\"You are a helpful assistant\"),\n",
    "    HumanMessage(\"Can you help me?\"),\n",
    "    ai_msg,  # Insert as if it came from the model\n",
    "    HumanMessage(\"Great! What's 2+2?\")\n",
    "]\n",
    "\n",
    "response = model.invoke(messages)\n",
    "print(response.content)"
   ],
   "id": "cee65041e1ea82b9",
   "outputs": [],
   "execution_count": null
  },
  {
   "metadata": {
    "ExecuteTime": {
     "end_time": "2025-10-30T13:08:05.588547Z",
     "start_time": "2025-10-30T13:08:02.834070Z"
    }
   },
   "cell_type": "code",
   "source": [
    "from langchain.chat_models import init_chat_model\n",
    "import os\n",
    "import requests\n",
    "from dotenv import load_dotenv\n",
    "from langchain.tools import tool\n",
    "\n",
    "# 1. 加载环境变量\n",
    "load_dotenv()\n",
    "\n",
    "AMAP_KEY = os.getenv(\"AMAP_KEY\")\n",
    "\n",
    "model = init_chat_model(\"openai:gpt-5-nano\")\n",
    "\n",
    "# 2. 定义查询天气的工具\n",
    "@tool\n",
    "def get_weather(city: str) -> str:\n",
    "    \"\"\"\n",
    "    使用高德地图 Web API 查询中国城市的实时天气。\n",
    "    参数:\n",
    "        city: 城市名称（中文，如 \"北京\"、\"深圳\"）。\n",
    "    返回:\n",
    "        城市的实时天气描述，包括天气现象、温度、风力等。\n",
    "    \"\"\"\n",
    "    url = f\"https://restapi.amap.com/v3/weather/weatherInfo?key={AMAP_KEY}&city={city}&extensions=base&output=JSON\"\n",
    "  \n",
    "    resp = requests.get(url).json()\n",
    "\n",
    "    if resp.get(\"status\") != \"1\":\n",
    "        return f\"无法查询到 {city} 的天气信息。错误信息: {resp}\"\n",
    "\n",
    "    lives = resp.get(\"lives\", [])\n",
    "    if not lives:\n",
    "        return f\"没有找到 {city} 的天气数据。\"\n",
    "\n",
    "    weather_info = lives[0]\n",
    "    weather = weather_info[\"weather\"]\n",
    "    temperature = weather_info[\"temperature\"]\n",
    "    wind = weather_info[\"winddirection\"]\n",
    "    wind_power = weather_info[\"windpower\"]\n",
    "    humidity = weather_info[\"humidity\"]\n",
    "    report_time = weather_info[\"reporttime\"]\n",
    "\n",
    "    return (\n",
    "        f\"{city} 当前天气：{weather}，气温 {temperature}°C，\"\n",
    "        f\"风向 {wind}，风力 {wind_power} 级，湿度 {humidity}%。\"\n",
    "        f\"（数据更新时间：{report_time}）\"\n",
    "    )\n",
    "\n",
    "model_with_tools = model.bind_tools([get_weather])\n",
    "response = model_with_tools.invoke(\"What's the weather in Shenzhen?\")\n",
    "\n",
    "# 查看 token 使用情况\n",
    "print(response.usage_metadata)\n",
    "print(response.content)\n",
    "\n",
    "results = []\n",
    "for tool_call in response.tool_calls:\n",
    "    print(f\"Tool: {tool_call['name']}\")\n",
    "    print(f\"Args: {tool_call['args']}\")\n",
    "    print(f\"ID: {tool_call['id']}\")\n",
    "    \n",
    "    if tool_call['name'] == 'get_weather':\n",
    "        result = get_weather.invoke(tool_call)\n",
    "        results.append(result)\n",
    "print(\"Tool results:\", results)"
   ],
   "id": "a753a3e6543ca0dc",
   "outputs": [
    {
     "name": "stdout",
     "output_type": "stream",
     "text": [
      "{'input_tokens': 176, 'output_tokens': 216, 'total_tokens': 392, 'input_token_details': {'audio': 0, 'cache_read': 0}, 'output_token_details': {'audio': 0, 'reasoning': 192}}\n",
      "\n",
      "Tool: get_weather\n",
      "Args: {'city': '深圳'}\n",
      "ID: call_p9sWi6HsgKCIlyuRNJQo5iwt\n",
      "Tool results: [ToolMessage(content='深圳 当前天气：阴，气温 25°C，风向 东北，风力 ≤3 级，湿度 74%。（数据更新时间：2025-10-30 21:00:38）', name='get_weather', tool_call_id='call_p9sWi6HsgKCIlyuRNJQo5iwt')]\n"
     ]
    }
   ],
   "execution_count": 42
  },
  {
   "metadata": {},
   "cell_type": "code",
   "source": [
    "# 流式传输\n",
    "\n",
    "chunks = []\n",
    "full_message = None\n",
    "for chunk in model.stream(\"Hi\"):\n",
    "    chunks.append(chunk)\n",
    "    print(chunk.text)\n",
    "    # print(chunk.text, end=\"\", flush=True)\n",
    "    full_message = chunk if full_message is None else full_message + chunk\n",
    "\n",
    "print(full_message)"
   ],
   "id": "565a2c700d08860e",
   "outputs": [],
   "execution_count": null
  },
  {
   "metadata": {},
   "cell_type": "code",
   "source": "",
   "id": "83b1f988fd02866b",
   "outputs": [],
   "execution_count": null
  },
  {
   "metadata": {},
   "cell_type": "markdown",
   "source": "### Tool Messages 工具消息",
   "id": "db515b168e08c2d2"
  },
  {
   "metadata": {
    "ExecuteTime": {
     "end_time": "2025-10-30T13:09:54.451633Z",
     "start_time": "2025-10-30T13:09:48.708283Z"
    }
   },
   "cell_type": "code",
   "source": [
    "# After a model makes a tool call\n",
    "from langchain.messages import HumanMessage, AIMessage, SystemMessage, ToolMessage\n",
    "\n",
    "ai_message = AIMessage(\n",
    "    content=[],\n",
    "    tool_calls=[{\n",
    "        \"name\": \"get_weather\",\n",
    "        \"args\": {\"location\": \"Shenzhen\"},\n",
    "        \"id\": \"call_123\"\n",
    "    }]\n",
    ")\n",
    "\n",
    "# Execute tool and create result message\n",
    "weather_result = \"深圳 当前天气：阴，气温 25°C，风向 东北，风力 ≤3 级，湿度 74%。（数据更新时间：2025-10-30 21:00:38）\"\n",
    "tool_message = ToolMessage(\n",
    "    content=weather_result,\n",
    "    tool_call_id=\"call_123\"  # Must match the call ID\n",
    ")\n",
    "\n",
    "# Continue conversation\n",
    "messages = [\n",
    "    HumanMessage(\"What's the weather in Shenzhen?\"),\n",
    "    ai_message,  # Model's tool call\n",
    "    tool_message,  # Tool execution result\n",
    "]\n",
    "response = model.invoke(messages)  # Model processes the result\n",
    "\n",
    "response.pretty_print()"
   ],
   "id": "3137143c7c1362e5",
   "outputs": [
    {
     "name": "stdout",
     "output_type": "stream",
     "text": [
      "==================================\u001B[1m Ai Message \u001B[0m==================================\n",
      "\n",
      "Current weather in Shenzhen:\n",
      "- Conditions: Cloudy/overcast\n",
      "- Temperature: 25°C\n",
      "- Wind: Light breeze from the northeast (≤3 on the Beaufort scale)\n",
      "- Humidity: 74%\n",
      "- Data updated: 21:00:38 on 2025-10-30\n"
     ]
    }
   ],
   "execution_count": 44
  },
  {
   "metadata": {},
   "cell_type": "code",
   "outputs": [],
   "execution_count": null,
   "source": "",
   "id": "585d0e7a9f43983f"
  },
  {
   "metadata": {},
   "cell_type": "markdown",
   "source": [
    "## Message Content 消息内容\n",
    "\n",
    "LangChain 聊天模型接受 content 属性中的消息内容，并可以包含：\n",
    "- 一个字符串\n",
    "- 以提供者原生格式的内容块列表\n",
    "- LangChain 的标准内容块列表"
   ],
   "id": "700c00e9d7f026dd"
  },
  {
   "metadata": {
    "ExecuteTime": {
     "end_time": "2025-10-30T13:17:42.810793Z",
     "start_time": "2025-10-30T13:17:42.808451Z"
    }
   },
   "cell_type": "code",
   "source": [
    "from langchain.messages import HumanMessage\n",
    "\n",
    "# String content\n",
    "human_message = HumanMessage(\"Hello, how are you?\")\n",
    "\n",
    "# Provider-native format (e.g., OpenAI)\n",
    "human_message = HumanMessage(content=[\n",
    "    {\"type\": \"text\", \"text\": \"Hello, how are you?\"},\n",
    "    {\"type\": \"image_url\", \"image_url\": {\"url\": \"https://example.com/image.jpg\"}}\n",
    "])\n",
    "\n",
    "# List of standard content blocks\n",
    "human_message = HumanMessage(content_blocks=[\n",
    "    {\"type\": \"text\", \"text\": \"Hello, how are you?\"},\n",
    "    {\"type\": \"image\", \"url\": \"https://example.com/image.jpg\"},\n",
    "])\n",
    "\n",
    "print(human_message)"
   ],
   "id": "b8ff243c73014b81",
   "outputs": [
    {
     "name": "stdout",
     "output_type": "stream",
     "text": [
      "content=[{'type': 'text', 'text': 'Hello, how are you?'}, {'type': 'image', 'url': 'https://example.com/image.jpg'}] additional_kwargs={} response_metadata={}\n"
     ]
    }
   ],
   "execution_count": 48
  },
  {
   "metadata": {},
   "cell_type": "markdown",
   "source": "### Standard content blocks 标准内容块",
   "id": "549fdb0166c859e6"
  },
  {
   "metadata": {
    "ExecuteTime": {
     "end_time": "2025-10-30T13:21:21.835159Z",
     "start_time": "2025-10-30T13:21:21.830482Z"
    }
   },
   "cell_type": "code",
   "source": [
    "from langchain.messages import AIMessage\n",
    "\n",
    "message = AIMessage(\n",
    "    content=[\n",
    "        {\n",
    "            \"type\": \"reasoning\",\n",
    "            \"id\": \"rs_abc123\",\n",
    "            \"summary\": [\n",
    "                {\"type\": \"summary_text\", \"text\": \"summary 1\"},\n",
    "                {\"type\": \"summary_text\", \"text\": \"summary 2\"},\n",
    "            ],\n",
    "        },\n",
    "        {\"type\": \"text\", \"text\": \"...\", \"id\": \"msg_abc123\"},\n",
    "    ],\n",
    "    response_metadata={\"model_provider\": \"openai\"}\n",
    ")\n",
    "print(message)\n",
    "print(message.content_blocks) # 标准化的结构化响应；\n",
    "print(message.content) # 保留原始内容（兼容旧版）\n"
   ],
   "id": "97db6b644ad1701c",
   "outputs": [
    {
     "name": "stdout",
     "output_type": "stream",
     "text": [
      "content=[{'type': 'reasoning', 'id': 'rs_abc123', 'summary': [{'type': 'summary_text', 'text': 'summary 1'}, {'type': 'summary_text', 'text': 'summary 2'}]}, {'type': 'text', 'text': '...', 'id': 'msg_abc123'}] additional_kwargs={} response_metadata={'model_provider': 'openai'}\n",
      "[{'type': 'reasoning', 'id': 'rs_abc123', 'reasoning': 'summary 1'}, {'type': 'reasoning', 'id': 'rs_abc123', 'reasoning': 'summary 2'}, {'type': 'text', 'text': '...', 'id': 'msg_abc123'}]\n"
     ]
    }
   ],
   "execution_count": 51
  },
  {
   "metadata": {},
   "cell_type": "markdown",
   "source": [
    "## message.content_blocks 为什么能访问但类里没有显式定义\n",
    "\n",
    "实际上，在新版 LangChain 中，AIMessage 对象确实没有显式定义 content_blocks 字段，\n",
    "但 LangChain 在 __getattr__ 中做了动态属性映射。\n",
    "\n",
    "源码机制大概类似：\n",
    "\n",
    "```python\n",
    "def __getattr__(self, name):\n",
    "    if name == \"content_blocks\":\n",
    "        return self.content\n",
    "    raise AttributeError\n",
    "```\n",
    "\n",
    "\n",
    "也就是说：\n",
    "\n",
    "content_blocks 是一个别名，用于统一兼容不同模型（例如 OpenAI、Anthropic 等）返回的多段内容结构；\n",
    "\n",
    "内部依然访问 content 字段，只是为了兼容外部调用接口。"
   ],
   "id": "ed32f1dd8fc69b2d"
  },
  {
   "metadata": {},
   "cell_type": "code",
   "outputs": [],
   "execution_count": null,
   "source": "",
   "id": "237ba137ac8feba3"
  },
  {
   "metadata": {},
   "cell_type": "markdown",
   "source": "### Multimodal 多模态",
   "id": "daaa5fcfa42f88ad"
  },
  {
   "metadata": {
    "ExecuteTime": {
     "end_time": "2025-10-30T13:28:23.790466Z",
     "start_time": "2025-10-30T13:28:23.787447Z"
    }
   },
   "cell_type": "code",
   "source": [
    "# From URL\n",
    "message = {\n",
    "    \"role\": \"user\",\n",
    "    \"content\": [\n",
    "        {\"type\": \"text\", \"text\": \"Describe the content of this image.\"},\n",
    "        {\"type\": \"image\", \"url\": \"https://example.com/path/to/image.jpg\"},\n",
    "    ]\n",
    "}\n",
    "\n",
    "# From base64 data\n",
    "message = {\n",
    "    \"role\": \"user\",\n",
    "    \"content\": [\n",
    "        {\"type\": \"text\", \"text\": \"Describe the content of this image.\"},\n",
    "        {\n",
    "            \"type\": \"image\",\n",
    "            \"base64\": \"AAAAIGZ0eXBtcDQyAAAAAGlzb21tcDQyAAACAGlzb2...\",\n",
    "            \"mime_type\": \"image/jpeg\",\n",
    "        },\n",
    "    ]\n",
    "}\n",
    "\n",
    "# From provider-managed File ID\n",
    "message = {\n",
    "    \"role\": \"user\",\n",
    "    \"content\": [\n",
    "        {\"type\": \"text\", \"text\": \"Describe the content of this image.\"},\n",
    "        {\"type\": \"image\", \"file_id\": \"file-abc123\"},\n",
    "    ]\n",
    "}"
   ],
   "id": "ca852b339366c6dc",
   "outputs": [],
   "execution_count": 52
  },
  {
   "metadata": {
    "ExecuteTime": {
     "end_time": "2025-10-30T13:28:28.843440Z",
     "start_time": "2025-10-30T13:28:28.840958Z"
    }
   },
   "cell_type": "code",
   "source": [
    "# From URL\n",
    "message = {\n",
    "    \"role\": \"user\",\n",
    "    \"content\": [\n",
    "        {\"type\": \"text\", \"text\": \"Describe the content of this document.\"},\n",
    "        {\"type\": \"file\", \"url\": \"https://example.com/path/to/document.pdf\"},\n",
    "    ]\n",
    "}\n",
    "\n",
    "# From base64 data\n",
    "message = {\n",
    "    \"role\": \"user\",\n",
    "    \"content\": [\n",
    "        {\"type\": \"text\", \"text\": \"Describe the content of this document.\"},\n",
    "        {\n",
    "            \"type\": \"file\",\n",
    "            \"base64\": \"AAAAIGZ0eXBtcDQyAAAAAGlzb21tcDQyAAACAGlzb2...\",\n",
    "            \"mime_type\": \"application/pdf\",\n",
    "        },\n",
    "    ]\n",
    "}\n",
    "\n",
    "# From provider-managed File ID\n",
    "message = {\n",
    "    \"role\": \"user\",\n",
    "    \"content\": [\n",
    "        {\"type\": \"text\", \"text\": \"Describe the content of this document.\"},\n",
    "        {\"type\": \"file\", \"file_id\": \"file-abc123\"},\n",
    "    ]\n",
    "}"
   ],
   "id": "9702a1524182c07",
   "outputs": [],
   "execution_count": 53
  },
  {
   "metadata": {
    "ExecuteTime": {
     "end_time": "2025-10-30T13:28:33.347260Z",
     "start_time": "2025-10-30T13:28:33.344993Z"
    }
   },
   "cell_type": "code",
   "source": [
    "# From base64 data\n",
    "message = {\n",
    "    \"role\": \"user\",\n",
    "    \"content\": [\n",
    "        {\"type\": \"text\", \"text\": \"Describe the content of this audio.\"},\n",
    "        {\n",
    "            \"type\": \"audio\",\n",
    "            \"base64\": \"AAAAIGZ0eXBtcDQyAAAAAGlzb21tcDQyAAACAGlzb2...\",\n",
    "            \"mime_type\": \"audio/wav\",\n",
    "        },\n",
    "    ]\n",
    "}\n",
    "\n",
    "# From provider-managed File ID\n",
    "message = {\n",
    "    \"role\": \"user\",\n",
    "    \"content\": [\n",
    "        {\"type\": \"text\", \"text\": \"Describe the content of this audio.\"},\n",
    "        {\"type\": \"audio\", \"file_id\": \"file-abc123\"},\n",
    "    ]\n",
    "}"
   ],
   "id": "7696cccf24e77d58",
   "outputs": [],
   "execution_count": 54
  },
  {
   "metadata": {
    "ExecuteTime": {
     "end_time": "2025-10-30T13:28:38.392077Z",
     "start_time": "2025-10-30T13:28:38.389359Z"
    }
   },
   "cell_type": "code",
   "source": [
    "# From base64 data\n",
    "message = {\n",
    "    \"role\": \"user\",\n",
    "    \"content\": [\n",
    "        {\"type\": \"text\", \"text\": \"Describe the content of this video.\"},\n",
    "        {\n",
    "            \"type\": \"video\",\n",
    "            \"base64\": \"AAAAIGZ0eXBtcDQyAAAAAGlzb21tcDQyAAACAGlzb2...\",\n",
    "            \"mime_type\": \"video/mp4\",\n",
    "        },\n",
    "    ]\n",
    "}\n",
    "\n",
    "# From provider-managed File ID\n",
    "message = {\n",
    "    \"role\": \"user\",\n",
    "    \"content\": [\n",
    "        {\"type\": \"text\", \"text\": \"Describe the content of this video.\"},\n",
    "        {\"type\": \"video\", \"file_id\": \"file-abc123\"},\n",
    "    ]\n",
    "}"
   ],
   "id": "504701fba67e66ec",
   "outputs": [],
   "execution_count": 55
  },
  {
   "metadata": {},
   "cell_type": "code",
   "outputs": [],
   "execution_count": null,
   "source": "",
   "id": "2dbaeaf09a36f6ab"
  }
 ],
 "metadata": {
  "kernelspec": {
   "display_name": "Python 3",
   "language": "python",
   "name": "python3"
  },
  "language_info": {
   "codemirror_mode": {
    "name": "ipython",
    "version": 2
   },
   "file_extension": ".py",
   "mimetype": "text/x-python",
   "name": "python",
   "nbconvert_exporter": "python",
   "pygments_lexer": "ipython2",
   "version": "2.7.6"
  }
 },
 "nbformat": 4,
 "nbformat_minor": 5
}
