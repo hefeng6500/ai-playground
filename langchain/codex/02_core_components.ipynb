{
  "cells": [
    {
      "cell_type": "markdown",
      "metadata": {},
      "source": [
        "# LangChain 学习手册 02：核心组件\n",
        "\n",
        "本笔记本继续聚焦 LangChain v0.3.79，帮助你掌握 Prompt、LLM、输出解析器、Runnables 等核心概念。\n"
      ]
    },
    {
      "cell_type": "markdown",
      "metadata": {},
      "source": [
        "## Prompt 模板与变量\n",
        "LangChain 的 `ChatPromptTemplate` 支持多轮消息与变量注入。\n"
      ]
    },
    {
      "cell_type": "code",
      "execution_count": null,
      "metadata": {},
      "outputs": [],
      "source": [
        "from langchain_core.prompts import ChatPromptTemplate\n",
        "from datetime import datetime\n",
        "\n",
        "prompt = ChatPromptTemplate.from_messages(\n",
        "    [\n",
        "        ('system', '今天是 {date}。请以中文回答问题。'),\n",
        "        ('human', '{question}')\n",
        "    ]\n",
        ")\n",
        "\n",
        "formatted = prompt.invoke(\n",
        "    {\n",
        "        'date': datetime.utcnow().date().isoformat(),\n",
        "        'question': '给我三条学习 LangChain 的建议'\n",
        "    }\n",
        ")\n",
        "\n",
        "for message in formatted.messages:\n",
        "    print(message.type, ':', message.content)\n"
      ]
    },
    {
      "cell_type": "markdown",
      "metadata": {},
      "source": [
        "## Runnables：组合式流水线\n",
        "\n",
        "`Runnable` 是 0.3 版本的核心抽象。你可以通过 `|` 运算符组合各个步骤，形成端到端的流程。\n"
      ]
    },
    {
      "cell_type": "code",
      "execution_count": null,
      "metadata": {},
      "outputs": [],
      "source": [
        "            from langchain_community.chat_models.fake import FakeListChatModel\n",
        "            from langchain_core.output_parsers import StrOutputParser\n",
        "            from langchain_core.runnables import RunnableLambda\n",
        "\n",
        "            model = FakeListChatModel(\n",
        "                responses=['1. 阅读官方教程\n",
        "2. 亲手实现示例\n",
        "3. 构建自己的项目']\n",
        "            )\n",
        "            parser = StrOutputParser()\n",
        "\n",
        "            def post_process(text: str) -> str:\n",
        "                return text.upper()\n",
        "\n",
        "            chain = prompt | model | parser | RunnableLambda(lambda text: post_process(text))\n",
        "\n",
        "            print(chain.invoke({'date': '2024-01-01', 'question': '我要如何实践 LangChain？'}))\n"
      ]
    },
    {
      "cell_type": "markdown",
      "metadata": {},
      "source": [
        "## 输出结构化数据\n",
        "当你需要结构化输出时，可以利用 `PydanticOutputParser` 或者 `JsonOutputParser`。\n"
      ]
    },
    {
      "cell_type": "code",
      "execution_count": null,
      "metadata": {},
      "outputs": [],
      "source": [
        "            from langchain_core.pydantic_v1 import BaseModel, Field\n",
        "            from langchain.output_parsers.json import JsonOutputParser\n",
        "            from langchain_core.prompts import PromptTemplate\n",
        "            from langchain_community.llms.fake import FakeListLLM\n",
        "\n",
        "            class StudyPlan(BaseModel):\n",
        "                topic: str = Field(description='学习主题')\n",
        "                steps: list[str] = Field(description='循序渐进的步骤')\n",
        "\n",
        "            parser = JsonOutputParser(pydantic_object=StudyPlan)\n",
        "\n",
        "            prompt = PromptTemplate(\n",
        "                template='为主题 {topic} 设计一份学习计划，返回 JSON，字段为 topic 与 steps。\n",
        "{format_instructions}',\n",
        "                input_variables=['topic'],\n",
        "                partial_variables={'format_instructions': parser.get_format_instructions()}\n",
        "            )\n",
        "\n",
        "            llm = FakeListLLM(\n",
        "                responses=[\n",
        "                    '{\"topic\": \"LangChain\", \"steps\": [\"阅读文档\", \"动手写链\", \"集成工具\"]}'\n",
        "                ]\n",
        "            )\n",
        "\n",
        "            chain = prompt | llm | parser\n",
        "            plan = chain.invoke({'topic': 'LangChain'})\n",
        "            plan\n"
      ]
    },
    {
      "cell_type": "markdown",
      "metadata": {},
      "source": [
        "## 小结\n",
        "- Prompt 模板允许你组织上下文与变量。\n",
        "- Runnables 让链路组合变得清晰、可测试。\n",
        "- 输出解析器帮助你更可靠地获取结构化结果。\n"
      ]
    }
  ],
  "metadata": {
    "kernelspec": {
      "display_name": "Python 3",
      "language": "python",
      "name": "python3"
    },
    "language_info": {
      "name": "python",
      "version": "3.11"
    }
  },
  "nbformat": 4,
  "nbformat_minor": 5
}