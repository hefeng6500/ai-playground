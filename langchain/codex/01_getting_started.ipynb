{
  "cells": [
    {
      "cell_type": "markdown",
      "metadata": {},
      "source": [
        "# LangChain 学习手册 01：快速上手\n",
        "\n",
        "欢迎来到 LangChain v0.3.79 的入门手册。本笔记本基于 [LangChain 官方仓库](https://github.com/langchain-ai/langchain) 与 [最新版文档](https://python.langchain.com/docs/introduction/)，帮助你快速了解如何安装并验证当前版本。\n"
      ]
    },
    {
      "cell_type": "markdown",
      "metadata": {},
      "source": [
        "## 安装与环境准备\n",
        "\n",
        "1. 创建虚拟环境（可选）：\n",
        "   ```bash\n",
        "   python -m venv .venv\n",
        "   source .venv/bin/activate  # Windows 使用 .venv\\Scripts\\activate\n",
        "   ```\n",
        "2. 安装 LangChain 核心依赖：\n",
        "   ```bash\n",
        "   pip install -U langchain==0.3.79 langchain-core langchain-community langchain-openai\n",
        "   ```\n",
        "3. 如果需要使用 OpenAI、Azure OpenAI 等模型，请根据文档设置对应的环境变量，如 `OPENAI_API_KEY`。\n"
      ]
    },
    {
      "cell_type": "code",
      "execution_count": null,
      "metadata": {},
      "outputs": [],
      "source": [
        "import langchain\n",
        "import langchain_core\n",
        "print('LangChain version:', langchain.__version__)\n",
        "print('LangChain Core version:', langchain_core.__version__)\n"
      ]
    },
    {
      "cell_type": "markdown",
      "metadata": {},
      "source": [
        "> ✅ 如果输出中显示的是 `0.3.79`，说明环境准备就绪。\n"
      ]
    },
    {
      "cell_type": "markdown",
      "metadata": {},
      "source": [
        "## 第一个 LangChain 流水线\n",
        "\n",
        "LangChain 0.3 版本强调 **Runnable** 管线。我们可以从 Prompt → 模型 → 输出解析器 的链路开始。下方示例使用 `langchain_openai.ChatOpenAI`，也提供了 `FakeListChatModel` 以便在没有 API Key 时离线演练。\n"
      ]
    },
    {
      "cell_type": "code",
      "execution_count": null,
      "metadata": {},
      "outputs": [],
      "source": [
        "from langchain_core.prompts import ChatPromptTemplate\n",
        "from langchain_core.output_parsers import StrOutputParser\n",
        "from langchain_core.runnables import RunnableLambda\n",
        "\n",
        "# 如果你已经配置了 OpenAI，可取消下一行注释并提供 API Key\n",
        "# from langchain_openai import ChatOpenAI\n",
        "# model = ChatOpenAI(model='gpt-4o-mini', temperature=0)\n",
        "\n",
        "# 演示用的假模型，会按照预置答案返回文本\n",
        "from langchain_community.chat_models.fake import FakeListChatModel\n",
        "\n",
        "model = FakeListChatModel(\n",
        "    responses=[\n",
        "        'LangChain 让你能够把大语言模型与工具链结合，从而更快构建应用。'\n",
        "    ]\n",
        ")\n",
        "\n",
        "prompt = ChatPromptTemplate.from_messages(\n",
        "    [\n",
        "        ('system', '你是一位 LangChain 导师，用简体中文回答。'),\n",
        "        ('human', '{question}')\n",
        "    ]\n",
        ")\n",
        "\n",
        "chain = prompt | model | StrOutputParser()\n",
        "\n",
        "response = chain.invoke({'question': 'LangChain 能帮我做什么？'})\n",
        "print(response)\n"
      ]
    },
    {
      "cell_type": "markdown",
      "metadata": {},
      "source": [
        "## 任务：修改提示词\n",
        "\n",
        "尝试把系统提示词改成“使用要点列表解释”，并再次调用 `chain.invoke`，观察输出如何变化。这是理解 Prompt Template 的第一步。\n"
      ]
    },
    {
      "cell_type": "markdown",
      "metadata": {},
      "source": [
        "## 延伸阅读\n",
        "- [LangChain 快速开始文档](https://python.langchain.com/docs/introduction/)\n",
        "- [官方示例仓库 notebooks](https://github.com/langchain-ai/langchain/tree/v0.3.79/cookbook)\n"
      ]
    }
  ],
  "metadata": {
    "kernelspec": {
      "display_name": "Python 3",
      "language": "python",
      "name": "python3"
    },
    "language_info": {
      "name": "python",
      "version": "3.11"
    }
  },
  "nbformat": 4,
  "nbformat_minor": 5
}