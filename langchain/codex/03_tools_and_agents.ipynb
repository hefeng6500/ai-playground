{
  "cells": [
    {
      "cell_type": "markdown",
      "metadata": {},
      "source": [
        "# LangChain 学习手册 03：工具、记忆与 Agent\n",
        "\n",
        "本节基于 LangChain v0.3.79，介绍如何把检索、工具调用与 Agent 框架结合起来。\n"
      ]
    },
    {
      "cell_type": "markdown",
      "metadata": {},
      "source": [
        "## 准备检索工具\n",
        "你可以选择任何向量数据库或文档检索方案。下面示例用 `InMemoryVectorStore` 结合 `OpenAIEmbeddings`，演示如何构建简单的检索链。\n"
      ]
    },
    {
      "cell_type": "code",
      "execution_count": null,
      "metadata": {},
      "outputs": [],
      "source": [
        "from langchain_community.vectorstores import InMemoryVectorStore\n",
        "from langchain_openai import OpenAIEmbeddings\n",
        "from langchain_text_splitters import RecursiveCharacterTextSplitter\n",
        "from langchain_core.documents import Document\n",
        "\n",
        "texts = [\n",
        "    'LangChain 通过模块化组件帮助开发者构建多种 LLM 应用。',\n",
        "    'LangChain 的 Runnable 管线让你可以灵活组合提示、模型与工具。',\n",
        "    'LangChain 与多种向量数据库、检索器与代理框架集成。'\n",
        "]\n",
        "\n",
        "splitter = RecursiveCharacterTextSplitter(chunk_size=50, chunk_overlap=0)\n",
        "\n",
        "split_docs = [\n",
        "    Document(page_content=chunk)\n",
        "    for text in texts\n",
        "    for chunk in splitter.split_text(text)\n",
        "]\n",
        "\n",
        "vectorstore = InMemoryVectorStore.from_documents(\n",
        "    split_docs,\n",
        "    OpenAIEmbeddings(model='text-embedding-3-small')\n",
        ")\n",
        "retriever = vectorstore.as_retriever()\n"
      ]
    },
    {
      "cell_type": "markdown",
      "metadata": {},
      "source": [
        "> ℹ️ 如果没有 OpenAI API Key，可以将 `OpenAIEmbeddings` 替换为社区提供的本地向量模型，或在演示时使用 `FakeEmbeddings`。\n"
      ]
    },
    {
      "cell_type": "markdown",
      "metadata": {},
      "source": [
        "## 构建检索增强链 (RAG)\n",
        "借助 `RunnableParallel` 与 `ChatPromptTemplate`，我们可以快速搭建一个检索增强的回答流程。\n"
      ]
    },
    {
      "cell_type": "code",
      "execution_count": null,
      "metadata": {},
      "outputs": [],
      "source": [
        "            from langchain_core.runnables import RunnableParallel, RunnableLambda\n",
        "            from langchain_core.prompts import ChatPromptTemplate\n",
        "            from langchain_community.chat_models.fake import FakeListChatModel\n",
        "            from langchain_core.output_parsers import StrOutputParser\n",
        "\n",
        "            model = FakeListChatModel(\n",
        "                responses=['根据检索内容，建议先阅读 LangChain 官方文档，再结合示例实践。']\n",
        "            )\n",
        "\n",
        "            prompt = ChatPromptTemplate.from_messages(\n",
        "                [\n",
        "                    ('system', '你是一位 LangChain 学习顾问，参考上下文回答问题。'),\n",
        "                    ('human', '问题: {question}\n",
        "上下文: {context}')\n",
        "                ]\n",
        "            )\n",
        "\n",
        "            rag_chain = (\n",
        "                RunnableParallel(\n",
        "                    context=retriever,\n",
        "                    question=RunnableLambda(lambda x: x['question'])\n",
        "                )\n",
        "                | prompt\n",
        "                | model\n",
        "                | StrOutputParser()\n",
        "            )\n",
        "\n",
        "            print(rag_chain.invoke({'question': '学习 LangChain 的路线是什么？'}))\n"
      ]
    },
    {
      "cell_type": "markdown",
      "metadata": {},
      "source": [
        "## 构建 ReAct Agent\n",
        "LangChain 0.3.79 提供 `create_react_agent` 等辅助函数，可快速让大模型调用工具。\n"
      ]
    },
    {
      "cell_type": "code",
      "execution_count": null,
      "metadata": {},
      "outputs": [],
      "source": [
        "from langchain.agents import create_react_agent, AgentExecutor\n",
        "from langchain_core.tools import tool\n",
        "from langchain_openai import ChatOpenAI\n",
        "\n",
        "@tool\n",
        "def recommend_resource(topic: str) -> str:\n",
        "    \"\"\"基于主题返回推荐资源。\"\"\"\n",
        "    if 'langchain' in topic.lower():\n",
        "        return '推荐阅读 LangChain 官方文档与 Cookbook。'\n",
        "    return '请指定更明确的主题。'\n",
        "\n",
        "# 若无 API Key，可改用 Fake 模型并模拟输出。\n",
        "llm = ChatOpenAI(model='gpt-4o-mini', temperature=0)\n",
        "\n",
        "agent = create_react_agent(llm, [recommend_resource])\n",
        "executor = AgentExecutor(agent=agent, tools=[recommend_resource], verbose=True)\n",
        "\n",
        "result = executor.invoke({'input': '帮我推荐 LangChain 的学习资料'})\n",
        "result['output']\n"
      ]
    },
    {
      "cell_type": "markdown",
      "metadata": {},
      "source": [
        "> ⚠️ ReAct Agent 通常需要真实的大模型能力。如果没有网络或 API Key，可以阅读输出日志并把 `ChatOpenAI` 替换为能离线运行的模型。\n"
      ]
    },
    {
      "cell_type": "markdown",
      "metadata": {},
      "source": [
        "## 下一步\n",
        "- 深入阅读官方文档的 [How-to Guides](https://python.langchain.com/docs/how_to/) 与 [API 参考](https://api.python.langchain.com/en/latest/)。\n",
        "- 尝试把 LangChain 与你熟悉的框架（FastAPI、Streamlit 等）结合。\n",
        "- 持续关注 v0.3.x 的更新日志，及时调整代码结构。\n"
      ]
    }
  ],
  "metadata": {
    "kernelspec": {
      "display_name": "Python 3",
      "language": "python",
      "name": "python3"
    },
    "language_info": {
      "name": "python",
      "version": "3.11"
    }
  },
  "nbformat": 4,
  "nbformat_minor": 5
}