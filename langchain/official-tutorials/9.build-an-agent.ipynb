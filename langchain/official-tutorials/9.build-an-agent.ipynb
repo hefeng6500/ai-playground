{
 "cells": [
  {
   "cell_type": "markdown",
   "id": "60eeafb4",
   "metadata": {},
   "source": [
    "# build an agent 构建代理"
   ]
  },
  {
   "cell_type": "code",
   "execution_count": 1,
   "id": "70f56751",
   "metadata": {},
   "outputs": [],
   "source": [
    "# Import relevant functionality\n",
    "from langchain.chat_models import init_chat_model\n",
    "from langchain_tavily import TavilySearch\n",
    "from langgraph.checkpoint.memory import MemorySaver\n",
    "from langgraph.prebuilt import create_react_agent\n",
    "\n",
    "# Create the agent\n",
    "memory = MemorySaver()\n",
    "# model = init_chat_model(\"anthropic:claude-3-5-sonnet-latest\")\n",
    "model = init_chat_model(\"gpt-4o-mini\", model_provider=\"openai\")\n",
    "search = TavilySearch(max_results=2)\n",
    "tools = [search]\n",
    "agent_executor = create_react_agent(model, tools, checkpointer=memory)"
   ]
  },
  {
   "cell_type": "code",
   "execution_count": 2,
   "id": "8f593e8b",
   "metadata": {},
   "outputs": [
    {
     "name": "stdout",
     "output_type": "stream",
     "text": [
      "================================\u001b[1m Human Message \u001b[0m=================================\n",
      "\n",
      "Hi, I'm Bob and I live in SF.\n",
      "==================================\u001b[1m Ai Message \u001b[0m==================================\n",
      "\n",
      "Hi Bob! It's great to meet you. How can I assist you today?\n"
     ]
    }
   ],
   "source": [
    "# Use the agent\n",
    "config = {\"configurable\": {\"thread_id\": \"abc123\"}}\n",
    "\n",
    "input_message = {\n",
    "    \"role\": \"user\",\n",
    "    \"content\": \"Hi, I'm Bob and I live in SF.\",\n",
    "}\n",
    "for step in agent_executor.stream(\n",
    "    {\"messages\": [input_message]}, config, stream_mode=\"values\"\n",
    "):\n",
    "    step[\"messages\"][-1].pretty_print()"
   ]
  },
  {
   "cell_type": "code",
   "execution_count": 3,
   "id": "046caac5",
   "metadata": {},
   "outputs": [
    {
     "name": "stdout",
     "output_type": "stream",
     "text": [
      "================================\u001b[1m Human Message \u001b[0m=================================\n",
      "\n",
      "What's the weather where I live?\n",
      "==================================\u001b[1m Ai Message \u001b[0m==================================\n",
      "Tool Calls:\n",
      "  tavily_search (call_72DOwhRD4YyuXYKBmMYITsod)\n",
      " Call ID: call_72DOwhRD4YyuXYKBmMYITsod\n",
      "  Args:\n",
      "    query: current weather San Francisco\n",
      "    topic: general\n",
      "=================================\u001b[1m Tool Message \u001b[0m=================================\n",
      "Name: tavily_search\n",
      "\n",
      "{\"query\": \"current weather San Francisco\", \"follow_up_questions\": null, \"answer\": null, \"images\": [], \"results\": [{\"title\": \"Weather in San Francisco\", \"url\": \"https://www.weatherapi.com/\", \"content\": \"{'location': {'name': 'San Francisco', 'region': 'California', 'country': 'United States of America', 'lat': 37.775, 'lon': -122.4183, 'tz_id': 'America/Los_Angeles', 'localtime_epoch': 1756651789, 'localtime': '2025-08-31 07:49'}, 'current': {'last_updated_epoch': 1756651500, 'last_updated': '2025-08-31 07:45', 'temp_c': 15.6, 'temp_f': 60.1, 'is_day': 1, 'condition': {'text': 'Fog', 'icon': '//cdn.weatherapi.com/weather/64x64/day/248.png', 'code': 1135}, 'wind_mph': 2.5, 'wind_kph': 4.0, 'wind_degree': 246, 'wind_dir': 'WSW', 'pressure_mb': 1014.0, 'pressure_in': 29.94, 'precip_mm': 0.0, 'precip_in': 0.0, 'humidity': 80, 'cloud': 25, 'feelslike_c': 15.6, 'feelslike_f': 60.1, 'windchill_c': 12.6, 'windchill_f': 54.7, 'heatindex_c': 12.9, 'heatindex_f': 55.2, 'dewpoint_c': 12.7, 'dewpoint_f': 54.8, 'vis_km': 16.0, 'vis_miles': 9.0, 'uv': 0.0, 'gust_mph': 5.2, 'gust_kph': 8.3}}\", \"score\": 0.9705737, \"raw_content\": null}, {\"url\": \"https://weathershogun.com/weather/usa/ca/san-francisco/480/august/2025-08-31\", \"title\": \"Sunday, August 31, 2025. San Francisco, CA - Weather Forecast\", \"content\": \"San Francisco, California Weather: Sunday, August 31, 2025. Rainy weather, precipitation in the form of water droplets falling from the sky.\", \"score\": 0.9314689, \"raw_content\": null}], \"response_time\": 1.44, \"request_id\": \"1e54e474-253c-472c-9ff2-719139541cf9\"}\n",
      "==================================\u001b[1m Ai Message \u001b[0m==================================\n",
      "\n",
      "The current weather in San Francisco is as follows:\n",
      "\n",
      "- **Temperature:** 15.6°C (60.1°F)\n",
      "- **Condition:** Fog\n",
      "- **Wind:** 2.5 mph from the WSW\n",
      "- **Humidity:** 80%\n",
      "- **Visibility:** 16 km (9 miles)\n",
      "\n",
      "If you want more details, you can check the full forecast [here](https://www.weatherapi.com/).\n"
     ]
    }
   ],
   "source": [
    "input_message = {\n",
    "    \"role\": \"user\",\n",
    "    \"content\": \"What's the weather where I live?\",\n",
    "}\n",
    "\n",
    "for step in agent_executor.stream(\n",
    "    {\"messages\": [input_message]}, config, stream_mode=\"values\"\n",
    "):\n",
    "    step[\"messages\"][-1].pretty_print()"
   ]
  },
  {
   "cell_type": "markdown",
   "id": "45f5bb1b",
   "metadata": {},
   "source": [
    "### 定义工具"
   ]
  },
  {
   "cell_type": "code",
   "execution_count": 4,
   "id": "e2019cc0",
   "metadata": {},
   "outputs": [
    {
     "name": "stdout",
     "output_type": "stream",
     "text": [
      "{'query': 'What is the weather in SF', 'follow_up_questions': None, 'answer': None, 'images': [], 'results': [{'title': 'Weather in San Francisco', 'url': 'https://www.weatherapi.com/', 'content': \"{'location': {'name': 'San Francisco', 'region': 'California', 'country': 'United States of America', 'lat': 37.775, 'lon': -122.4183, 'tz_id': 'America/Los_Angeles', 'localtime_epoch': 1756652271, 'localtime': '2025-08-31 07:57'}, 'current': {'last_updated_epoch': 1756651500, 'last_updated': '2025-08-31 07:45', 'temp_c': 15.6, 'temp_f': 60.1, 'is_day': 1, 'condition': {'text': 'Fog', 'icon': '//cdn.weatherapi.com/weather/64x64/day/248.png', 'code': 1135}, 'wind_mph': 2.5, 'wind_kph': 4.0, 'wind_degree': 246, 'wind_dir': 'WSW', 'pressure_mb': 1014.0, 'pressure_in': 29.94, 'precip_mm': 0.0, 'precip_in': 0.0, 'humidity': 80, 'cloud': 25, 'feelslike_c': 15.6, 'feelslike_f': 60.1, 'windchill_c': 12.6, 'windchill_f': 54.7, 'heatindex_c': 12.9, 'heatindex_f': 55.2, 'dewpoint_c': 12.7, 'dewpoint_f': 54.8, 'vis_km': 16.0, 'vis_miles': 9.0, 'uv': 0.0, 'gust_mph': 5.2, 'gust_kph': 8.3}}\", 'score': 0.9617005, 'raw_content': None}, {'url': 'https://weathershogun.com/weather/usa/ca/san-francisco/480/august/2025-08-31', 'title': 'Sunday, August 31, 2025. San Francisco, CA - Weather Forecast', 'content': \"Sunday, August 31, 2025. San Francisco, CA - Weather Forecast  San Francisco, CA Image 1: WeatherShogun.com HomeContactBrowse StatesPrivacy PolicyTerms and Conditions °F)°C) TodayTomorrowHourly7 days30 daysAugust San Francisco, California Weather:  Sunday, August 31, 2025 Day 77° Night 57° Precipitation 0 % Wind 13 mph UV Index (0 - 11+)11 Monday *   Hourly *   Today *   Current Air Quality *   Hourly Air Quality Forecast *   7 days *   30 days Weather Forecast History Last Year's Weather on This Day (August 31, 2024) ### Day 66° ### Night 57° #### Wind 11 mph #### UV Index #### Precipitation Please note that while we strive for accuracy, the information provided may not always be correct. Use at your own risk. © Copyright by WeatherShogun.com\", 'score': 0.9502313, 'raw_content': None}], 'response_time': 1.21, 'request_id': 'a86e6c74-17cf-4f9e-9d84-750b7c70295f'}\n"
     ]
    }
   ],
   "source": [
    "from langchain_tavily import TavilySearch\n",
    "\n",
    "search = TavilySearch(max_results=2)\n",
    "search_results = search.invoke(\"What is the weather in SF\")\n",
    "print(search_results)\n",
    "# If we want, we can create other tools.\n",
    "# Once we have all the tools we want, we can put them in a list that we will reference later.\n",
    "tools = [search]"
   ]
  },
  {
   "cell_type": "code",
   "execution_count": 5,
   "id": "fe7c5e7b",
   "metadata": {},
   "outputs": [],
   "source": [
    "from langchain.chat_models import init_chat_model\n",
    "\n",
    "model = init_chat_model(\"gpt-4.1\", model_provider=\"openai\")"
   ]
  },
  {
   "cell_type": "code",
   "execution_count": 6,
   "id": "2be52431",
   "metadata": {},
   "outputs": [
    {
     "data": {
      "text/plain": [
       "'Hello! How can I help you today?'"
      ]
     },
     "execution_count": 6,
     "metadata": {},
     "output_type": "execute_result"
    }
   ],
   "source": [
    "query = \"Hi!\"\n",
    "response = model.invoke([{\"role\": \"user\", \"content\": query}])\n",
    "response.text()"
   ]
  },
  {
   "cell_type": "code",
   "execution_count": 7,
   "id": "e93d166b",
   "metadata": {},
   "outputs": [
    {
     "name": "stdout",
     "output_type": "stream",
     "text": [
      "Message content: Hello! How can I help you today? 😊\n",
      "\n",
      "Tool calls: []\n"
     ]
    }
   ],
   "source": [
    "model_with_tools = model.bind_tools(tools)\n",
    "\n",
    "query = \"Hi!\"\n",
    "response = model_with_tools.invoke([{\"role\": \"user\", \"content\": query}])\n",
    "\n",
    "print(f\"Message content: {response.text()}\\n\")\n",
    "print(f\"Tool calls: {response.tool_calls}\")"
   ]
  },
  {
   "cell_type": "code",
   "execution_count": 8,
   "id": "fe7eabed",
   "metadata": {},
   "outputs": [
    {
     "name": "stdout",
     "output_type": "stream",
     "text": [
      "Message content: \n",
      "\n",
      "Tool calls: [{'name': 'tavily_search', 'args': {'query': 'current weather in Shenzhen', 'search_depth': 'basic'}, 'id': 'call_GZMmXJKV0lsEaQnOyX44vmJO', 'type': 'tool_call'}]\n"
     ]
    }
   ],
   "source": [
    "query = \"Search for the weather in ShenZhen\"\n",
    "response = model_with_tools.invoke([{\"role\": \"user\", \"content\": query}])\n",
    "\n",
    "print(f\"Message content: {response.text()}\\n\")\n",
    "print(f\"Tool calls: {response.tool_calls}\")"
   ]
  },
  {
   "cell_type": "code",
   "execution_count": 11,
   "id": "967d69c6",
   "metadata": {},
   "outputs": [
    {
     "name": "stdout",
     "output_type": "stream",
     "text": [
      "================================\u001b[1m Human Message \u001b[0m=================================\n",
      "\n",
      "Hi!\n",
      "==================================\u001b[1m Ai Message \u001b[0m==================================\n",
      "\n",
      "Hello! How can I help you today? 😊\n",
      "================================\u001b[1m Human Message \u001b[0m=================================\n",
      "\n",
      "Search for the weather in shenzhen\n",
      "==================================\u001b[1m Ai Message \u001b[0m==================================\n",
      "Tool Calls:\n",
      "  tavily_search (call_zrREbEuimifanT2jFZMrnA69)\n",
      " Call ID: call_zrREbEuimifanT2jFZMrnA69\n",
      "  Args:\n",
      "    query: current weather in Shenzhen\n",
      "    search_depth: basic\n",
      "=================================\u001b[1m Tool Message \u001b[0m=================================\n",
      "Name: tavily_search\n",
      "\n",
      "{\"query\": \"current weather in Shenzhen\", \"follow_up_questions\": null, \"answer\": null, \"images\": [], \"results\": [{\"title\": \"Weather in Shenzhen\", \"url\": \"https://www.weatherapi.com/\", \"content\": \"{'location': {'name': 'Shenzhen', 'region': 'Guangdong', 'country': 'China', 'lat': 22.5333, 'lon': 114.1333, 'tz_id': 'Asia/Shanghai', 'localtime_epoch': 1756652407, 'localtime': '2025-08-31 23:00'}, 'current': {'last_updated_epoch': 1756652400, 'last_updated': '2025-08-31 23:00', 'temp_c': 29.3, 'temp_f': 84.7, 'is_day': 0, 'condition': {'text': 'Partly Cloudy', 'icon': '//cdn.weatherapi.com/weather/64x64/night/116.png', 'code': 1003}, 'wind_mph': 3.8, 'wind_kph': 6.1, 'wind_degree': 120, 'wind_dir': 'ESE', 'pressure_mb': 1009.0, 'pressure_in': 29.8, 'precip_mm': 0.0, 'precip_in': 0.0, 'humidity': 79, 'cloud': 25, 'feelslike_c': 34.4, 'feelslike_f': 93.9, 'windchill_c': 26.9, 'windchill_f': 80.4, 'heatindex_c': 29.5, 'heatindex_f': 85.1, 'dewpoint_c': 22.1, 'dewpoint_f': 71.7, 'vis_km': 10.0, 'vis_miles': 6.0, 'uv': 0.0, 'gust_mph': 6.2, 'gust_kph': 9.9}}\", \"score\": 0.939312, \"raw_content\": null}, {\"url\": \"https://www.weatherbug.com/weather-forecast/now/shenzhen-guangdong-ch\", \"title\": \"Shenzhen, GUANGDONG | Weather Forecasts Now, Live Radar ...\", \"content\": \"Today's Weather - Shenzhen, CHN. August 31, 2025 2:40 PM. WeatherBug. 84°. Feels Like 93°. Hi 85°F Lo 81°F. 40% Chance Rain Showers.\", \"score\": 0.93911994, \"raw_content\": null}], \"response_time\": 1.66, \"request_id\": \"5b04b087-8261-4bde-b7e9-0095bdc50c4b\"}\n",
      "==================================\u001b[1m Ai Message \u001b[0m==================================\n",
      "\n",
      "The current weather in Shenzhen is about 29°C (84°F), partly cloudy, with a \"feels like\" temperature of 34.4°C (93.9°F). Humidity is high at 79%, and there is a light ESE wind at 6.1 kph. There is a 40% chance of rain showers, with temperatures ranging between 27°C (81°F) and 29°C (85°F) today.\n",
      "\n",
      "For live updates, you can visit WeatherBug or WeatherAPI.\n"
     ]
    }
   ],
   "source": [
    "from langgraph.prebuilt import create_react_agent\n",
    "\n",
    "# 创建代理\n",
    "agent_executor = create_react_agent(model, tools)\n",
    "\n",
    "# 运行代理\n",
    "input_message = {\"role\": \"user\", \"content\": \"Hi!\"}\n",
    "response = agent_executor.invoke({\"messages\": [input_message]})\n",
    "\n",
    "for message in response[\"messages\"]:\n",
    "    message.pretty_print()\n",
    "\n",
    "# 调用工具\n",
    "input_message = {\"role\": \"user\", \"content\": \"Search for the weather in shenzhen\"}\n",
    "response = agent_executor.invoke({\"messages\": [input_message]})\n",
    "\n",
    "for message in response[\"messages\"]:\n",
    "    message.pretty_print()"
   ]
  },
  {
   "cell_type": "code",
   "execution_count": 12,
   "id": "c2fada13",
   "metadata": {},
   "outputs": [
    {
     "name": "stdout",
     "output_type": "stream",
     "text": [
      "================================\u001b[1m Human Message \u001b[0m=================================\n",
      "\n",
      "Search for the weather in shenzhen\n",
      "==================================\u001b[1m Ai Message \u001b[0m==================================\n",
      "Tool Calls:\n",
      "  tavily_search (call_UYX5jD6qdpt9cjC1IKJkeisi)\n",
      " Call ID: call_UYX5jD6qdpt9cjC1IKJkeisi\n",
      "  Args:\n",
      "    query: current weather in Shenzhen\n",
      "    search_depth: basic\n",
      "=================================\u001b[1m Tool Message \u001b[0m=================================\n",
      "Name: tavily_search\n",
      "\n",
      "{\"query\": \"current weather in Shenzhen\", \"follow_up_questions\": null, \"answer\": null, \"images\": [], \"results\": [{\"title\": \"Weather in Shenzhen\", \"url\": \"https://www.weatherapi.com/\", \"content\": \"{'location': {'name': 'Shenzhen', 'region': 'Guangdong', 'country': 'China', 'lat': 22.5333, 'lon': 114.1333, 'tz_id': 'Asia/Shanghai', 'localtime_epoch': 1756652407, 'localtime': '2025-08-31 23:00'}, 'current': {'last_updated_epoch': 1756652400, 'last_updated': '2025-08-31 23:00', 'temp_c': 29.3, 'temp_f': 84.7, 'is_day': 0, 'condition': {'text': 'Partly Cloudy', 'icon': '//cdn.weatherapi.com/weather/64x64/night/116.png', 'code': 1003}, 'wind_mph': 3.8, 'wind_kph': 6.1, 'wind_degree': 120, 'wind_dir': 'ESE', 'pressure_mb': 1009.0, 'pressure_in': 29.8, 'precip_mm': 0.0, 'precip_in': 0.0, 'humidity': 79, 'cloud': 25, 'feelslike_c': 34.4, 'feelslike_f': 93.9, 'windchill_c': 26.9, 'windchill_f': 80.4, 'heatindex_c': 29.5, 'heatindex_f': 85.1, 'dewpoint_c': 22.1, 'dewpoint_f': 71.7, 'vis_km': 10.0, 'vis_miles': 6.0, 'uv': 0.0, 'gust_mph': 6.2, 'gust_kph': 9.9}}\", \"score\": 0.9529844, \"raw_content\": null}, {\"url\": \"https://www.timeanddate.com/weather/china/shenzhen\", \"title\": \"Weather for Shenzhen, Guangdong, China\", \"content\": \"Current weather in Shenzhen and forecast for today, tomorrow, and next 14 days. ... Aug 31, 2025 at 2:00 pm. Visibility: N/A. Pressure: 29.77 \\\"Hg. Humidity: 67\", \"score\": 0.91563576, \"raw_content\": null}], \"response_time\": 1.83, \"request_id\": \"f367c721-0afb-4f48-8208-22684d5c0450\"}\n",
      "==================================\u001b[1m Ai Message \u001b[0m==================================\n",
      "\n",
      "The current weather in Shenzhen is partly cloudy with a temperature of about 29°C (84.7°F). Humidity is around 79%, and it feels like 34.4°C (93.9°F). There is a gentle east-southeast wind at 6.1 kph. Visibility is good, and there is no significant precipitation at this time.\n",
      "\n",
      "For more details, you can check weather updates at WeatherAPI or Time and Date.\n"
     ]
    }
   ],
   "source": [
    "# 流式消息\n",
    "for step in agent_executor.stream({\"messages\": [input_message]}, stream_mode=\"values\"):\n",
    "    step[\"messages\"][-1].pretty_print()"
   ]
  },
  {
   "cell_type": "code",
   "execution_count": 13,
   "id": "02ba301e",
   "metadata": {},
   "outputs": [
    {
     "name": "stdout",
     "output_type": "stream",
     "text": [
      "The| current| weather| in| Shenzhen|:\n",
      "\n",
      "|-| Temperature|:| |29|.|3|°C| (|84|.|7|°F|)\n",
      "|-| Condition|:| Clear|\n",
      "|-| Hum|idity|:| |79|%\n",
      "|-| Wind|:| |6|.|5| km|/h| (|E|SE| direction|)\n",
      "|-| Fe|els| like|:| |34|°C| (|93|.|2|°F|)\n",
      "|-| Pressure|:| |100|9| mb|\n",
      "|-| Visibility|:| |10| km|\n",
      "\n",
      "|Source|:| Weather|API|\n",
      "\n",
      "|If| you| need| more| details| or| a| forecast|,| let| me| know|!|"
     ]
    }
   ],
   "source": [
    "for step, metadata in agent_executor.stream(\n",
    "    {\"messages\": [input_message]}, stream_mode=\"messages\"\n",
    "):\n",
    "    if metadata[\"langgraph_node\"] == \"agent\" and (text := step.text()):\n",
    "        print(text, end=\"|\")"
   ]
  },
  {
   "cell_type": "code",
   "execution_count": 14,
   "id": "6d871b91",
   "metadata": {},
   "outputs": [
    {
     "name": "stdout",
     "output_type": "stream",
     "text": [
      "================================\u001b[1m Human Message \u001b[0m=================================\n",
      "\n",
      "Hi, I'm Bob!\n",
      "==================================\u001b[1m Ai Message \u001b[0m==================================\n",
      "\n",
      "Hi Bob! 👋 How can I help you today?\n"
     ]
    }
   ],
   "source": [
    "# 添加到内存\n",
    "from langgraph.checkpoint.memory import MemorySaver\n",
    "\n",
    "memory = MemorySaver()\n",
    "\n",
    "agent_executor = create_react_agent(model, tools, checkpointer=memory)\n",
    "\n",
    "config = {\"configurable\": {\"thread_id\": \"abc123\"}}\n",
    "\n",
    "input_message = {\"role\": \"user\", \"content\": \"Hi, I'm Bob!\"}\n",
    "for step in agent_executor.stream(\n",
    "    {\"messages\": [input_message]}, config, stream_mode=\"values\"\n",
    "):\n",
    "    step[\"messages\"][-1].pretty_print()"
   ]
  },
  {
   "cell_type": "code",
   "execution_count": 15,
   "id": "dc5e4ebb",
   "metadata": {},
   "outputs": [
    {
     "name": "stdout",
     "output_type": "stream",
     "text": [
      "================================\u001b[1m Human Message \u001b[0m=================================\n",
      "\n",
      "What's my name?\n",
      "==================================\u001b[1m Ai Message \u001b[0m==================================\n",
      "\n",
      "Your name is Bob!\n"
     ]
    }
   ],
   "source": [
    "input_message = {\"role\": \"user\", \"content\": \"What's my name?\"}\n",
    "for step in agent_executor.stream(\n",
    "    {\"messages\": [input_message]}, config, stream_mode=\"values\"\n",
    "):\n",
    "    step[\"messages\"][-1].pretty_print()"
   ]
  },
  {
   "cell_type": "code",
   "execution_count": 16,
   "id": "5f1552ae",
   "metadata": {},
   "outputs": [
    {
     "name": "stdout",
     "output_type": "stream",
     "text": [
      "================================\u001b[1m Human Message \u001b[0m=================================\n",
      "\n",
      "What's my name?\n",
      "==================================\u001b[1m Ai Message \u001b[0m==================================\n",
      "\n",
      "You haven’t told me your name yet. If you’d like me to remember it or use it in our conversation, please let me know!\n"
     ]
    }
   ],
   "source": [
    "config = {\"configurable\": {\"thread_id\": \"xyz123\"}}\n",
    "\n",
    "input_message = {\"role\": \"user\", \"content\": \"What's my name?\"}\n",
    "for step in agent_executor.stream(\n",
    "    {\"messages\": [input_message]}, config, stream_mode=\"values\"\n",
    "):\n",
    "    step[\"messages\"][-1].pretty_print()"
   ]
  },
  {
   "cell_type": "markdown",
   "id": "0013effe",
   "metadata": {},
   "source": []
  }
 ],
 "metadata": {
  "kernelspec": {
   "display_name": "py310",
   "language": "python",
   "name": "python3"
  },
  "language_info": {
   "codemirror_mode": {
    "name": "ipython",
    "version": 3
   },
   "file_extension": ".py",
   "mimetype": "text/x-python",
   "name": "python",
   "nbconvert_exporter": "python",
   "pygments_lexer": "ipython3",
   "version": "3.10.18"
  }
 },
 "nbformat": 4,
 "nbformat_minor": 5
}
