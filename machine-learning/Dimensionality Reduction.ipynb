{
 "cells": [
  {
   "cell_type": "markdown",
   "metadata": {},
   "source": [
    "# 机器学习之特征降维"
   ]
  },
  {
   "cell_type": "code",
   "execution_count": null,
   "metadata": {},
   "outputs": [],
   "source": [
    "import numpy as np\n",
    "import pandas as pd\n",
    "import matplotlib.pyplot as plt\n",
    "import seaborn as sns\n",
    "from sklearn.decomposition import PCA\n",
    "from sklearn.preprocessing import StandardScaler\n",
    "\n",
    "# 生成模拟房价数据（假设有 6 个特征）\n",
    "np.random.seed(42)\n",
    "data = {\n",
    "    'Area': np.random.randint(50, 200, 100),         # 房屋面积（平方米）\n",
    "    'Rooms': np.random.randint(1, 6, 100),           # 房间数量\n",
    "    'Floor': np.random.randint(1, 30, 100),          # 楼层\n",
    "    'YearBuilt': np.random.randint(1980, 2022, 100), # 建成年份\n",
    "    'GreenRate': np.random.uniform(0.1, 0.8, 100),   # 绿化率\n",
    "    'Transport': np.random.randint(1, 10, 100)       # 交通便利性（评分 1-10）\n",
    "}\n",
    "df = pd.DataFrame(data)\n",
    "\n",
    "# 添加模拟房价（目标变量，仅用于可视化）\n",
    "df['Price'] = df['Area'] * 300 + df['Rooms'] * 50000 - df['Floor'] * 1000 + np.random.randint(-5000, 5000, 100)\n",
    "\n",
    "# 标准化数据（PCA 受量纲影响）\n",
    "scaler = StandardScaler()\n",
    "X_scaled = scaler.fit_transform(df.drop(columns=['Price']))\n",
    "\n",
    "# 使用 PCA 降维到 2 维\n",
    "pca = PCA(n_components=2)\n",
    "X_pca = pca.fit_transform(X_scaled)\n",
    "\n",
    "# 查看主成分贡献度\n",
    "explained_variance = pca.explained_variance_ratio_\n",
    "print(\"PCA 解释的方差比例:\", explained_variance)\n",
    "\n",
    "# 查看主成分与原始特征的关系\n",
    "components = pd.DataFrame(pca.components_, columns=df.drop(columns=['Price']).columns, index=['PC1', 'PC2'])\n",
    "print(\"\\nPCA 主成分矩阵:\")\n",
    "print(components)\n",
    "\n",
    "# 可视化降维后的数据，颜色表示房价\n",
    "plt.figure(figsize=(8, 6))\n",
    "scatter = plt.scatter(X_pca[:, 0], X_pca[:, 1], c=df['Price'], cmap='coolwarm', edgecolor='k')\n",
    "plt.xlabel('Principal Component 1')\n",
    "plt.ylabel('Principal Component 2')\n",
    "plt.title('PCA: Housing Data Reduced to 2D (Color = Price)')\n",
    "plt.colorbar(scatter, label=\"Price\")\n",
    "plt.grid(True)\n",
    "plt.show()\n",
    "\n",
    "# 可视化主成分贡献度\n",
    "plt.figure(figsize=(8, 4))\n",
    "plt.bar(['PC1', 'PC2'], explained_variance * 100, color=['blue', 'orange'])\n",
    "plt.xlabel('Principal Components')\n",
    "plt.ylabel('Explained Variance (%)')\n",
    "plt.title('PCA Explained Variance')\n",
    "plt.show()\n",
    "\n",
    "# 输出降维后的数据前 5 行\n",
    "pca_df = pd.DataFrame(X_pca, columns=['PC1', 'PC2'])\n",
    "pca_df['Price'] = df['Price']\n",
    "print(pca_df.head())"
   ]
  }
 ],
 "metadata": {
  "kernelspec": {
   "display_name": "python_3.13.2",
   "language": "python",
   "name": "python3"
  },
  "language_info": {
   "codemirror_mode": {
    "name": "ipython",
    "version": 3
   },
   "file_extension": ".py",
   "mimetype": "text/x-python",
   "name": "python",
   "nbconvert_exporter": "python",
   "pygments_lexer": "ipython3",
   "version": "3.13.2"
  }
 },
 "nbformat": 4,
 "nbformat_minor": 2
}
