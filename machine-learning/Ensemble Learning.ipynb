{
 "cells": [
  {
   "cell_type": "code",
   "execution_count": null,
   "metadata": {},
   "outputs": [],
   "source": [
    "# 导入所需的库\n",
    "import numpy as np\n",
    "import matplotlib.pyplot as plt\n",
    "from sklearn.datasets import make_classification\n",
    "from sklearn.model_selection import train_test_split\n",
    "from sklearn.ensemble import RandomForestClassifier, GradientBoostingClassifier\n",
    "from sklearn.metrics import accuracy_score\n",
    "\n",
    "# 生成一个模拟数据集：1000个样本，20个特征，2个分类\n",
    "X, y = make_classification(n_samples=1000, n_features=20, n_informative=15, n_classes=2, random_state=42)\n",
    "\n",
    "# 将数据集划分为训练集和测试集（80%训练，20%测试）\n",
    "X_train, X_test, y_train, y_test = train_test_split(X, y, test_size=0.2, random_state=42)\n",
    "\n",
    "# 训练随机森林（Bagging方法）\n",
    "rf_model = RandomForestClassifier(n_estimators=100, random_state=42)\n",
    "rf_model.fit(X_train, y_train)\n",
    "rf_pred = rf_model.predict(X_test)\n",
    "\n",
    "# 训练梯度提升树（Boosting方法）\n",
    "gbdt_model = GradientBoostingClassifier(n_estimators=100, learning_rate=0.1, random_state=42)\n",
    "gbdt_model.fit(X_train, y_train)\n",
    "gbdt_pred = gbdt_model.predict(X_test)\n",
    "\n",
    "# 计算两种模型的准确率\n",
    "rf_acc = accuracy_score(y_test, rf_pred)\n",
    "gbdt_acc = accuracy_score(y_test, gbdt_pred)\n",
    "\n",
    "print(f\"随机森林（Bagging）准确率: {rf_acc:.4f}\")\n",
    "print(f\"梯度提升树（Boosting）准确率: {gbdt_acc:.4f}\")\n",
    "\n",
    "# 可视化比较两种模型的准确率\n",
    "labels = ['Random Forest', 'Gradient Boosting']\n",
    "accuracies = [rf_acc, gbdt_acc]\n",
    "\n",
    "plt.bar(labels, accuracies, color=['blue', 'green'])\n",
    "plt.ylabel('Accuracy')\n",
    "plt.title('Comparison of Bagging and Boosting')\n",
    "plt.show()\n"
   ]
  }
 ],
 "metadata": {
  "kernelspec": {
   "display_name": "python_3.13.2",
   "language": "python",
   "name": "python3"
  },
  "language_info": {
   "codemirror_mode": {
    "name": "ipython",
    "version": 3
   },
   "file_extension": ".py",
   "mimetype": "text/x-python",
   "name": "python",
   "nbconvert_exporter": "python",
   "pygments_lexer": "ipython3",
   "version": "3.13.2"
  }
 },
 "nbformat": 4,
 "nbformat_minor": 2
}
