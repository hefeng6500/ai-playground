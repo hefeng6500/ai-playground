{
 "cells": [
  {
   "cell_type": "markdown",
   "metadata": {},
   "source": [
    "# 使用 scikit-learn 实现线性回归"
   ]
  },
  {
   "cell_type": "code",
   "execution_count": null,
   "metadata": {},
   "outputs": [],
   "source": [
    "from sklearn.linear_model import LinearRegression\n",
    "import numpy as np\n",
    "import matplotlib.pyplot as plt\n",
    "\n",
    "# 生成相同的示例数据\n",
    "np.random.seed(42)\n",
    "m = 100\n",
    "X = 2 * np.random.rand(m, 1)\n",
    "y = 2 + 3 * X + np.random.randn(m, 1)\n",
    "\n",
    "# 创建并训练线性回归模型\n",
    "lin_reg = LinearRegression()\n",
    "lin_reg.fit(X, y)\n",
    "\n",
    "print(\"使用 scikit-learn 训练的参数：\")\n",
    "print(\"截距：\", lin_reg.intercept_[0])\n",
    "print(\"斜率：\", lin_reg.coef_[0][0])\n",
    "\n",
    "# 预测结果\n",
    "y_pred = lin_reg.predict(X)\n",
    "\n",
    "# 可视化\n",
    "plt.scatter(X, y, color=\"blue\", label=\"数据点\")\n",
    "plt.plot(X, y_pred, color=\"red\", label=\"拟合直线\")\n",
    "plt.xlabel(\"X\")\n",
    "plt.ylabel(\"y\")\n",
    "plt.legend()\n",
    "plt.show()\n"
   ]
  }
 ],
 "metadata": {
  "kernelspec": {
   "display_name": "python_3.13.2",
   "language": "python",
   "name": "python3"
  },
  "language_info": {
   "codemirror_mode": {
    "name": "ipython",
    "version": 3
   },
   "file_extension": ".py",
   "mimetype": "text/x-python",
   "name": "python",
   "nbconvert_exporter": "python",
   "pygments_lexer": "ipython3",
   "version": "3.13.2"
  }
 },
 "nbformat": 4,
 "nbformat_minor": 2
}
