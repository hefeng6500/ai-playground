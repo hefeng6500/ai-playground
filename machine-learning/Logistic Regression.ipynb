{
 "cells": [
  {
   "cell_type": "markdown",
   "metadata": {},
   "source": [
    "# 逻辑回归（Logistic Regression）深度解读"
   ]
  },
  {
   "cell_type": "code",
   "execution_count": null,
   "metadata": {},
   "outputs": [],
   "source": [
    "from sklearn.linear_model import LogisticRegression\n",
    "from sklearn.model_selection import train_test_split\n",
    "from sklearn.datasets import make_classification\n",
    "\n",
    "# 生成模拟数据（1000 个样本，5 个特征）,n_samples表示样本数，n_features表示特征数,random_state表示随机种子\n",
    "X, y = make_classification(n_samples=1000, n_features=5, random_state=42)\n",
    "\n",
    "# 拆分训练集和测试集\n",
    "X_train, X_test, y_train, y_test = train_test_split(X, y, test_size=0.2, random_state=42)\n",
    "\n",
    "# 训练逻辑回归模型\n",
    "model = LogisticRegression()\n",
    "model.fit(X_train, y_train)\n",
    "\n",
    "# 预测\n",
    "accuracy = model.score(X_test, y_test)\n",
    "print(\"模型准确率:\", accuracy)\n"
   ]
  },
  {
   "cell_type": "markdown",
   "metadata": {},
   "source": [
    "## 1. 可视化 Sigmoid 函数\n",
    "Sigmoid 函数是逻辑回归的核心，它将输入值转换成 0 到 1 之间的概率。\n",
    "\n",
    "可视化效果：\n",
    "\n",
    "- Sigmoid 函数把输入 z 变换到 (0,1) 之间。\n",
    "- 当z = 0, 输出为 0.5。\n",
    "- 这个函数决定了逻辑回归如何分类。"
   ]
  },
  {
   "cell_type": "code",
   "execution_count": null,
   "metadata": {},
   "outputs": [],
   "source": [
    "import numpy as np\n",
    "import matplotlib.pyplot as plt\n",
    "\n",
    "# 定义 Sigmoid 函数\n",
    "def sigmoid(z):\n",
    "    return 1 / (1 + np.exp(-z))\n",
    "\n",
    "# 生成 z 值\n",
    "z = np.linspace(-10, 10, 100)\n",
    "sigma = sigmoid(z)\n",
    "\n",
    "# 画出 Sigmoid 函数曲线\n",
    "plt.plot(z, sigma, label=\"Sigmoid Function\")\n",
    "plt.xlabel(\"z\")\n",
    "plt.ylabel(\"σ(z)\")\n",
    "plt.title(\"Sigmoid Function\")\n",
    "plt.axvline(0, color='black', linestyle='--')  # z=0 的位置\n",
    "plt.axhline(0.5, color='red', linestyle='--')  # 概率=0.5 的位置\n",
    "plt.legend()\n",
    "plt.show()\n"
   ]
  },
  {
   "cell_type": "markdown",
   "metadata": {},
   "source": [
    "## 2. 逻辑回归的决策边界\n",
    "逻辑回归的决策边界是一个直线（对于 2D 数据），它把数据分成两个类别。\n",
    "\n",
    "可视化效果：\n",
    "- 颜色表示类别 0 和 1。\n",
    "- 逻辑回归学习到的决策边界是一条直线。\n",
    "- 直线把两个类别的数据点尽量分开。"
   ]
  },
  {
   "cell_type": "code",
   "execution_count": null,
   "metadata": {},
   "outputs": [],
   "source": [
    "import numpy as np\n",
    "import matplotlib.pyplot as plt\n",
    "from sklearn.linear_model import LogisticRegression\n",
    "from sklearn.datasets import make_classification\n",
    "\n",
    "# 生成 2D 分类数据\n",
    "X, y = make_classification(n_samples=100, n_features=2, n_classes=2, n_redundant=0, random_state=42)\n",
    "\n",
    "# 训练逻辑回归模型\n",
    "model = LogisticRegression()\n",
    "model.fit(X, y)\n",
    "\n",
    "# 画出数据点\n",
    "plt.scatter(X[:, 0], X[:, 1], c=y, cmap='coolwarm', edgecolors='k')\n",
    "\n",
    "# 画出决策边界\n",
    "x_min, x_max = X[:, 0].min() - 1, X[:, 0].max() + 1\n",
    "y_min, y_max = X[:, 1].min() - 1, X[:, 1].max() + 1\n",
    "xx, yy = np.meshgrid(np.linspace(x_min, x_max, 100), np.linspace(y_min, y_max, 100))\n",
    "Z = model.predict(np.c_[xx.ravel(), yy.ravel()]).reshape(xx.shape)\n",
    "\n",
    "plt.contourf(xx, yy, Z, alpha=0.3, cmap='coolwarm')  # 画出背景颜色\n",
    "plt.xlabel(\"Feature 1\")\n",
    "plt.ylabel(\"Feature 2\")\n",
    "plt.title(\"Logistic Regression Decision Boundary\")\n",
    "plt.show()\n"
   ]
  },
  {
   "cell_type": "markdown",
   "metadata": {},
   "source": [
    "## 3. 逻辑回归的损失函数变化\n",
    "\n",
    "逻辑回归的优化过程是用梯度下降算法最小化损失函数。我们可以绘制损失值随迭代次数的变化情况。"
   ]
  },
  {
   "cell_type": "code",
   "execution_count": null,
   "metadata": {},
   "outputs": [],
   "source": [
    "import numpy as np\n",
    "import matplotlib.pyplot as plt\n",
    "from sklearn.linear_model import LogisticRegression\n",
    "from sklearn.datasets import make_classification\n",
    "from sklearn.metrics import log_loss\n",
    "\n",
    "# 生成 2D 数据\n",
    "X, y = make_classification(n_samples=100, n_features=2, n_classes=2, n_redundant=0, random_state=42)\n",
    "\n",
    "# 训练逻辑回归，并记录损失\n",
    "model = LogisticRegression(max_iter=1, solver='lbfgs')  # 初始 max_iter 设为 1\n",
    "losses = []\n",
    "\n",
    "for i in range(1, 101):  # 训练 100 次\n",
    "    model.set_params(max_iter=i)\n",
    "    model.fit(X, y)\n",
    "    # 手动计算对数损失\n",
    "    y_pred_proba = model.predict_proba(X)\n",
    "    loss = log_loss(y, y_pred_proba)\n",
    "    losses.append(loss)\n",
    "\n",
    "# 画出损失函数下降曲线\n",
    "plt.plot(range(1, 101), losses, marker='o', linestyle='-')\n",
    "plt.xlabel(\"Iterations\")\n",
    "plt.ylabel(\"Loss\")\n",
    "plt.title(\"Loss Function Curve\")\n",
    "plt.show()"
   ]
  },
  {
   "cell_type": "markdown",
   "metadata": {},
   "source": [
    "## 4. 高维数据的决策边界\n",
    "\n",
    "对于高维数据，我们可以用等高线图（contour）来可视化逻辑回归的分类效果。"
   ]
  },
  {
   "cell_type": "code",
   "execution_count": null,
   "metadata": {},
   "outputs": [],
   "source": [
    "import numpy as np\n",
    "import matplotlib.pyplot as plt\n",
    "from sklearn.linear_model import LogisticRegression\n",
    "from sklearn.datasets import make_classification\n",
    "\n",
    "# 生成 2D 数据\n",
    "X, y = make_classification(n_samples=200, n_features=2, n_classes=2, n_redundant=0, random_state=42)\n",
    "\n",
    "# 训练逻辑回归\n",
    "model = LogisticRegression()\n",
    "model.fit(X, y)\n",
    "\n",
    "# 生成等高线网格\n",
    "x_min, x_max = X[:, 0].min() - 1, X[:, 0].max() + 1\n",
    "y_min, y_max = X[:, 1].min() - 1, X[:, 1].max() + 1\n",
    "xx, yy = np.meshgrid(np.linspace(x_min, x_max, 200), np.linspace(y_min, y_max, 200))\n",
    "Z = model.predict(np.c_[xx.ravel(), yy.ravel()]).reshape(xx.shape)\n",
    "\n",
    "# 画出数据点\n",
    "plt.scatter(X[:, 0], X[:, 1], c=y, cmap='coolwarm', edgecolors='k')\n",
    "\n",
    "# 画出决策边界\n",
    "plt.contour(xx, yy, Z, levels=[0.5], linewidths=2, colors='black')\n",
    "plt.xlabel(\"Feature 1\")\n",
    "plt.ylabel(\"Feature 2\")\n",
    "plt.title(\"Logistic Regression Decision Boundary with Contour\")\n",
    "plt.show()\n"
   ]
  },
  {
   "cell_type": "markdown",
   "metadata": {},
   "source": []
  }
 ],
 "metadata": {
  "kernelspec": {
   "display_name": "python_3.13.2",
   "language": "python",
   "name": "python3"
  },
  "language_info": {
   "codemirror_mode": {
    "name": "ipython",
    "version": 3
   },
   "file_extension": ".py",
   "mimetype": "text/x-python",
   "name": "python",
   "nbconvert_exporter": "python",
   "pygments_lexer": "ipython3",
   "version": "3.13.2"
  }
 },
 "nbformat": 4,
 "nbformat_minor": 2
}
