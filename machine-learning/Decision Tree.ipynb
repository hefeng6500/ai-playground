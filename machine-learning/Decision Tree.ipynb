{
 "cells": [
  {
   "cell_type": "markdown",
   "metadata": {},
   "source": [
    "# 决策树在 Python 中的实现"
   ]
  },
  {
   "cell_type": "code",
   "execution_count": null,
   "metadata": {},
   "outputs": [],
   "source": [
    "from sklearn.datasets import load_iris\n",
    "from sklearn.tree import DecisionTreeClassifier\n",
    "from sklearn import tree\n",
    "import matplotlib.pyplot as plt\n",
    "\n",
    "# 加载数据\n",
    "iris = load_iris()\n",
    "X, y = iris.data, iris.target\n",
    "\n",
    "# 训练决策树\n",
    "clf = DecisionTreeClassifier(criterion=\"gini\", max_depth=3)\n",
    "clf.fit(X, y)\n",
    "\n",
    "# 可视化决策树\n",
    "plt.figure(figsize=(12, 8))\n",
    "tree.plot_tree(clf, filled=True, feature_names=iris.feature_names, class_names=iris.target_names)\n",
    "plt.show()\n"
   ]
  },
  {
   "cell_type": "markdown",
   "metadata": {},
   "source": [
    "# 基于快递公司的数据，使用决策树算法进行分类"
   ]
  },
  {
   "cell_type": "code",
   "execution_count": null,
   "metadata": {},
   "outputs": [],
   "source": [
    "import pandas as pd\n",
    "from sklearn.tree import DecisionTreeClassifier, plot_tree\n",
    "from sklearn.model_selection import train_test_split\n",
    "from sklearn.preprocessing import LabelEncoder\n",
    "from sklearn.metrics import accuracy_score, confusion_matrix\n",
    "import matplotlib.pyplot as plt\n",
    "\n",
    "# 创建示例数据集（特征：交通情况、天气、快递员经验；标签：是否准时）\n",
    "data = {\n",
    "    '交通情况': ['拥堵', '一般', '畅通', '拥堵', '一般', '畅通', '拥堵', '一般', '畅通', '拥堵'],\n",
    "    '天气': ['雨天', '雨天', '晴天', '晴天', '雨天', '晴天', '雨天', '晴天', '晴天', '雨天'],\n",
    "    '快递员经验': ['低', '中', '高', '中', '低', '高', '中', '高', '低', '高'],\n",
    "    '准时到达': ['否', '否', '是', '是', '否', '是', '否', '是', '是', '否']\n",
    "}\n",
    "df = pd.DataFrame(data)\n",
    "\n",
    "# 分类特征编码, LabelEncoder 会扫描数据列中的所有唯一值，​按首次出现的顺序自动分配数字：\n",
    "le = LabelEncoder()\n",
    "df['交通情况'] = le.fit_transform(df['交通情况'])  # 拥堵:0, 一般:1, 畅通:2\n",
    "df['天气'] = le.fit_transform(df['天气'])        # 雨天:0, 晴天:1\n",
    "df['快递员经验'] = le.fit_transform(df['快递员经验']) # 低:0, 中:1, 高:2\n",
    "df['准时到达'] = le.fit_transform(df['准时到达'])   # 否:0, 是:1\n",
    "\n",
    "# 拆分特征和标签\n",
    "X = df.drop('准时到达', axis=1)\n",
    "\n",
    "y = df['准时到达']\n",
    "\n",
    "# 划分训练集和测试集\n",
    "X_train, X_test, y_train, y_test = train_test_split(X, y, test_size=0.2, random_state=42)\n",
    "\n",
    "# 创建决策树模型（使用信息增益作为分裂标准）\n",
    "model = DecisionTreeClassifier(criterion='entropy', max_depth=3)\n",
    "model.fit(X_train, y_train)\n",
    "\n",
    "# 预测与评估\n",
    "y_pred = model.predict(X_test)\n",
    "print(\"测试集准确率:\", accuracy_score(y_test, y_pred))\n",
    "print(\"混淆矩阵:\\n\", confusion_matrix(y_test, y_pred))\n",
    "\n",
    "# 绘制决策树\n",
    "plt.figure(figsize=(12,8))\n",
    "plot_tree(model, \n",
    "          feature_names=['Traffic', 'Weather', 'Experience'],\n",
    "          class_names=['Delay', 'OnTime'],\n",
    "          filled=True, \n",
    "          rounded=True)\n",
    "plt.show()"
   ]
  }
 ],
 "metadata": {
  "kernelspec": {
   "display_name": "python_3.13.2",
   "language": "python",
   "name": "python3"
  },
  "language_info": {
   "codemirror_mode": {
    "name": "ipython",
    "version": 3
   },
   "file_extension": ".py",
   "mimetype": "text/x-python",
   "name": "python",
   "nbconvert_exporter": "python",
   "pygments_lexer": "ipython3",
   "version": "3.13.2"
  }
 },
 "nbformat": 4,
 "nbformat_minor": 2
}
