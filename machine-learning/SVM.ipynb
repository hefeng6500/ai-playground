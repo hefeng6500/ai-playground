{
 "cells": [
  {
   "cell_type": "markdown",
   "metadata": {},
   "source": [
    "# 支持向量机"
   ]
  },
  {
   "cell_type": "code",
   "execution_count": null,
   "metadata": {},
   "outputs": [],
   "source": [
    "import numpy as np\n",
    "import matplotlib.pyplot as plt\n",
    "from sklearn.svm import SVC\n",
    "from sklearn.datasets import make_classification\n",
    "\n",
    "# 生成二维分类数据\n",
    "X, y = make_classification(n_samples=100, n_features=2, n_classes=2, \n",
    "                           n_clusters_per_class=1, n_redundant=0, random_state=42)\n",
    "\n",
    "# 训练 SVM 模型\n",
    "svm_model = SVC(kernel='linear', C=1.0)  # 这里使用线性核\n",
    "svm_model.fit(X, y)\n",
    "\n",
    "# 获取决策边界\n",
    "w = svm_model.coef_[0]\n",
    "b = svm_model.intercept_[0]\n",
    "x_vals = np.linspace(X[:, 0].min(), X[:, 0].max(), 100)\n",
    "y_vals = -(w[0] * x_vals + b) / w[1]  # 计算决策边界\n",
    "\n",
    "# 绘制数据点\n",
    "plt.scatter(X[y == 0][:, 0], X[y == 0][:, 1], color='red', label='Class 0')\n",
    "plt.scatter(X[y == 1][:, 0], X[y == 1][:, 1], color='blue', label='Class 1')\n",
    "\n",
    "# 绘制 SVM 决策边界\n",
    "plt.plot(x_vals, y_vals, 'k-', label='Decision Boundary')\n",
    "\n",
    "# 绘制支持向量\n",
    "support_vectors = svm_model.support_vectors_\n",
    "plt.scatter(support_vectors[:, 0], support_vectors[:, 1], \n",
    "            s=100, facecolors='none', edgecolors='black', label='Support Vectors')\n",
    "\n",
    "plt.legend()\n",
    "plt.title('SVM Decision Boundary in 2D')\n",
    "plt.xlabel('Feature 1')\n",
    "plt.ylabel('Feature 2')\n",
    "plt.show()\n"
   ]
  },
  {
   "cell_type": "code",
   "execution_count": null,
   "metadata": {},
   "outputs": [],
   "source": [
    "import numpy as np\n",
    "import matplotlib.pyplot as plt\n",
    "from mpl_toolkits.mplot3d import Axes3D\n",
    "from sklearn.svm import SVC\n",
    "from sklearn.datasets import make_classification\n",
    "\n",
    "# 生成三维分类数据\n",
    "X, y = make_classification(n_samples=100, n_features=3, n_classes=2, \n",
    "                           n_clusters_per_class=1, n_redundant=0, random_state=42)\n",
    "\n",
    "# 训练 SVM 模型（使用线性核）\n",
    "svm_model = SVC(kernel='linear', C=1.0)\n",
    "svm_model.fit(X, y)\n",
    "\n",
    "# 获取决策平面参数\n",
    "w = svm_model.coef_[0]  # w1, w2, w3\n",
    "b = svm_model.intercept_[0]\n",
    "\n",
    "# 创建 3D 图像\n",
    "fig = plt.figure(figsize=(8, 6))\n",
    "ax = fig.add_subplot(111, projection='3d')\n",
    "\n",
    "# 绘制数据点\n",
    "ax.scatter(X[y == 0][:, 0], X[y == 0][:, 1], X[y == 0][:, 2], color='red', label='Class 0')\n",
    "ax.scatter(X[y == 1][:, 0], X[y == 1][:, 1], X[y == 1][:, 2], color='blue', label='Class 1')\n",
    "\n",
    "# 生成网格点，用于绘制决策平面\n",
    "x_vals = np.linspace(X[:, 0].min(), X[:, 0].max(), 10)\n",
    "y_vals = np.linspace(X[:, 1].min(), X[:, 1].max(), 10)\n",
    "X_grid, Y_grid = np.meshgrid(x_vals, y_vals)\n",
    "\n",
    "# 计算 Z = -(w1*x + w2*y + b) / w3\n",
    "Z_grid = -(w[0] * X_grid + w[1] * Y_grid + b) / w[2]\n",
    "\n",
    "# 绘制决策平面\n",
    "ax.plot_surface(X_grid, Y_grid, Z_grid, color='gray', alpha=0.5)\n",
    "\n",
    "# 设置坐标轴\n",
    "ax.set_xlabel('Feature 1')\n",
    "ax.set_ylabel('Feature 2')\n",
    "ax.set_zlabel('Feature 3')\n",
    "ax.set_title('SVM Decision Boundary in 3D')\n",
    "ax.legend()\n",
    "plt.show()\n"
   ]
  }
 ],
 "metadata": {
  "kernelspec": {
   "display_name": "python_3.13.2",
   "language": "python",
   "name": "python3"
  },
  "language_info": {
   "codemirror_mode": {
    "name": "ipython",
    "version": 3
   },
   "file_extension": ".py",
   "mimetype": "text/x-python",
   "name": "python",
   "nbconvert_exporter": "python",
   "pygments_lexer": "ipython3",
   "version": "3.13.2"
  }
 },
 "nbformat": 4,
 "nbformat_minor": 2
}
